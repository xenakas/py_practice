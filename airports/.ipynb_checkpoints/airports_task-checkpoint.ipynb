{
 "cells": [
  {
   "cell_type": "markdown",
   "metadata": {},
   "source": [
    "# Самолеты-самолеты"
   ]
  },
  {
   "cell_type": "code",
   "execution_count": null,
   "metadata": {},
   "outputs": [],
   "source": [
    "import numpy as np\n",
    "import pandas as pd"
   ]
  },
  {
   "cell_type": "code",
   "execution_count": null,
   "metadata": {},
   "outputs": [],
   "source": [
    "airports = pd.read_csv('airports.csv',names = ['Airport ID','Name','City','Country','IATA','ICAO','Latitude','Longitude','Altitude','Timezone','DST','Tz_database_time_zone','Type','Source'])\n",
    "routes = pd.read_csv('routes.csv',names = ['Airline','Airport ID','Source airport','Source airport ID','Destination airport','Destination airport ID','Codeshare','Stops','Equipment'])"
   ]
  },
  {
   "cell_type": "markdown",
   "metadata": {},
   "source": [
    "Перечень стран Европы:"
   ]
  },
  {
   "cell_type": "code",
   "execution_count": null,
   "metadata": {},
   "outputs": [],
   "source": [
    "europe=np.array(['Belgium', 'Germany', 'Estonia', 'Finland', 'United Kingdom',\n",
    "'Guernsey', 'Jersey', 'Isle of Man', 'Netherlands', 'Ireland',\n",
    "'Denmark', 'Luxembourg', 'Norway', 'Poland', 'Sweden', 'Spain',\n",
    "'Albania', 'Bulgaria', 'Cyprus', 'Croatia', 'France', 'Greece',\n",
    "'Hungary', 'Italy', 'Slovenia', 'Czech Republic', 'Malta',\n",
    "'Austria', 'Portugal', 'Bosnia and Herzegovina', 'Romania',\n",
    "'Switzerland', 'Turkey', 'Moldova', 'Macedonia', 'Gibraltar',\n",
    "'Serbia', 'Montenegro', 'Slovakia', 'Ukraine', 'Russia', 'Belarus',\n",
    "'Latvia', 'Lithuania','Faroe Islands', 'Greenland', 'Iceland'])"
   ]
  },
  {
   "cell_type": "markdown",
   "metadata": {},
   "source": [
    "Отберем аэропорты для стран Европы имеющих трех буквенный код IATA:"
   ]
  },
  {
   "cell_type": "code",
   "execution_count": null,
   "metadata": {},
   "outputs": [],
   "source": [
    "airports = airports[(airports['IATA'].str.len() == 3) & (airports['Country'].isin(europe))]"
   ]
  },
  {
   "cell_type": "markdown",
   "metadata": {},
   "source": [
    "Пометим пропущенные данные, как ``np.nan`` "
   ]
  },
  {
   "cell_type": "code",
   "execution_count": null,
   "metadata": {},
   "outputs": [],
   "source": [
    "airports = airports.replace('\\\\N', np.nan)\n",
    "routes = routes.replace('\\\\N', np.nan)"
   ]
  },
  {
   "cell_type": "markdown",
   "metadata": {},
   "source": [
    "Посчитать взлет/посадки для каждого аэропорта стран Европы"
   ]
  },
  {
   "cell_type": "code",
   "execution_count": null,
   "metadata": {},
   "outputs": [],
   "source": [
    "sour = routes.groupby(routes['Source airport']).count()[['Source airport ID']]\n",
    "dest = routes.groupby(routes['Destination airport']).count()[['Destination airport ID']]\n",
    "\n",
    "sour['IATA'] = sour.index\n",
    "dest['IATA'] = dest.index"
   ]
  },
  {
   "cell_type": "code",
   "execution_count": null,
   "metadata": {},
   "outputs": [],
   "source": [
    "result = sour.merge(dest,left_on='IATA', right_on='IATA' , how='inner' )  # Если нет зачения взлет или посадка, аэропорт выкидываем из списка - inner join. \n",
    "result['Fly'] =  result['Source airport ID'] + result['Destination airport ID'] "
   ]
  },
  {
   "cell_type": "code",
   "execution_count": null,
   "metadata": {},
   "outputs": [],
   "source": [
    "airports = airports.merge(result,left_on='IATA', right_on='IATA' , how='inner' )\n",
    "airports = airports.set_index(['Country',  'Name'])"
   ]
  },
  {
   "cell_type": "markdown",
   "metadata": {},
   "source": [
    "Отсортируем:"
   ]
  },
  {
   "cell_type": "code",
   "execution_count": null,
   "metadata": {},
   "outputs": [],
   "source": [
    "ts = airports['Fly'].sort_values(ascending=False)\n",
    "answer = ts.groupby(level=['Country']).head(3).sort_index(level=0)"
   ]
  },
  {
   "cell_type": "code",
   "execution_count": null,
   "metadata": {},
   "outputs": [],
   "source": [
    "answer"
   ]
  }
 ],
 "metadata": {
  "kernelspec": {
   "display_name": "Python 3",
   "language": "python",
   "name": "python3"
  },
  "language_info": {
   "codemirror_mode": {
    "name": "ipython",
    "version": 3
   },
   "file_extension": ".py",
   "mimetype": "text/x-python",
   "name": "python",
   "nbconvert_exporter": "python",
   "pygments_lexer": "ipython3",
   "version": "3.6.5"
  }
 },
 "nbformat": 4,
 "nbformat_minor": 2
}
