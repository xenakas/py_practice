{
 "cells": [
  {
   "cell_type": "markdown",
   "metadata": {},
   "source": [
    "### S&P Cliques"
   ]
  },
  {
   "cell_type": "code",
   "execution_count": null,
   "metadata": {},
   "outputs": [],
   "source": [
    "import numpy as np\n",
    "import pandas as pd\n",
    "import pandas_datareader.data as web\n",
    "import networkx as nx\n",
    "import seaborn as sns\n",
    "import matplotlib.pyplot as plt\n",
    "import datetime, requests\n",
    "from time import sleep\n",
    "from IPython.display import display"
   ]
  },
  {
   "cell_type": "markdown",
   "metadata": {},
   "source": [
    "1. Скачать с сайта finance.yahoo.com перечень ценных бумаг входящих в индекс Доу Джонса (искать ^DJI), S&P 500 (^GSPC). Чтобы загрузить таблицу с этого сайта надо сделать вид, что мы браузер"
   ]
  },
  {
   "cell_type": "code",
   "execution_count": null,
   "metadata": {},
   "outputs": [],
   "source": [
    "header = {\n",
    "  \"User-Agent\": \"Mozilla/5.0 (X11; Linux x86_64) AppleWebKit/537.36 (KHTML, like Gecko) Chrome/50.0.2661.75 Safari/537.36\",\n",
    "  \"X-Requested-With\": \"XMLHttpRequest\"\n",
    "}\n",
    "request = requests.get('https://www.slickcharts.com/sp500', headers=header)\n",
    "gspc_df = pd.read_html(request.text)[0]"
   ]
  },
  {
   "cell_type": "code",
   "execution_count": null,
   "metadata": {},
   "outputs": [],
   "source": [
    "ticker_gspc=gspc_df['Symbol'].values[:-1] # данных по последнему наблюдению нет\n",
    "ticker_gspc[3], ticker_gspc[449] = 'BRK-B', 'BF-B' # расхождения в обозначениях"
   ]
  },
  {
   "cell_type": "markdown",
   "metadata": {},
   "source": [
    "2. Загрузить цену закрытия за 2018 год. Поскольку  на YAHOO Finance есть ограничение на скачивние установим время ожидания между скачиваниями\n",
    "\n",
    "```python\n",
    "start=datetime.datetime(2018,1,1)\n",
    "finish=datetime.datetime(2018,12,31)\n",
    "\n",
    "gspc_close={ }\n",
    "\n",
    "for i in ticker_gspc:\n",
    "    gspc_close[i]=web.DataReader(i, 'yahoo', start, finish)['Close']\n",
    "    sleep(30) \n",
    "\n",
    "gspc_close = pd.DataFrame(gspc_close)\n",
    "\n",
    "```"
   ]
  },
  {
   "cell_type": "markdown",
   "metadata": {},
   "source": [
    "- Поскольку это долго, подгрузим уже скачанный файл "
   ]
  },
  {
   "cell_type": "code",
   "execution_count": null,
   "metadata": {},
   "outputs": [],
   "source": [
    "gspc_close = pd.read_csv('gspc_close.csv', index_col = 0, parse_dates = True)"
   ]
  },
  {
   "cell_type": "markdown",
   "metadata": {},
   "source": [
    "3. Построить ряды изменения процентов закрытия: используя процентые соотношения, мы лучше отследим динамику рядов  относительно друг друга, поскольку средние цены для акций разых компаний сильно разнятся и при построении оригинальных временных рядов ряды будут расположены на разных уровнях:"
   ]
  },
  {
   "cell_type": "code",
   "execution_count": null,
   "metadata": {},
   "outputs": [],
   "source": [
    "gspc_pct=(gspc_close/gspc_close.shift(1)-1).fillna(0)"
   ]
  },
  {
   "cell_type": "code",
   "execution_count": null,
   "metadata": {},
   "outputs": [],
   "source": [
    "gspc_pct.plot(legend = False);"
   ]
  },
  {
   "cell_type": "markdown",
   "metadata": {},
   "source": [
    "4. Построить взаимно-корреляционную матрицу для ценных бумаг за данный период для ряда:"
   ]
  },
  {
   "cell_type": "code",
   "execution_count": null,
   "metadata": {},
   "outputs": [],
   "source": [
    "plt.figure(figsize = (20,20))\n",
    "sns.heatmap(gspc_close.corr(), square = True);"
   ]
  },
  {
   "cell_type": "markdown",
   "metadata": {},
   "source": [
    "5. Выбрать порог высокой взаимной корреляции, пусть будет 0.8 и заменить значения в матрице на 1 более 0.8 и на 0 менее 0.8 "
   ]
  },
  {
   "cell_type": "code",
   "execution_count": null,
   "metadata": {},
   "outputs": [],
   "source": [
    "plt.figure(figsize = (20,20))\n",
    "gscp_pct_graph=(abs(gspc_pct.corr().replace(1,0))>0.8).astype(int)\n",
    "sns.heatmap(gscp_pct_graph, square = True);"
   ]
  },
  {
   "cell_type": "markdown",
   "metadata": {},
   "source": [
    "6. Построить граф - пакет networkx "
   ]
  },
  {
   "cell_type": "code",
   "execution_count": null,
   "metadata": {},
   "outputs": [],
   "source": [
    "plt.figure(figsize = (20,20))\n",
    "m=gscp_pct_graph.values\n",
    "n=ticker_gspc\n",
    "G=nx.from_numpy_matrix(m)\n",
    "G=nx.relabel_nodes(G, dict(zip(G.nodes(),n)))\n",
    "nx.draw_networkx(G, pos= nx.kamada_kawai_layout(G));"
   ]
  },
  {
   "cell_type": "markdown",
   "metadata": {},
   "source": [
    "7. Найти клики на графе, найти максимальную клику. "
   ]
  },
  {
   "cell_type": "code",
   "execution_count": null,
   "metadata": {},
   "outputs": [],
   "source": [
    "cliques=list(nx.find_cliques(G)) \n",
    "lengths = []\n",
    "lengths = [len(i) for i in cliques]\n",
    "longest_ind = [i for i, j in enumerate(lengths) if j == max(lengths)]\n",
    "cliq_list = [cliques[i] for i in longest_ind] # Клики различаются только 'ES' и 'ETR', поэтому сделаем из двух клик (11 элементов) одну (12 элементов)\n",
    "cliq_list[0].append(cliq_list[1][-1])\n",
    "cliq_list = cliq_list[0]"
   ]
  },
  {
   "cell_type": "code",
   "execution_count": null,
   "metadata": {},
   "outputs": [],
   "source": [
    "gspc_df[gspc_df['Symbol'].isin(cliq_list)][['Company', 'Symbol']]"
   ]
  },
  {
   "cell_type": "code",
   "execution_count": null,
   "metadata": {},
   "outputs": [],
   "source": [
    "cliq_close = gspc_close[cliq_list]\n",
    "cliq_close.plot();"
   ]
  },
  {
   "cell_type": "markdown",
   "metadata": {},
   "source": [
    "На графике видно, что движения цен закрытия у всех акций синхронные, к тому же все 12 компаний из клики являются энергетическими компаниями"
   ]
  },
  {
   "cell_type": "markdown",
   "metadata": {},
   "source": [
    "8. Визуализировать кумулятивную процентную доходность для максимальной клики. "
   ]
  },
  {
   "cell_type": "code",
   "execution_count": null,
   "metadata": {},
   "outputs": [],
   "source": [
    "cum_sum=((cliq_close/cliq_close.shift(1)-1).fillna(0)*100).cumsum()\n",
    "cum_sum.sum(axis=1).plot();"
   ]
  },
  {
   "cell_type": "markdown",
   "metadata": {},
   "source": [
    "9. Визуализировать риск для клики (мат. ожидание процентного дохода (ежедневного) на периоде к СКО на периоде). \n",
    "\n",
    "Квадратический коэффициент вариации:\n",
    "$$v = \\frac{\\sigma}{\\bar{X}}$$"
   ]
  },
  {
   "cell_type": "code",
   "execution_count": null,
   "metadata": {},
   "outputs": [],
   "source": [
    "pd.DataFrame((cliq_close/cliq_close.shift(1)-1).fillna(0).std(axis=1)/(cliq_close/cliq_close.shift(1)-1).fillna(0).mean(axis=1)).plot(legend = False)"
   ]
  }
 ],
 "metadata": {
  "kernelspec": {
   "display_name": "Python 3",
   "language": "python",
   "name": "python3"
  },
  "language_info": {
   "codemirror_mode": {
    "name": "ipython",
    "version": 3
   },
   "file_extension": ".py",
   "mimetype": "text/x-python",
   "name": "python",
   "nbconvert_exporter": "python",
   "pygments_lexer": "ipython3",
   "version": "3.6.5"
  }
 },
 "nbformat": 4,
 "nbformat_minor": 2
}
