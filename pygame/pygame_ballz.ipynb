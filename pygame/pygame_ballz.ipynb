{
 "cells": [
  {
   "cell_type": "code",
   "execution_count": 1,
   "metadata": {},
   "outputs": [
    {
     "name": "stdout",
     "output_type": "stream",
     "text": [
      "pygame 1.9.4\n",
      "Hello from the pygame community. https://www.pygame.org/contribute.html\n",
      "[[98, 101], [125, 161]]\n",
      "[[128, 71], [154, 132], [173, 168]]\n",
      "[[270, 131], [244, 70], [226, 33], [178, 62]]\n",
      "[[250, 151], [224, 90], [206, 53], [197, 43], [178, 62]]\n",
      "[[229, 172], [203, 111], [185, 74], [218, 22], [198, 42], [218, 88]]\n",
      "[[210, 191], [184, 130], [166, 93], [237, 7], [217, 23], [236, 70], [243, 92]]\n",
      "[[191, 180], [165, 149], [147, 112], [256, 26], [236, 6], [255, 51], [261, 74], [243, 93]]\n",
      "[[172, 161], [146, 168], [128, 131], [275, 45], [255, 25], [274, 32], [280, 55], [261, 75], [243, 93]]\n",
      "[[148, 137], [122, 192], [104, 155], [291, 69], [279, 49], [292, 8], [286, 31], [285, 51], [266, 70], [288, 120]]\n",
      "[[68, 57], [42, 118], [24, 155], [211, 149], [231, 129], [212, 82], [206, 59], [225, 39], [244, 20], [223, 41], [129, 97]]\n",
      "[[25, 14], [11, 75], [29, 112], [168, 192], [188, 172], [169, 125], [163, 102], [182, 82], [201, 63], [180, 12], [171, 55], [251, 124]]\n",
      "[[19, 30], [45, 41], [63, 78], [134, 164], [154, 184], [135, 159], [129, 136], [148, 116], [167, 97], [146, 46], [205, 21], [284, 91], [281, 133]]\n",
      "[[81, 92], [107, 31], [125, 16], [72, 102], [92, 122], [73, 169], [67, 192], [86, 178], [105, 159], [84, 108], [267, 51], [244, 29], [248, 72], [98, 180]]\n",
      "[[104, 115], [130, 54], [148, 17], [49, 79], [69, 99], [50, 146], [44, 169], [63, 189], [82, 182], [61, 131], [290, 74], [221, 6], [225, 49], [120, 158], [135, 173]]\n",
      "[[123, 134], [149, 73], [167, 36], [30, 60], [50, 80], [31, 127], [25, 150], [44, 170], [63, 189], [42, 150], [281, 93], [202, 23], [206, 30], [139, 139], [153, 155], [135, 173]]\n",
      "[[163, 174], [189, 113], [207, 76], [20, 20], [10, 40], [19, 87], [25, 110], [6, 130], [23, 149], [8, 190], [241, 133], [162, 63], [166, 20], [179, 99], [193, 115], [174, 134], [236, 175]]\n"
     ]
    }
   ],
   "source": [
    "import pygame\n",
    "import numpy as np\n",
    "\n",
    "pygame.init()\n",
    "size = (300, 200)\n",
    "screen = pygame.display.set_mode(size) \n",
    "yellow = pygame.Color('yellow')\n",
    "blue = pygame.Color('blue')\n",
    "done = True\n",
    "fps = 100\n",
    "clock = pygame.time.Clock()\n",
    "screen.fill(blue)\n",
    "k=0\n",
    "centers = []\n",
    "direct = []\n",
    "while done:\n",
    "    for event in pygame.event.get():\n",
    "        if event.type == pygame.QUIT:\n",
    "            done = False\n",
    "        if event.type == pygame.MOUSEBUTTONDOWN:\n",
    "            q = list(event.pos)\n",
    "            w = 10\n",
    "            centers.append(q)\n",
    "            direct.append([1,-1])\n",
    "            k = 1\n",
    "    pygame.display.flip()\n",
    "    while k == 1:\n",
    "        screen.fill(blue)\n",
    "        for i in range(len(centers)):\n",
    "            pygame.draw.circle(screen, yellow, centers[i], w)\n",
    "            if (centers[i][1] == 5) or (centers[i][1] == 200-5) :\n",
    "                direct[i][1] *= -1\n",
    "            if (centers[i][0] == 300-5) or (centers[i][0] == 5) :\n",
    "                direct[i][0] *= -1\n",
    "            centers[i][0]+=direct[i][0]\n",
    "            centers[i][1]+=direct[i][1]\n",
    "            for event in pygame.event.get():\n",
    "                if event.type == pygame.QUIT:\n",
    "                    k = 0\n",
    "                    done = False\n",
    "                    break\n",
    "                if event.type == pygame.MOUSEBUTTONDOWN:\n",
    "                    q = list(event.pos)\n",
    "                    centers.append(q)\n",
    "                    direct.append([1,-1])\n",
    "                    break                    \n",
    "        pygame.display.flip()\n",
    "        clock.tick(fps)\n",
    "# завершение работы:\n",
    "pygame.quit()\n",
    "                "
   ]
  }
 ],
 "metadata": {
  "kernelspec": {
   "display_name": "Python 3",
   "language": "python",
   "name": "python3"
  },
  "language_info": {
   "codemirror_mode": {
    "name": "ipython",
    "version": 3
   },
   "file_extension": ".py",
   "mimetype": "text/x-python",
   "name": "python",
   "nbconvert_exporter": "python",
   "pygments_lexer": "ipython3",
   "version": "3.6.5"
  }
 },
 "nbformat": 4,
 "nbformat_minor": 2
}
