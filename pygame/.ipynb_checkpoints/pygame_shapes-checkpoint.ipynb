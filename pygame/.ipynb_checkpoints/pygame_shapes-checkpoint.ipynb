{
 "cells": [
  {
   "cell_type": "markdown",
   "metadata": {},
   "source": [
    "### Cross"
   ]
  },
  {
   "cell_type": "code",
   "execution_count": null,
   "metadata": {},
   "outputs": [
    {
     "name": "stdout",
     "output_type": "stream",
     "text": [
      "pygame 1.9.4\n",
      "Hello from the pygame community. https://www.pygame.org/contribute.html\n"
     ]
    }
   ],
   "source": [
    "import pygame\n",
    "\n",
    "pygame.init()\n",
    "sd = input().split()\n",
    "WHITE = (255, 255, 255)\n",
    "a = int(sd[0])\n",
    "b = int(sd[1])\n",
    "size = [a, b]\n",
    "screen = pygame.display.set_mode(size)\n",
    "\n",
    "done = False\n",
    "while not done:\n",
    "    screen.fill((0, 0, 0))\n",
    "    pygame.draw.line(screen, WHITE, [0, 0], [a, b], 5)\n",
    "    pygame.draw.line(screen, WHITE, [a, 0], [0, b], 5)\n",
    "    pygame.display.flip()\n",
    "    \n",
    "    \n",
    "    while pygame.event.wait().type != pygame.QUIT:\n",
    "        done = True\n",
    "\n",
    "pygame.quit()"
   ]
  },
  {
   "cell_type": "markdown",
   "metadata": {},
   "source": [
    "### Rect"
   ]
  },
  {
   "cell_type": "code",
   "execution_count": null,
   "metadata": {},
   "outputs": [],
   "source": [
    "import pygame\n",
    "\n",
    "pygame.init()\n",
    "sd = input().split()\n",
    "RED = (255, 0, 0)\n",
    "a = int(sd[0])\n",
    "b = int(sd[1])\n",
    "size = [a, b]\n",
    "screen = pygame.display.set_mode(size)\n",
    "done = False\n",
    "while not done:\n",
    "    screen.fill((0, 0, 0))\n",
    "    pygame.draw.rect(screen, RED, [1, 1, a-2, b-2])\n",
    "    pygame.display.flip()\n",
    "    while pygame.event.wait().type != pygame.QUIT:\n",
    "        done = True\n",
    "\n",
    "pygame.quit()"
   ]
  },
  {
   "cell_type": "markdown",
   "metadata": {},
   "source": [
    "### Chess"
   ]
  },
  {
   "cell_type": "code",
   "execution_count": 2,
   "metadata": {},
   "outputs": [
    {
     "name": "stdout",
     "output_type": "stream",
     "text": [
      "150 3\n"
     ]
    }
   ],
   "source": [
    "import pygame \n",
    "\n",
    "pygame.init() \n",
    "\n",
    "sd = input().split() \n",
    "a = int(sd[0]) \n",
    "b = int(sd[1]) \n",
    "q = a//b \n",
    "size = a,a \n",
    "screen = pygame.display.set_mode(size) \n",
    "BLACK = ( 0, 0, 0) \n",
    "WHITE = (255, 255, 255) \n",
    "\n",
    "done = False \n",
    "while not done:\n",
    "    \n",
    "    if b % 2 == 0:\n",
    "        screen.fill((0, 0, 0))\n",
    "        for i in range(0, a, q*2): \n",
    "            for j in range(0, a, q*2): \n",
    "                pygame.draw.rect(screen, WHITE, [i, j, q, q]) \n",
    "        for i in range(q, a, q*2): \n",
    "            for j in range(q, a, q*2): \n",
    "                pygame.draw.rect(screen, WHITE, [i, j, q, q])\n",
    "\n",
    "    else:\n",
    "        screen.fill((255, 255, 255))\n",
    "        for i in range(0, a, q*2): \n",
    "            for j in range(0, a, q*2): \n",
    "                pygame.draw.rect(screen, BLACK, [i, j, q, q]) \n",
    "        for i in range(q, a, q*2): \n",
    "            for j in range(q, a, q*2): \n",
    "                pygame.draw.rect(screen, BLACK, [i, j, q, q])\n",
    "        \n",
    "    pygame.display.flip() \n",
    "    \n",
    "    while pygame.event.wait().type != pygame.QUIT:\n",
    "        done = True\n",
    "\n",
    "\n",
    "pygame.quit()"
   ]
  },
  {
   "cell_type": "markdown",
   "metadata": {},
   "source": [
    "### Sphere"
   ]
  },
  {
   "cell_type": "code",
   "execution_count": 1,
   "metadata": {},
   "outputs": [
    {
     "name": "stdout",
     "output_type": "stream",
     "text": [
      "pygame 1.9.4\n",
      "Hello from the pygame community. https://www.pygame.org/contribute.html\n",
      "30\n"
     ]
    }
   ],
   "source": [
    "import pygame \n",
    "\n",
    "pygame.init()\n",
    "n = int(input())\n",
    "size = (300, 300)\n",
    "screen = pygame.display.set_mode(size) \n",
    "BLACK = ( 0, 0, 0) \n",
    "WHITE = (255, 255, 255)\n",
    "screen.fill((0, 0, 0))\n",
    "w = 300 // n\n",
    "\n",
    "done = True\n",
    "while done:\n",
    "    \n",
    "    q = 0\n",
    "    screen.fill((0, 0, 0))\n",
    "    for i in range(n):\n",
    "        q = i*w\n",
    "        pygame.draw.ellipse(screen, WHITE, [q/2, 0, 300-q, 300], 1)\n",
    "    q = 0\n",
    "    for i in range(n):\n",
    "        q = i*w\n",
    "        pygame.draw.ellipse(screen, WHITE, [0, q/2, 300, 300-q], 1) \n",
    "    pygame.display.flip()\n",
    "    \n",
    "    while pygame.event.wait().type != pygame.QUIT:\n",
    "        done = False\n",
    "\n",
    "  \n",
    "pygame.quit()"
   ]
  },
  {
   "cell_type": "code",
   "execution_count": null,
   "metadata": {},
   "outputs": [],
   "source": []
  },
  {
   "cell_type": "code",
   "execution_count": null,
   "metadata": {},
   "outputs": [],
   "source": []
  }
 ],
 "metadata": {
  "kernelspec": {
   "display_name": "Python 3",
   "language": "python",
   "name": "python3"
  },
  "language_info": {
   "codemirror_mode": {
    "name": "ipython",
    "version": 3
   },
   "file_extension": ".py",
   "mimetype": "text/x-python",
   "name": "python",
   "nbconvert_exporter": "python",
   "pygments_lexer": "ipython3",
   "version": "3.6.5"
  }
 },
 "nbformat": 4,
 "nbformat_minor": 2
}
