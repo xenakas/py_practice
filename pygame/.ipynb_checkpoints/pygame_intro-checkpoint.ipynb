{
 "cells": [
  {
   "cell_type": "markdown",
   "metadata": {},
   "source": [
    "### PyGame"
   ]
  },
  {
   "cell_type": "code",
   "execution_count": 1,
   "metadata": {},
   "outputs": [],
   "source": [
    "def draw():\n",
    "    screen.fill((145, 78, 27))\n",
    "    font = pygame.font.Font(None, 50)\n",
    "    text = font.render(\"Hi, there...\", 1, (102, 105, 160))\n",
    "    text_x = width // 2 - text.get_width() // 2\n",
    "    text_y = height // 2 - text.get_height() // 2\n",
    "    text_w = text.get_width()\n",
    "    text_h = text.get_height()\n",
    "    screen.blit(text, (text_x, text_y))\n",
    "    pygame.draw.rect(screen, (34, 125, 50), (text_x - 10, text_y - 10,\n",
    "                                           text_w + 20, text_h + 20), 1)\n",
    "    \n",
    "def draw_square():\n",
    "    color = pygame.Color(50, 150, 50)\n",
    "    # рисуем \"тень\"\n",
    "    pygame.draw.rect(screen, color,\n",
    "                     (20, 20, 100, 100), 0)\n",
    "    hsv = color.hsva\n",
    "    # увеличиваем яркость\n",
    "    color.hsva = (hsv[0], hsv[1], hsv[2] + 30, hsv[3])\n",
    "    # рисуем сам объект\n",
    "    pygame.draw.rect(screen, color, (10, 10, 100, 100), 0)"
   ]
  },
  {
   "cell_type": "code",
   "execution_count": 2,
   "metadata": {},
   "outputs": [
    {
     "name": "stdout",
     "output_type": "stream",
     "text": [
      "pygame 1.9.4\n",
      "Hello from the pygame community. https://www.pygame.org/contribute.html\n"
     ]
    }
   ],
   "source": [
    "import pygame\n",
    "import random \n",
    "random.seed(38)\n",
    "\n",
    "pygame.init()\n",
    "size = width, height = 800, 600\n",
    "screen = pygame.display.set_mode(size)\n",
    "\n",
    "draw()\n",
    "draw_square()\n",
    "\n",
    "pygame.draw.rect(screen, (255, 0, 0), (250, 10, 100, 100), 0)\n",
    "screen.fill(pygame.Color('violet'), pygame.Rect(10, 150, 60, 60))\n",
    "\n",
    "for i in range(10000):\n",
    "    screen.fill((random.randint(1,255),random.randint(1,255),random.randint(1,255)),\n",
    "                (random.random() * width, \n",
    "                 random.random() * height, 1, 1))\n",
    "\n",
    "pygame.draw.line(screen, (random.randint(1,255),random.randint(1,255),random.randint(1,255)), (20,40), (120,140), 15)\n",
    "pygame.draw.polygon(screen, pygame.Color('#ffcc00'), [[100,300], [0, 450], [200, 400]], 5)\n",
    "\n",
    "pygame.draw.aaline(screen, pygame.Color('green'), [0, 50],[50, 280], True)\n",
    "\n",
    "\n",
    "pygame.display.flip() # смена (отрисовка) кадра\n",
    "\n",
    "# завершение работы:\n",
    "\n",
    "while pygame.event.wait().type != pygame.QUIT:\n",
    "    pass\n",
    "\n",
    "pygame.quit()"
   ]
  },
  {
   "cell_type": "markdown",
   "metadata": {},
   "source": [
    "Rectangles:\n",
    "- `Rect(left, top, width, height)`\n",
    "- `Rect((left, top), (width, height))`\n",
    "- `Rect(rect) ` - копия передаваемого прямоугольника"
   ]
  },
  {
   "cell_type": "markdown",
   "metadata": {},
   "source": [
    "![](https://www.displaydaily.com/images/stories/antialiasing.gif)"
   ]
  },
  {
   "cell_type": "code",
   "execution_count": null,
   "metadata": {},
   "outputs": [],
   "source": []
  }
 ],
 "metadata": {
  "kernelspec": {
   "display_name": "Python 3",
   "language": "python",
   "name": "python3"
  },
  "language_info": {
   "codemirror_mode": {
    "name": "ipython",
    "version": 3
   },
   "file_extension": ".py",
   "mimetype": "text/x-python",
   "name": "python",
   "nbconvert_exporter": "python",
   "pygments_lexer": "ipython3",
   "version": "3.6.5"
  }
 },
 "nbformat": 4,
 "nbformat_minor": 2
}
