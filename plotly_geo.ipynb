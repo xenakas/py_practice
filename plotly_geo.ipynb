{
 "cells": [
  {
   "cell_type": "markdown",
   "metadata": {},
   "source": [
    "### [Lines on Maps in Python](https://plot.ly/python/lines-on-maps/)"
   ]
  },
  {
   "cell_type": "code",
   "execution_count": 3,
   "metadata": {},
   "outputs": [
    {
     "data": {
      "text/html": [
       "<script type=\"text/javascript\">window.PlotlyConfig = {MathJaxConfig: 'local'};</script><script type=\"text/javascript\">if (window.MathJax) {MathJax.Hub.Config({SVG: {font: \"STIX-Web\"}});}</script><script>requirejs.config({paths: { 'plotly': ['https://cdn.plot.ly/plotly-latest.min']},});if(!window._Plotly) {require(['plotly'],function(plotly) {window._Plotly=plotly;});}</script>"
      ],
      "text/vnd.plotly.v1+html": [
       "<script type=\"text/javascript\">window.PlotlyConfig = {MathJaxConfig: 'local'};</script><script type=\"text/javascript\">if (window.MathJax) {MathJax.Hub.Config({SVG: {font: \"STIX-Web\"}});}</script><script>requirejs.config({paths: { 'plotly': ['https://cdn.plot.ly/plotly-latest.min']},});if(!window._Plotly) {require(['plotly'],function(plotly) {window._Plotly=plotly;});}</script>"
      ]
     },
     "metadata": {},
     "output_type": "display_data"
    }
   ],
   "source": [
    "import numpy as nu\n",
    "import pandas as pd\n",
    "from plotly import __version__\n",
    "from plotly.offline import download_plotlyjs, init_notebook_mode, plot, iplot\n",
    "import plotly.graph_objs as go\n",
    "init_notebook_mode(connected=True)"
   ]
  },
  {
   "cell_type": "code",
   "execution_count": 4,
   "metadata": {
    "scrolled": true
   },
   "outputs": [
    {
     "data": {
      "application/vnd.plotly.v1+json": {
       "config": {
        "linkText": "Export to plot.ly",
        "plotlyServerURL": "https://plot.ly",
        "showLink": true
       },
       "data": [
        {
         "lat": [
          32.89595056,
          35.04022222
         ],
         "line": {
          "color": "red",
          "width": 1
         },
         "locationmode": "USA-states",
         "lon": [
          -97.0372,
          -106.6091944
         ],
         "mode": "lines",
         "opacity": 0.48577680525164113,
         "type": "scattergeo",
         "uid": "fabdd7b2-f7db-43fa-8a1c-88eceb25f8dd"
        },
        {
         "lat": [
          41.979595,
          30.19453278
         ],
         "line": {
          "color": "red",
          "width": 1
         },
         "locationmode": "USA-states",
         "lon": [
          -87.90446417,
          -97.66987194
         ],
         "mode": "lines",
         "opacity": 0.18161925601750548,
         "type": "scattergeo",
         "uid": "c12ad6ae-895e-4a81-ae84-0b665fefa63a"
        },
        {
         "lat": [
          32.89595056,
          41.93887417
         ],
         "line": {
          "color": "red",
          "width": 1
         },
         "locationmode": "USA-states",
         "lon": [
          -97.0372,
          -72.68322833
         ],
         "mode": "lines",
         "opacity": 0.1772428884026258,
         "type": "scattergeo",
         "uid": "4712d5f3-e458-4a34-9006-04ac2296ada7"
        },
        {
         "lat": [
          18.43941667,
          41.93887417
         ],
         "line": {
          "color": "red",
          "width": 1
         },
         "locationmode": "USA-states",
         "lon": [
          -66.00183333,
          -72.68322833
         ],
         "mode": "lines",
         "opacity": 0.061269146608315096,
         "type": "scattergeo",
         "uid": "d632b73d-5e12-49d1-bffe-c43f463f0642"
        },
        {
         "lat": [
          32.89595056,
          33.56294306
         ],
         "line": {
          "color": "red",
          "width": 1
         },
         "locationmode": "USA-states",
         "lon": [
          -97.0372,
          -86.75354972
         ],
         "mode": "lines",
         "opacity": 0.1838074398249453,
         "type": "scattergeo",
         "uid": "82cf7004-6c0d-41ca-ac6e-c6852ecd4f57"
        },
        {
         "lat": [
          25.79325,
          36.12447667
         ],
         "line": {
          "color": "red",
          "width": 1
         },
         "locationmode": "USA-states",
         "lon": [
          -80.29055556,
          -86.67818222
         ],
         "mode": "lines",
         "opacity": 0.061269146608315096,
         "type": "scattergeo",
         "uid": "a313bfbd-dc1c-4b34-93da-3999c6d2a5ef"
        },
        {
         "lat": [
          32.89595056,
          42.3643475
         ],
         "line": {
          "color": "red",
          "width": 1
         },
         "locationmode": "USA-states",
         "lon": [
          -97.0372,
          -71.00517917
         ],
         "mode": "lines",
         "opacity": 0.4617067833698031,
         "type": "scattergeo",
         "uid": "17cd8bb3-746b-46b1-adc3-2be9037f51f4"
        },
        {
         "lat": [
          25.79325,
          42.3643475
         ],
         "line": {
          "color": "red",
          "width": 1
         },
         "locationmode": "USA-states",
         "lon": [
          -80.29055556,
          -71.00517917
         ],
         "mode": "lines",
         "opacity": 0.4288840262582057,
         "type": "scattergeo",
         "uid": "7e13d024-e8a8-4be1-90e2-a0bfa3b4cfa7"
        },
        {
         "lat": [
          41.979595,
          42.3643475
         ],
         "line": {
          "color": "red",
          "width": 1
         },
         "locationmode": "USA-states",
         "lon": [
          -87.90446417,
          -71.00517917
         ],
         "mode": "lines",
         "opacity": 0.47045951859956237,
         "type": "scattergeo",
         "uid": "7083eb4f-22c4-4a20-b6be-bdbbe4a53a59"
        },
        {
         "lat": [
          18.43941667,
          42.3643475
         ],
         "line": {
          "color": "red",
          "width": 1
         },
         "locationmode": "USA-states",
         "lon": [
          -66.00183333,
          -71.00517917
         ],
         "mode": "lines",
         "opacity": 0.061269146608315096,
         "type": "scattergeo",
         "uid": "c739c45d-cbe3-4d36-838e-2076c8b9d677"
        },
        {
         "lat": [
          18.33730556,
          42.3643475
         ],
         "line": {
          "color": "red",
          "width": 1
         },
         "locationmode": "USA-states",
         "lon": [
          -64.97336111,
          -71.00517917
         ],
         "mode": "lines",
         "opacity": 0.04814004376367615,
         "type": "scattergeo",
         "uid": "4c26da60-c5f3-48d0-88a6-544c289cb2c1"
        },
        {
         "lat": [
          25.79325,
          39.17540167
         ],
         "line": {
          "color": "red",
          "width": 1
         },
         "locationmode": "USA-states",
         "lon": [
          -80.29055556,
          -76.66819833
         ],
         "mode": "lines",
         "opacity": 0.12253829321663019,
         "type": "scattergeo",
         "uid": "6fec3834-65b6-40a1-8373-faa8d018eb29"
        },
        {
         "lat": [
          18.43941667,
          39.17540167
         ],
         "line": {
          "color": "red",
          "width": 1
         },
         "locationmode": "USA-states",
         "lon": [
          -66.00183333,
          -76.66819833
         ],
         "mode": "lines",
         "opacity": 0.061269146608315096,
         "type": "scattergeo",
         "uid": "3fdf2015-938a-4813-bdb6-3541a93813e4"
        },
        {
         "lat": [
          32.89595056,
          35.21401111
         ],
         "line": {
          "color": "red",
          "width": 1
         },
         "locationmode": "USA-states",
         "lon": [
          -97.0372,
          -80.94312583
         ],
         "mode": "lines",
         "opacity": 0.3938730853391685,
         "type": "scattergeo",
         "uid": "8c895227-fb1f-4111-a5e1-16c3b8802567"
        },
        {
         "lat": [
          32.89595056,
          38.80580556
         ],
         "line": {
          "color": "red",
          "width": 1
         },
         "locationmode": "USA-states",
         "lon": [
          -97.0372,
          -104.70025
         ],
         "mode": "lines",
         "opacity": 0.3041575492341357,
         "type": "scattergeo",
         "uid": "1964671c-8d7b-4e44-adfe-7f3f80d4fdd1"
        },
        {
         "lat": [
          32.89595056,
          39.90237583
         ],
         "line": {
          "color": "red",
          "width": 1
         },
         "locationmode": "USA-states",
         "lon": [
          -97.0372,
          -84.219375
         ],
         "mode": "lines",
         "opacity": 0.1137855579868709,
         "type": "scattergeo",
         "uid": "0f1e6310-e58b-45dc-81b3-ada5d6d360b3"
        },
        {
         "lat": [
          32.89595056,
          38.85208333
         ],
         "line": {
          "color": "red",
          "width": 1
         },
         "locationmode": "USA-states",
         "lon": [
          -97.0372,
          -77.03772222
         ],
         "mode": "lines",
         "opacity": 0.6433260393873085,
         "type": "scattergeo",
         "uid": "2456fa8d-4e80-4439-8759-5a64723c9c2d"
        },
        {
         "lat": [
          25.79325,
          39.85840806
         ],
         "line": {
          "color": "red",
          "width": 1
         },
         "locationmode": "USA-states",
         "lon": [
          -80.29055556,
          -104.6670019
         ],
         "mode": "lines",
         "opacity": 0.12253829321663019,
         "type": "scattergeo",
         "uid": "f8362e25-5b4b-4bfe-8260-ab3f2bb18dc1"
        },
        {
         "lat": [
          41.979595,
          39.85840806
         ],
         "line": {
          "color": "red",
          "width": 1
         },
         "locationmode": "USA-states",
         "lon": [
          -87.90446417,
          -104.6670019
         ],
         "mode": "lines",
         "opacity": 0.12253829321663019,
         "type": "scattergeo",
         "uid": "57a9e627-4ac9-44e2-8057-0dfdd753cce5"
        },
        {
         "lat": [
          33.64044444,
          32.89595056
         ],
         "line": {
          "color": "red",
          "width": 1
         },
         "locationmode": "USA-states",
         "lon": [
          -84.42694444,
          -97.0372
         ],
         "mode": "lines",
         "opacity": 0.6345733041575492,
         "type": "scattergeo",
         "uid": "ae925c8e-8b9b-4919-8b24-02e3a85d6a2b"
        },
        {
         "lat": [
          30.19453278,
          32.89595056
         ],
         "line": {
          "color": "red",
          "width": 1
         },
         "locationmode": "USA-states",
         "lon": [
          -97.66987194,
          -97.0372
         ],
         "mode": "lines",
         "opacity": 0.8971553610503282,
         "type": "scattergeo",
         "uid": "ab7a43e3-6933-4704-aa2d-554475aff802"
        },
        {
         "lat": [
          36.12447667,
          32.89595056
         ],
         "line": {
          "color": "red",
          "width": 1
         },
         "locationmode": "USA-states",
         "lon": [
          -86.67818222,
          -97.0372
         ],
         "mode": "lines",
         "opacity": 0.47702407002188185,
         "type": "scattergeo",
         "uid": "ec0c7c1f-8396-4fd9-8e2b-64e3ce704f3b"
        },
        {
         "lat": [
          34.20061917,
          32.89595056
         ],
         "line": {
          "color": "red",
          "width": 1
         },
         "locationmode": "USA-states",
         "lon": [
          -118.3584969,
          -97.0372
         ],
         "mode": "lines",
         "opacity": 0.2275711159737418,
         "type": "scattergeo",
         "uid": "782ffd5c-6c36-4f01-83d4-c90d5ac2830a"
        },
        {
         "lat": [
          39.17540167,
          32.89595056
         ],
         "line": {
          "color": "red",
          "width": 1
         },
         "locationmode": "USA-states",
         "lon": [
          -76.66819833,
          -97.0372
         ],
         "mode": "lines",
         "opacity": 0.35667396061269147,
         "type": "scattergeo",
         "uid": "3671d03c-27aa-4d17-a285-ccf3d7ea6a0e"
        },
        {
         "lat": [
          39.99798528,
          32.89595056
         ],
         "line": {
          "color": "red",
          "width": 1
         },
         "locationmode": "USA-states",
         "lon": [
          -82.89188278,
          -97.0372
         ],
         "mode": "lines",
         "opacity": 0.1137855579868709,
         "type": "scattergeo",
         "uid": "a015be00-a858-4cce-9252-6e6d8b817321"
        },
        {
         "lat": [
          39.85840806,
          32.89595056
         ],
         "line": {
          "color": "red",
          "width": 1
         },
         "locationmode": "USA-states",
         "lon": [
          -104.6670019,
          -97.0372
         ],
         "mode": "lines",
         "opacity": 0.6105032822757112,
         "type": "scattergeo",
         "uid": "3dff63ff-ffe9-4222-bfea-c04315300e22"
        },
        {
         "lat": [
          42.21205889,
          32.89595056
         ],
         "line": {
          "color": "red",
          "width": 1
         },
         "locationmode": "USA-states",
         "lon": [
          -83.34883583,
          -97.0372
         ],
         "mode": "lines",
         "opacity": 0.2844638949671772,
         "type": "scattergeo",
         "uid": "ab17d63f-a691-4493-8f95-c43ab9b6aec0"
        },
        {
         "lat": [
          39.64256778,
          32.89595056
         ],
         "line": {
          "color": "red",
          "width": 1
         },
         "locationmode": "USA-states",
         "lon": [
          -106.91769529999999,
          -97.0372
         ],
         "mode": "lines",
         "opacity": 0.1487964989059081,
         "type": "scattergeo",
         "uid": "fcd47ea0-49f4-41e8-b98c-eda063d13b71"
        },
        {
         "lat": [
          40.69249722,
          32.89595056
         ],
         "line": {
          "color": "red",
          "width": 1
         },
         "locationmode": "USA-states",
         "lon": [
          -74.16866056,
          -97.0372
         ],
         "mode": "lines",
         "opacity": 0.33916849015317285,
         "type": "scattergeo",
         "uid": "0a180976-2458-47d4-8ce6-e318ec9568df"
        },
        {
         "lat": [
          36.77619444,
          32.89595056
         ],
         "line": {
          "color": "red",
          "width": 1
         },
         "locationmode": "USA-states",
         "lon": [
          -119.7181389,
          -97.0372
         ],
         "mode": "lines",
         "opacity": 0.12253829321663019,
         "type": "scattergeo",
         "uid": "01151e75-3f07-4891-a2c0-df685878743a"
        },
        {
         "lat": [
          26.07258333,
          32.89595056
         ],
         "line": {
          "color": "red",
          "width": 1
         },
         "locationmode": "USA-states",
         "lon": [
          -80.15275,
          -97.0372
         ],
         "mode": "lines",
         "opacity": 0.3676148796498906,
         "type": "scattergeo",
         "uid": "031cff78-62e5-430e-9adc-b6967047fc2a"
        },
        {
         "lat": [
          34.6404475,
          32.89595056
         ],
         "line": {
          "color": "red",
          "width": 1
         },
         "locationmode": "USA-states",
         "lon": [
          -86.77310944,
          -97.0372
         ],
         "mode": "lines",
         "opacity": 0.17286652078774617,
         "type": "scattergeo",
         "uid": "43e7ca32-7c9b-49c3-96c1-1a7629cf05c1"
        },
        {
         "lat": [
          29.98047222,
          32.89595056
         ],
         "line": {
          "color": "red",
          "width": 1
         },
         "locationmode": "USA-states",
         "lon": [
          -95.33972222,
          -97.0372
         ],
         "mode": "lines",
         "opacity": 0.3544857768052516,
         "type": "scattergeo",
         "uid": "cd06da94-e075-4ca3-8ba3-806b6bad8a93"
        },
        {
         "lat": [
          33.94253611,
          32.89595056
         ],
         "line": {
          "color": "red",
          "width": 1
         },
         "locationmode": "USA-states",
         "lon": [
          -118.40807439999999,
          -97.0372
         ],
         "mode": "lines",
         "opacity": 1,
         "type": "scattergeo",
         "uid": "b2be1580-83f8-4bc5-9018-7385115b5b5d"
        },
        {
         "lat": [
          39.29760528,
          32.89595056
         ],
         "line": {
          "color": "red",
          "width": 1
         },
         "locationmode": "USA-states",
         "lon": [
          -94.71390556,
          -97.0372
         ],
         "mode": "lines",
         "opacity": 0.47702407002188185,
         "type": "scattergeo",
         "uid": "d25b404c-6c03-4e99-9b03-ee557881f95d"
        },
        {
         "lat": [
          28.42888889,
          32.89595056
         ],
         "line": {
          "color": "red",
          "width": 1
         },
         "locationmode": "USA-states",
         "lon": [
          -81.31602778,
          -97.0372
         ],
         "mode": "lines",
         "opacity": 0.5470459518599562,
         "type": "scattergeo",
         "uid": "6bb23ab6-8480-4991-ba67-ee5a662c12d2"
        },
        {
         "lat": [
          35.04241667,
          32.89595056
         ],
         "line": {
          "color": "red",
          "width": 1
         },
         "locationmode": "USA-states",
         "lon": [
          -89.97666667,
          -97.0372
         ],
         "mode": "lines",
         "opacity": 0.23413566739606126,
         "type": "scattergeo",
         "uid": "04996dd7-034c-4a55-912f-3f865c2c6caf"
        },
        {
         "lat": [
          26.17583333,
          32.89595056
         ],
         "line": {
          "color": "red",
          "width": 1
         },
         "locationmode": "USA-states",
         "lon": [
          -98.23861111,
          -97.0372
         ],
         "mode": "lines",
         "opacity": 0.23413566739606126,
         "type": "scattergeo",
         "uid": "836bd916-5e46-41ec-af0c-b7b5fedcea0d"
        },
        {
         "lat": [
          25.79325,
          32.89595056
         ],
         "line": {
          "color": "red",
          "width": 1
         },
         "locationmode": "USA-states",
         "lon": [
          -80.29055556,
          -97.0372
         ],
         "mode": "lines",
         "opacity": 0.612691466083151,
         "type": "scattergeo",
         "uid": "121edaf0-418b-46c5-a5e5-91505a4686d0"
        },
        {
         "lat": [
          44.88054694,
          32.89595056
         ],
         "line": {
          "color": "red",
          "width": 1
         },
         "locationmode": "USA-states",
         "lon": [
          -93.2169225,
          -97.0372
         ],
         "mode": "lines",
         "opacity": 0.35667396061269147,
         "type": "scattergeo",
         "uid": "25456817-366a-4ff6-9f50-0726380e1c98"
        },
        {
         "lat": [
          38.50886722,
          32.89595056
         ],
         "line": {
          "color": "red",
          "width": 1
         },
         "locationmode": "USA-states",
         "lon": [
          -107.89383329999998,
          -97.0372
         ],
         "mode": "lines",
         "opacity": 0.0175054704595186,
         "type": "scattergeo",
         "uid": "7d00db86-de5d-4f18-97be-9d8d36a607c3"
        },
        {
         "lat": [
          20.89864972,
          32.89595056
         ],
         "line": {
          "color": "red",
          "width": 1
         },
         "locationmode": "USA-states",
         "lon": [
          -156.43045780000003,
          -97.0372
         ],
         "mode": "lines",
         "opacity": 0.061269146608315096,
         "type": "scattergeo",
         "uid": "5306bfaa-2d8a-4f12-9c35-77dc6130fd87"
        },
        {
         "lat": [
          35.39308833,
          32.89595056
         ],
         "line": {
          "color": "red",
          "width": 1
         },
         "locationmode": "USA-states",
         "lon": [
          -97.60073389,
          -97.0372
         ],
         "mode": "lines",
         "opacity": 0.42669584245076586,
         "type": "scattergeo",
         "uid": "0f8aeef9-c0c0-434f-be80-c6cfd09c1ce8"
        },
        {
         "lat": [
          41.30251861,
          32.89595056
         ],
         "line": {
          "color": "red",
          "width": 1
         },
         "locationmode": "USA-states",
         "lon": [
          -95.89417306,
          -97.0372
         ],
         "mode": "lines",
         "opacity": 0.2975929978118162,
         "type": "scattergeo",
         "uid": "d14fda0b-f537-4ee3-a69a-618505a14106"
        },
        {
         "lat": [
          41.979595,
          32.89595056
         ],
         "line": {
          "color": "red",
          "width": 1
         },
         "locationmode": "USA-states",
         "lon": [
          -87.90446417,
          -97.0372
         ],
         "mode": "lines",
         "opacity": 0.9026258205689278,
         "type": "scattergeo",
         "uid": "0f83992f-c54d-472f-8fb4-3a6c64aa7ed6"
        },
        {
         "lat": [
          39.87195278,
          32.89595056
         ],
         "line": {
          "color": "red",
          "width": 1
         },
         "locationmode": "USA-states",
         "lon": [
          -75.24114083,
          -97.0372
         ],
         "mode": "lines",
         "opacity": 0.3522975929978118,
         "type": "scattergeo",
         "uid": "834007f8-1d33-4c80-8145-9f952ea9c713"
        },
        {
         "lat": [
          33.43416667,
          32.89595056
         ],
         "line": {
          "color": "red",
          "width": 1
         },
         "locationmode": "USA-states",
         "lon": [
          -112.00805559999999,
          -97.0372
         ],
         "mode": "lines",
         "opacity": 0.6017505470459519,
         "type": "scattergeo",
         "uid": "e4f45fdb-fb62-4a96-aa48-ad74149acd7f"
        },
        {
         "lat": [
          37.50516667,
          32.89595056
         ],
         "line": {
          "color": "red",
          "width": 1
         },
         "locationmode": "USA-states",
         "lon": [
          -77.31966667,
          -97.0372
         ],
         "mode": "lines",
         "opacity": 0.18161925601750548,
         "type": "scattergeo",
         "uid": "d01a8b44-3f11-42a9-8551-6bd5247ac96d"
        },
        {
         "lat": [
          39.49857611,
          32.89595056
         ],
         "line": {
          "color": "red",
          "width": 1
         },
         "locationmode": "USA-states",
         "lon": [
          -119.76806470000001,
          -97.0372
         ],
         "mode": "lines",
         "opacity": 0.16411378555798686,
         "type": "scattergeo",
         "uid": "c7b4dac7-ed4e-494d-86c9-4f8d186f2096"
        },
        {
         "lat": [
          32.73355611,
          32.89595056
         ],
         "line": {
          "color": "red",
          "width": 1
         },
         "locationmode": "USA-states",
         "lon": [
          -117.1896567,
          -97.0372
         ],
         "mode": "lines",
         "opacity": 0.5470459518599562,
         "type": "scattergeo",
         "uid": "908ca48b-8091-4c4c-aab9-ada83bf919bc"
        },
        {
         "lat": [
          29.53369444,
          32.89595056
         ],
         "line": {
          "color": "red",
          "width": 1
         },
         "locationmode": "USA-states",
         "lon": [
          -98.46977778,
          -97.0372
         ],
         "mode": "lines",
         "opacity": 0.9037199124726477,
         "type": "scattergeo",
         "uid": "463a9044-0578-4316-838f-bd4632eb402f"
        },
        {
         "lat": [
          38.17438889,
          32.89595056
         ],
         "line": {
          "color": "red",
          "width": 1
         },
         "locationmode": "USA-states",
         "lon": [
          -85.736,
          -97.0372
         ],
         "mode": "lines",
         "opacity": 0.17943107221006566,
         "type": "scattergeo",
         "uid": "6ddeab8b-b156-4f5d-8912-d35b73315824"
        },
        {
         "lat": [
          37.61900194,
          32.89595056
         ],
         "line": {
          "color": "red",
          "width": 1
         },
         "locationmode": "USA-states",
         "lon": [
          -122.3748433,
          -97.0372
         ],
         "mode": "lines",
         "opacity": 0.5754923413566739,
         "type": "scattergeo",
         "uid": "cbcd091e-1ddb-40bc-b8ba-8de0786e0890"
        },
        {
         "lat": [
          37.36186194,
          32.89595056
         ],
         "line": {
          "color": "red",
          "width": 1
         },
         "locationmode": "USA-states",
         "lon": [
          -121.92900890000001,
          -97.0372
         ],
         "mode": "lines",
         "opacity": 0.3479212253829322,
         "type": "scattergeo",
         "uid": "6c843948-97e3-4f9f-a88f-29fbd62c7a03"
        },
        {
         "lat": [
          40.78838778,
          32.89595056
         ],
         "line": {
          "color": "red",
          "width": 1
         },
         "locationmode": "USA-states",
         "lon": [
          -111.9777731,
          -97.0372
         ],
         "mode": "lines",
         "opacity": 0.3063457330415755,
         "type": "scattergeo",
         "uid": "ce3cd0de-6d54-4521-97ba-9d0e182cd238"
        },
        {
         "lat": [
          38.74768694,
          32.89595056
         ],
         "line": {
          "color": "red",
          "width": 1
         },
         "locationmode": "USA-states",
         "lon": [
          -90.35998972,
          -97.0372
         ],
         "mode": "lines",
         "opacity": 0.5317286652078774,
         "type": "scattergeo",
         "uid": "2c4eca9a-21c4-4985-9cfe-c013f4def873"
        },
        {
         "lat": [
          36.28186944,
          32.89595056
         ],
         "line": {
          "color": "red",
          "width": 1
         },
         "locationmode": "USA-states",
         "lon": [
          -94.30681111,
          -97.0372
         ],
         "mode": "lines",
         "opacity": 0.05470459518599562,
         "type": "scattergeo",
         "uid": "8609390c-3569-4b24-8243-234e33a2108c"
        },
        {
         "lat": [
          25.79325,
          42.21205889
         ],
         "line": {
          "color": "red",
          "width": 1
         },
         "locationmode": "USA-states",
         "lon": [
          -80.29055556,
          -83.34883583
         ],
         "mode": "lines",
         "opacity": 0.12253829321663019,
         "type": "scattergeo",
         "uid": "d2102dde-16f9-4e7a-a68d-eb6de89c3fab"
        },
        {
         "lat": [
          40.77724306,
          39.64256778
         ],
         "line": {
          "color": "red",
          "width": 1
         },
         "locationmode": "USA-states",
         "lon": [
          -73.87260917,
          -106.91769529999999
         ],
         "mode": "lines",
         "opacity": 0.0087527352297593,
         "type": "scattergeo",
         "uid": "898a2fe2-978e-4c30-bfdb-ebb95868c8ea"
        },
        {
         "lat": [
          41.979595,
          39.64256778
         ],
         "line": {
          "color": "red",
          "width": 1
         },
         "locationmode": "USA-states",
         "lon": [
          -87.90446417,
          -106.91769529999999
         ],
         "mode": "lines",
         "opacity": 0.0700218818380744,
         "type": "scattergeo",
         "uid": "001e05f7-c213-4bb3-ad49-4c90c5c5d8bb"
        },
        {
         "lat": [
          32.89595056,
          31.80666667
         ],
         "line": {
          "color": "red",
          "width": 1
         },
         "locationmode": "USA-states",
         "lon": [
          -97.0372,
          -106.37780559999999
         ],
         "mode": "lines",
         "opacity": 0.474835886214442,
         "type": "scattergeo",
         "uid": "fb65d990-be5a-4d28-b386-a0f4882b0767"
        },
        {
         "lat": [
          33.94253611,
          40.69249722
         ],
         "line": {
          "color": "red",
          "width": 1
         },
         "locationmode": "USA-states",
         "lon": [
          -118.40807439999999,
          -74.16866056
         ],
         "mode": "lines",
         "opacity": 0.05908096280087528,
         "type": "scattergeo",
         "uid": "4e234324-8e53-4516-9a8b-8c2be5947b9d"
        },
        {
         "lat": [
          25.79325,
          40.69249722
         ],
         "line": {
          "color": "red",
          "width": 1
         },
         "locationmode": "USA-states",
         "lon": [
          -80.29055556,
          -74.16866056
         ],
         "mode": "lines",
         "opacity": 0.1838074398249453,
         "type": "scattergeo",
         "uid": "969333e7-eabe-463c-b402-5ad7b7d36c67"
        },
        {
         "lat": [
          40.63975111,
          26.07258333
         ],
         "line": {
          "color": "red",
          "width": 1
         },
         "locationmode": "USA-states",
         "lon": [
          -73.77892556,
          -80.15275
         ],
         "mode": "lines",
         "opacity": 0.12253829321663019,
         "type": "scattergeo",
         "uid": "dc71e9b6-47b6-441a-8e11-9ff2e2761db3"
        },
        {
         "lat": [
          32.89595056,
          40.48118028
         ],
         "line": {
          "color": "red",
          "width": 1
         },
         "locationmode": "USA-states",
         "lon": [
          -97.0372,
          -107.21765970000001
         ],
         "mode": "lines",
         "opacity": 0.0700218818380744,
         "type": "scattergeo",
         "uid": "208e8716-fc47-4afb-ac0b-d0bd9aa2bdf5"
        },
        {
         "lat": [
          32.89595056,
          21.31869111
         ],
         "line": {
          "color": "red",
          "width": 1
         },
         "locationmode": "USA-states",
         "lon": [
          -97.0372,
          -157.92240719999998
         ],
         "mode": "lines",
         "opacity": 0.12253829321663019,
         "type": "scattergeo",
         "uid": "845e8566-983c-4f2b-aa1d-d7a361e4f96d"
        },
        {
         "lat": [
          33.94253611,
          21.31869111
         ],
         "line": {
          "color": "red",
          "width": 1
         },
         "locationmode": "USA-states",
         "lon": [
          -118.40807439999999,
          -157.92240719999998
         ],
         "mode": "lines",
         "opacity": 0.2363238512035011,
         "type": "scattergeo",
         "uid": "5a839010-1f38-4cb3-b18b-2b6ea3518f59"
        },
        {
         "lat": [
          32.89595056,
          38.94453194
         ],
         "line": {
          "color": "red",
          "width": 1
         },
         "locationmode": "USA-states",
         "lon": [
          -97.0372,
          -77.45580972
         ],
         "mode": "lines",
         "opacity": 0.33698030634573306,
         "type": "scattergeo",
         "uid": "d4bae7de-b42b-437f-94c1-96f5d8e8e44e"
        },
        {
         "lat": [
          33.94253611,
          38.94453194
         ],
         "line": {
          "color": "red",
          "width": 1
         },
         "locationmode": "USA-states",
         "lon": [
          -118.40807439999999,
          -77.45580972
         ],
         "mode": "lines",
         "opacity": 0.18161925601750548,
         "type": "scattergeo",
         "uid": "c29f13be-0c2d-44dd-aad9-98f764f7a396"
        },
        {
         "lat": [
          25.79325,
          38.94453194
         ],
         "line": {
          "color": "red",
          "width": 1
         },
         "locationmode": "USA-states",
         "lon": [
          -80.29055556,
          -77.45580972
         ],
         "mode": "lines",
         "opacity": 0.12253829321663019,
         "type": "scattergeo",
         "uid": "97649347-1a3d-483b-a0b4-ead4dbad241f"
        },
        {
         "lat": [
          25.79325,
          29.98047222
         ],
         "line": {
          "color": "red",
          "width": 1
         },
         "locationmode": "USA-states",
         "lon": [
          -80.29055556,
          -95.33972222
         ],
         "mode": "lines",
         "opacity": 0.1838074398249453,
         "type": "scattergeo",
         "uid": "586a2f9d-ed2e-4bbd-8fdf-7f91211eb50c"
        },
        {
         "lat": [
          32.89595056,
          37.64995889
         ],
         "line": {
          "color": "red",
          "width": 1
         },
         "locationmode": "USA-states",
         "lon": [
          -97.0372,
          -97.43304583
         ],
         "mode": "lines",
         "opacity": 0.23413566739606126,
         "type": "scattergeo",
         "uid": "6886561f-ee2f-43e4-a85d-c5a2c1053081"
        },
        {
         "lat": [
          32.89595056,
          39.71732917
         ],
         "line": {
          "color": "red",
          "width": 1
         },
         "locationmode": "USA-states",
         "lon": [
          -97.0372,
          -86.29438417
         ],
         "mode": "lines",
         "opacity": 0.3041575492341357,
         "type": "scattergeo",
         "uid": "ac8f589e-4dd6-452f-9689-0508608db77c"
        },
        {
         "lat": [
          32.89595056,
          43.60732417
         ],
         "line": {
          "color": "red",
          "width": 1
         },
         "locationmode": "USA-states",
         "lon": [
          -97.0372,
          -110.7377389
         ],
         "mode": "lines",
         "opacity": 0.0262582056892779,
         "type": "scattergeo",
         "uid": "49d098fb-0aa3-459d-8996-ea4999257225"
        },
        {
         "lat": [
          32.89595056,
          30.49405556
         ],
         "line": {
          "color": "red",
          "width": 1
         },
         "locationmode": "USA-states",
         "lon": [
          -97.0372,
          -81.68786111
         ],
         "mode": "lines",
         "opacity": 0.2363238512035011,
         "type": "scattergeo",
         "uid": "654d4c54-13aa-49a1-96d1-44d7321ac535"
        },
        {
         "lat": [
          30.19453278,
          40.63975111
         ],
         "line": {
          "color": "red",
          "width": 1
         },
         "locationmode": "USA-states",
         "lon": [
          -97.66987194,
          -73.77892556
         ],
         "mode": "lines",
         "opacity": 0.061269146608315096,
         "type": "scattergeo",
         "uid": "e7615a52-0a07-4d95-aff1-0718d1359370"
        },
        {
         "lat": [
          32.89595056,
          40.63975111
         ],
         "line": {
          "color": "red",
          "width": 1
         },
         "locationmode": "USA-states",
         "lon": [
          -97.0372,
          -73.77892556
         ],
         "mode": "lines",
         "opacity": 0.061269146608315096,
         "type": "scattergeo",
         "uid": "f9d28993-9e10-4bf3-a9b0-111ab0930113"
        },
        {
         "lat": [
          39.64256778,
          40.63975111
         ],
         "line": {
          "color": "red",
          "width": 1
         },
         "locationmode": "USA-states",
         "lon": [
          -106.91769529999999,
          -73.77892556
         ],
         "mode": "lines",
         "opacity": 0.061269146608315096,
         "type": "scattergeo",
         "uid": "c44b6135-3921-404b-a65e-f08a111f7e8f"
        },
        {
         "lat": [
          28.42888889,
          40.63975111
         ],
         "line": {
          "color": "red",
          "width": 1
         },
         "locationmode": "USA-states",
         "lon": [
          -81.31602778,
          -73.77892556
         ],
         "mode": "lines",
         "opacity": 0.24507658643326038,
         "type": "scattergeo",
         "uid": "41e36dd6-c4a3-4604-8252-e9fc77190974"
        },
        {
         "lat": [
          25.79325,
          40.63975111
         ],
         "line": {
          "color": "red",
          "width": 1
         },
         "locationmode": "USA-states",
         "lon": [
          -80.29055556,
          -73.77892556
         ],
         "mode": "lines",
         "opacity": 0.4288840262582057,
         "type": "scattergeo",
         "uid": "fb40d06f-b132-4884-8c86-b32a8132568f"
        },
        {
         "lat": [
          47.44898194,
          40.63975111
         ],
         "line": {
          "color": "red",
          "width": 1
         },
         "locationmode": "USA-states",
         "lon": [
          -122.30931310000001,
          -73.77892556
         ],
         "mode": "lines",
         "opacity": 0.061269146608315096,
         "type": "scattergeo",
         "uid": "22154436-724a-4a76-8de2-67bffeeb62fc"
        },
        {
         "lat": [
          37.61900194,
          40.63975111
         ],
         "line": {
          "color": "red",
          "width": 1
         },
         "locationmode": "USA-states",
         "lon": [
          -122.3748433,
          -73.77892556
         ],
         "mode": "lines",
         "opacity": 0.3041575492341357,
         "type": "scattergeo",
         "uid": "0f4d6eab-83a7-4009-9180-69a4a81cd00d"
        },
        {
         "lat": [
          18.33730556,
          40.63975111
         ],
         "line": {
          "color": "red",
          "width": 1
         },
         "locationmode": "USA-states",
         "lon": [
          -64.97336111,
          -73.77892556
         ],
         "mode": "lines",
         "opacity": 0.061269146608315096,
         "type": "scattergeo",
         "uid": "64923efb-b400-4a8d-b615-36bc58a85f96"
        },
        {
         "lat": [
          27.97547222,
          40.63975111
         ],
         "line": {
          "color": "red",
          "width": 1
         },
         "locationmode": "USA-states",
         "lon": [
          -82.53325,
          -73.77892556
         ],
         "mode": "lines",
         "opacity": 0.061269146608315096,
         "type": "scattergeo",
         "uid": "98c36785-2d86-4c07-95cc-17568f81cfe1"
        },
        {
         "lat": [
          32.89595056,
          36.08036111
         ],
         "line": {
          "color": "red",
          "width": 1
         },
         "locationmode": "USA-states",
         "lon": [
          -97.0372,
          -115.15233329999998
         ],
         "mode": "lines",
         "opacity": 0.6225382932166302,
         "type": "scattergeo",
         "uid": "5549bb46-e4f4-402e-9ec4-ffc646a14ab0"
        },
        {
         "lat": [
          40.63975111,
          36.08036111
         ],
         "line": {
          "color": "red",
          "width": 1
         },
         "locationmode": "USA-states",
         "lon": [
          -73.77892556,
          -115.15233329999998
         ],
         "mode": "lines",
         "opacity": 0.12253829321663019,
         "type": "scattergeo",
         "uid": "92a2c0c9-0fa3-4a21-ab9a-d7073d4fb242"
        },
        {
         "lat": [
          33.94253611,
          36.08036111
         ],
         "line": {
          "color": "red",
          "width": 1
         },
         "locationmode": "USA-states",
         "lon": [
          -118.40807439999999,
          -115.15233329999998
         ],
         "mode": "lines",
         "opacity": 0.24288840262582057,
         "type": "scattergeo",
         "uid": "6869a9c0-90b9-466b-a9ef-acce13a55de5"
        },
        {
         "lat": [
          41.979595,
          36.08036111
         ],
         "line": {
          "color": "red",
          "width": 1
         },
         "locationmode": "USA-states",
         "lon": [
          -87.90446417,
          -115.15233329999998
         ],
         "mode": "lines",
         "opacity": 0.3063457330415755,
         "type": "scattergeo",
         "uid": "50ba1488-107a-49d3-9cb9-69773e06b50c"
        },
        {
         "lat": [
          30.19453278,
          33.94253611
         ],
         "line": {
          "color": "red",
          "width": 1
         },
         "locationmode": "USA-states",
         "lon": [
          -97.66987194,
          -118.40807439999999
         ],
         "mode": "lines",
         "opacity": 0.1772428884026258,
         "type": "scattergeo",
         "uid": "e13ea5d9-3d18-4551-be36-1f4ea2c5878a"
        },
        {
         "lat": [
          36.12447667,
          33.94253611
         ],
         "line": {
          "color": "red",
          "width": 1
         },
         "locationmode": "USA-states",
         "lon": [
          -86.67818222,
          -118.40807439999999
         ],
         "mode": "lines",
         "opacity": 0.061269146608315096,
         "type": "scattergeo",
         "uid": "387b1f9b-6e2c-4707-8e44-034f795be459"
        },
        {
         "lat": [
          42.3643475,
          33.94253611
         ],
         "line": {
          "color": "red",
          "width": 1
         },
         "locationmode": "USA-states",
         "lon": [
          -71.00517917,
          -118.40807439999999
         ],
         "mode": "lines",
         "opacity": 0.1838074398249453,
         "type": "scattergeo",
         "uid": "078910d8-20aa-4aba-8591-33c8bb1a7511"
        },
        {
         "lat": [
          39.64256778,
          33.94253611
         ],
         "line": {
          "color": "red",
          "width": 1
         },
         "locationmode": "USA-states",
         "lon": [
          -106.91769529999999,
          -118.40807439999999
         ],
         "mode": "lines",
         "opacity": 0.061269146608315096,
         "type": "scattergeo",
         "uid": "1cb00456-008b-4cdd-923c-f7e55216ba32"
        },
        {
         "lat": [
          40.63975111,
          33.94253611
         ],
         "line": {
          "color": "red",
          "width": 1
         },
         "locationmode": "USA-states",
         "lon": [
          -73.77892556,
          -118.40807439999999
         ],
         "mode": "lines",
         "opacity": 0.5995623632385121,
         "type": "scattergeo",
         "uid": "0897040c-7611-4e38-aad4-84abbd251f38"
        },
        {
         "lat": [
          19.73876583,
          33.94253611
         ],
         "line": {
          "color": "red",
          "width": 1
         },
         "locationmode": "USA-states",
         "lon": [
          -156.0456314,
          -118.40807439999999
         ],
         "mode": "lines",
         "opacity": 0.061269146608315096,
         "type": "scattergeo",
         "uid": "f65170db-0cd8-4d6e-9a4b-6470f4db92c5"
        },
        {
         "lat": [
          20.89864972,
          33.94253611
         ],
         "line": {
          "color": "red",
          "width": 1
         },
         "locationmode": "USA-states",
         "lon": [
          -156.43045780000003,
          -118.40807439999999
         ],
         "mode": "lines",
         "opacity": 0.12253829321663019,
         "type": "scattergeo",
         "uid": "33d00890-74bb-43ed-92a0-b4b528f2cb22"
        },
        {
         "lat": [
          41.979595,
          33.94253611
         ],
         "line": {
          "color": "red",
          "width": 1
         },
         "locationmode": "USA-states",
         "lon": [
          -87.90446417,
          -118.40807439999999
         ],
         "mode": "lines",
         "opacity": 0.5426695842450766,
         "type": "scattergeo",
         "uid": "fb0c5cd8-db2e-4826-85ae-4af77cc17664"
        },
        {
         "lat": [
          38.74768694,
          33.94253611
         ],
         "line": {
          "color": "red",
          "width": 1
         },
         "locationmode": "USA-states",
         "lon": [
          -90.35998972,
          -118.40807439999999
         ],
         "mode": "lines",
         "opacity": 0.18161925601750548,
         "type": "scattergeo",
         "uid": "637f20c4-4af9-4924-82ba-bb2a85566d87"
        },
        {
         "lat": [
          36.12447667,
          40.77724306
         ],
         "line": {
          "color": "red",
          "width": 1
         },
         "locationmode": "USA-states",
         "lon": [
          -86.67818222,
          -73.87260917
         ],
         "mode": "lines",
         "opacity": 0.11159737417943107,
         "type": "scattergeo",
         "uid": "74479fc7-f9be-4137-8afb-a8eb0b2fc6bd"
        },
        {
         "lat": [
          32.89595056,
          40.77724306
         ],
         "line": {
          "color": "red",
          "width": 1
         },
         "locationmode": "USA-states",
         "lon": [
          -97.0372,
          -73.87260917
         ],
         "mode": "lines",
         "opacity": 0.849015317286652,
         "type": "scattergeo",
         "uid": "69bc0ff5-1cf9-405d-9a31-be9ccc1b1bb5"
        },
        {
         "lat": [
          38.74768694,
          40.77724306
         ],
         "line": {
          "color": "red",
          "width": 1
         },
         "locationmode": "USA-states",
         "lon": [
          -90.35998972,
          -73.87260917
         ],
         "mode": "lines",
         "opacity": 0.22538293216630198,
         "type": "scattergeo",
         "uid": "ca35e9d3-6335-4301-adab-522569d8fa07"
        },
        {
         "lat": [
          33.94253611,
          21.97598306
         ],
         "line": {
          "color": "red",
          "width": 1
         },
         "locationmode": "USA-states",
         "lon": [
          -118.40807439999999,
          -159.3389581
         ],
         "mode": "lines",
         "opacity": 0.061269146608315096,
         "type": "scattergeo",
         "uid": "b4fd51bc-3fe8-46aa-b804-822831825691"
        },
        {
         "lat": [
          33.94253611,
          28.42888889
         ],
         "line": {
          "color": "red",
          "width": 1
         },
         "locationmode": "USA-states",
         "lon": [
          -118.40807439999999,
          -81.31602778
         ],
         "mode": "lines",
         "opacity": 0.061269146608315096,
         "type": "scattergeo",
         "uid": "8ba1f1ae-332b-4b8a-8e92-e087412f217d"
        },
        {
         "lat": [
          25.79325,
          28.42888889
         ],
         "line": {
          "color": "red",
          "width": 1
         },
         "locationmode": "USA-states",
         "lon": [
          -80.29055556,
          -81.31602778
         ],
         "mode": "lines",
         "opacity": 0.49015317286652077,
         "type": "scattergeo",
         "uid": "516b708f-2229-43ed-b090-574cee7433f1"
        },
        {
         "lat": [
          33.64044444,
          25.79325
         ],
         "line": {
          "color": "red",
          "width": 1
         },
         "locationmode": "USA-states",
         "lon": [
          -84.42694444,
          -80.29055556
         ],
         "mode": "lines",
         "opacity": 0.24507658643326038,
         "type": "scattergeo",
         "uid": "020d73fc-5446-400f-a8a1-150de7f6c251"
        },
        {
         "lat": [
          41.93887417,
          25.79325
         ],
         "line": {
          "color": "red",
          "width": 1
         },
         "locationmode": "USA-states",
         "lon": [
          -72.68322833,
          -80.29055556
         ],
         "mode": "lines",
         "opacity": 0.12253829321663019,
         "type": "scattergeo",
         "uid": "3cb23d02-d68c-415b-9acd-0fcbb31ef429"
        },
        {
         "lat": [
          38.85208333,
          25.79325
         ],
         "line": {
          "color": "red",
          "width": 1
         },
         "locationmode": "USA-states",
         "lon": [
          -77.03772222,
          -80.29055556
         ],
         "mode": "lines",
         "opacity": 0.5514223194748359,
         "type": "scattergeo",
         "uid": "f8e17bb4-f5b7-4b32-8cff-7890045155e9"
        },
        {
         "lat": [
          39.64256778,
          25.79325
         ],
         "line": {
          "color": "red",
          "width": 1
         },
         "locationmode": "USA-states",
         "lon": [
          -106.91769529999999,
          -80.29055556
         ],
         "mode": "lines",
         "opacity": 0.0525164113785558,
         "type": "scattergeo",
         "uid": "f4c35fb1-4b96-44c9-8fa4-937a747a255e"
        },
        {
         "lat": [
          36.08036111,
          25.79325
         ],
         "line": {
          "color": "red",
          "width": 1
         },
         "locationmode": "USA-states",
         "lon": [
          -115.15233329999998,
          -80.29055556
         ],
         "mode": "lines",
         "opacity": 0.1838074398249453,
         "type": "scattergeo",
         "uid": "f2154f50-7d73-4cc4-819a-451ad8dea491"
        },
        {
         "lat": [
          33.94253611,
          25.79325
         ],
         "line": {
          "color": "red",
          "width": 1
         },
         "locationmode": "USA-states",
         "lon": [
          -118.40807439999999,
          -80.29055556
         ],
         "mode": "lines",
         "opacity": 0.4288840262582057,
         "type": "scattergeo",
         "uid": "efdf19fa-54c8-4e12-89dd-480f16858258"
        },
        {
         "lat": [
          40.77724306,
          25.79325
         ],
         "line": {
          "color": "red",
          "width": 1
         },
         "locationmode": "USA-states",
         "lon": [
          -73.87260917,
          -80.29055556
         ],
         "mode": "lines",
         "opacity": 0.6728665207877462,
         "type": "scattergeo",
         "uid": "dadfcc00-07d4-4725-9be0-93e718c19bf8"
        },
        {
         "lat": [
          44.88054694,
          25.79325
         ],
         "line": {
          "color": "red",
          "width": 1
         },
         "locationmode": "USA-states",
         "lon": [
          -93.2169225,
          -80.29055556
         ],
         "mode": "lines",
         "opacity": 0.061269146608315096,
         "type": "scattergeo",
         "uid": "ef53b065-6e9f-443a-baa4-b4e3c163518f"
        },
        {
         "lat": [
          41.979595,
          25.79325
         ],
         "line": {
          "color": "red",
          "width": 1
         },
         "locationmode": "USA-states",
         "lon": [
          -87.90446417,
          -80.29055556
         ],
         "mode": "lines",
         "opacity": 0.5525164113785558,
         "type": "scattergeo",
         "uid": "3441c551-7949-47da-984e-998c0c4c63ac"
        },
        {
         "lat": [
          39.87195278,
          25.79325
         ],
         "line": {
          "color": "red",
          "width": 1
         },
         "locationmode": "USA-states",
         "lon": [
          -75.24114083,
          -80.29055556
         ],
         "mode": "lines",
         "opacity": 0.1838074398249453,
         "type": "scattergeo",
         "uid": "58be61d6-d5ed-4682-a8fa-6304eed714f2"
        },
        {
         "lat": [
          33.43416667,
          25.79325
         ],
         "line": {
          "color": "red",
          "width": 1
         },
         "locationmode": "USA-states",
         "lon": [
          -112.00805559999999,
          -80.29055556
         ],
         "mode": "lines",
         "opacity": 0.061269146608315096,
         "type": "scattergeo",
         "uid": "4f2fcab3-88e0-41bb-82e3-2bde963f8151"
        },
        {
         "lat": [
          37.61900194,
          25.79325
         ],
         "line": {
          "color": "red",
          "width": 1
         },
         "locationmode": "USA-states",
         "lon": [
          -122.3748433,
          -80.29055556
         ],
         "mode": "lines",
         "opacity": 0.1838074398249453,
         "type": "scattergeo",
         "uid": "2d119866-3379-4a46-a882-125ba8b430af"
        },
        {
         "lat": [
          18.43941667,
          25.79325
         ],
         "line": {
          "color": "red",
          "width": 1
         },
         "locationmode": "USA-states",
         "lon": [
          -66.00183333,
          -80.29055556
         ],
         "mode": "lines",
         "opacity": 0.49015317286652077,
         "type": "scattergeo",
         "uid": "f79e7104-29ad-4be2-98ce-8600654077da"
        },
        {
         "lat": [
          36.19837222,
          25.79325
         ],
         "line": {
          "color": "red",
          "width": 1
         },
         "locationmode": "USA-states",
         "lon": [
          -95.88824167,
          -80.29055556
         ],
         "mode": "lines",
         "opacity": 0.00437636761487965,
         "type": "scattergeo",
         "uid": "603f2b00-10aa-4790-a296-16f352b4f039"
        },
        {
         "lat": [
          41.979595,
          44.88054694
         ],
         "line": {
          "color": "red",
          "width": 1
         },
         "locationmode": "USA-states",
         "lon": [
          -87.90446417,
          -93.2169225
         ],
         "mode": "lines",
         "opacity": 0.175054704595186,
         "type": "scattergeo",
         "uid": "d7a3b04e-4b80-4558-a5cc-5a68add6871a"
        },
        {
         "lat": [
          32.89595056,
          29.99338889
         ],
         "line": {
          "color": "red",
          "width": 1
         },
         "locationmode": "USA-states",
         "lon": [
          -97.0372,
          -90.25802778
         ],
         "mode": "lines",
         "opacity": 0.3676148796498906,
         "type": "scattergeo",
         "uid": "e89f1b61-6530-4f95-bc50-e0aa4f32e839"
        },
        {
         "lat": [
          25.79325,
          29.99338889
         ],
         "line": {
          "color": "red",
          "width": 1
         },
         "locationmode": "USA-states",
         "lon": [
          -80.29055556,
          -90.25802778
         ],
         "mode": "lines",
         "opacity": 0.1838074398249453,
         "type": "scattergeo",
         "uid": "686e9db3-739f-4bc6-8375-f92b507a1294"
        },
        {
         "lat": [
          41.979595,
          29.99338889
         ],
         "line": {
          "color": "red",
          "width": 1
         },
         "locationmode": "USA-states",
         "lon": [
          -87.90446417,
          -90.25802778
         ],
         "mode": "lines",
         "opacity": 0.16301969365426697,
         "type": "scattergeo",
         "uid": "2ba3dd3d-efa4-405b-b7b9-9da462d70bce"
        },
        {
         "lat": [
          32.89595056,
          34.056
         ],
         "line": {
          "color": "red",
          "width": 1
         },
         "locationmode": "USA-states",
         "lon": [
          -97.0372,
          -117.60119440000001
         ],
         "mode": "lines",
         "opacity": 0.24288840262582057,
         "type": "scattergeo",
         "uid": "16d34c13-de5b-4b3a-baf3-0557eb73658d"
        },
        {
         "lat": [
          38.85208333,
          41.979595
         ],
         "line": {
          "color": "red",
          "width": 1
         },
         "locationmode": "USA-states",
         "lon": [
          -77.03772222,
          -87.90446417
         ],
         "mode": "lines",
         "opacity": 0.3544857768052516,
         "type": "scattergeo",
         "uid": "9a7790d9-d851-49cf-9fb9-155773be77ee"
        },
        {
         "lat": [
          40.69249722,
          41.979595
         ],
         "line": {
          "color": "red",
          "width": 1
         },
         "locationmode": "USA-states",
         "lon": [
          -74.16866056,
          -87.90446417
         ],
         "mode": "lines",
         "opacity": 0.1838074398249453,
         "type": "scattergeo",
         "uid": "f66a14e7-4b2b-41ae-8519-7c90ff943ccb"
        },
        {
         "lat": [
          26.07258333,
          41.979595
         ],
         "line": {
          "color": "red",
          "width": 1
         },
         "locationmode": "USA-states",
         "lon": [
          -80.15275,
          -87.90446417
         ],
         "mode": "lines",
         "opacity": 0.1838074398249453,
         "type": "scattergeo",
         "uid": "66e18814-a9c5-48bf-bace-b1883d1504cb"
        },
        {
         "lat": [
          40.48118028,
          41.979595
         ],
         "line": {
          "color": "red",
          "width": 1
         },
         "locationmode": "USA-states",
         "lon": [
          -107.21765970000001,
          -87.90446417
         ],
         "mode": "lines",
         "opacity": 0.0525164113785558,
         "type": "scattergeo",
         "uid": "c30676ce-0b29-4882-b9e1-8ff67612bdae"
        },
        {
         "lat": [
          21.31869111,
          41.979595
         ],
         "line": {
          "color": "red",
          "width": 1
         },
         "locationmode": "USA-states",
         "lon": [
          -157.92240719999998,
          -87.90446417
         ],
         "mode": "lines",
         "opacity": 0.05032822757111598,
         "type": "scattergeo",
         "uid": "36485782-c453-4d7b-9224-831e1db2c027"
        },
        {
         "lat": [
          43.60732417,
          41.979595
         ],
         "line": {
          "color": "red",
          "width": 1
         },
         "locationmode": "USA-states",
         "lon": [
          -110.7377389,
          -87.90446417
         ],
         "mode": "lines",
         "opacity": 0.061269146608315096,
         "type": "scattergeo",
         "uid": "ab2ecb4f-8727-4dc7-b443-151fc56904cb"
        },
        {
         "lat": [
          40.63975111,
          41.979595
         ],
         "line": {
          "color": "red",
          "width": 1
         },
         "locationmode": "USA-states",
         "lon": [
          -73.77892556,
          -87.90446417
         ],
         "mode": "lines",
         "opacity": 0.061269146608315096,
         "type": "scattergeo",
         "uid": "56e94c5c-7bf8-40ad-92f3-c78974f4e749"
        },
        {
         "lat": [
          40.77724306,
          41.979595
         ],
         "line": {
          "color": "red",
          "width": 1
         },
         "locationmode": "USA-states",
         "lon": [
          -73.87260917,
          -87.90446417
         ],
         "mode": "lines",
         "opacity": 0.9409190371991247,
         "type": "scattergeo",
         "uid": "6d5190c3-cb81-4c2b-9182-dcac8ff5c73f"
        },
        {
         "lat": [
          39.29760528,
          41.979595
         ],
         "line": {
          "color": "red",
          "width": 1
         },
         "locationmode": "USA-states",
         "lon": [
          -94.71390556,
          -87.90446417
         ],
         "mode": "lines",
         "opacity": 0.23413566739606126,
         "type": "scattergeo",
         "uid": "f59d42f2-75d6-443b-be9d-dfdf87c1a4b9"
        },
        {
         "lat": [
          28.42888889,
          41.979595
         ],
         "line": {
          "color": "red",
          "width": 1
         },
         "locationmode": "USA-states",
         "lon": [
          -81.31602778,
          -87.90446417
         ],
         "mode": "lines",
         "opacity": 0.24507658643326038,
         "type": "scattergeo",
         "uid": "2d925b96-a86f-4ec0-b82c-7f1a6a5f79a4"
        },
        {
         "lat": [
          35.87763889,
          41.979595
         ],
         "line": {
          "color": "red",
          "width": 1
         },
         "locationmode": "USA-states",
         "lon": [
          -78.78747222,
          -87.90446417
         ],
         "mode": "lines",
         "opacity": 0.17067833698030635,
         "type": "scattergeo",
         "uid": "95fe06a6-3d5c-4c99-9e08-1d9843b858e7"
        },
        {
         "lat": [
          39.49857611,
          41.979595
         ],
         "line": {
          "color": "red",
          "width": 1
         },
         "locationmode": "USA-states",
         "lon": [
          -119.76806470000001,
          -87.90446417
         ],
         "mode": "lines",
         "opacity": 0.061269146608315096,
         "type": "scattergeo",
         "uid": "485b2686-c014-4cf4-b8d9-f1efe748adda"
        },
        {
         "lat": [
          32.73355611,
          41.979595
         ],
         "line": {
          "color": "red",
          "width": 1
         },
         "locationmode": "USA-states",
         "lon": [
          -117.1896567,
          -87.90446417
         ],
         "mode": "lines",
         "opacity": 0.24507658643326038,
         "type": "scattergeo",
         "uid": "fed99ff8-8d0c-49a8-8b99-d36b42b173ad"
        },
        {
         "lat": [
          29.53369444,
          41.979595
         ],
         "line": {
          "color": "red",
          "width": 1
         },
         "locationmode": "USA-states",
         "lon": [
          -98.46977778,
          -87.90446417
         ],
         "mode": "lines",
         "opacity": 0.12253829321663019,
         "type": "scattergeo",
         "uid": "3e3b4db1-46ac-4200-a444-64e906987f40"
        },
        {
         "lat": [
          37.36186194,
          41.979595
         ],
         "line": {
          "color": "red",
          "width": 1
         },
         "locationmode": "USA-states",
         "lon": [
          -121.92900890000001,
          -87.90446417
         ],
         "mode": "lines",
         "opacity": 0.12253829321663019,
         "type": "scattergeo",
         "uid": "e04a6ebf-7972-4399-aade-505042b041e6"
        },
        {
         "lat": [
          18.43941667,
          41.979595
         ],
         "line": {
          "color": "red",
          "width": 1
         },
         "locationmode": "USA-states",
         "lon": [
          -66.00183333,
          -87.90446417
         ],
         "mode": "lines",
         "opacity": 0.12253829321663019,
         "type": "scattergeo",
         "uid": "59c8bd64-7045-4b2b-a088-83dde36572a7"
        },
        {
         "lat": [
          38.74768694,
          41.979595
         ],
         "line": {
          "color": "red",
          "width": 1
         },
         "locationmode": "USA-states",
         "lon": [
          -90.35998972,
          -87.90446417
         ],
         "mode": "lines",
         "opacity": 0.5284463894967177,
         "type": "scattergeo",
         "uid": "442c371b-f616-45bf-9672-55de16d31310"
        },
        {
         "lat": [
          36.19837222,
          41.979595
         ],
         "line": {
          "color": "red",
          "width": 1
         },
         "locationmode": "USA-states",
         "lon": [
          -95.88824167,
          -87.90446417
         ],
         "mode": "lines",
         "opacity": 0.061269146608315096,
         "type": "scattergeo",
         "uid": "9d91f24c-eec3-4078-8c29-c7c389a4dd23"
        },
        {
         "lat": [
          32.11608333,
          41.979595
         ],
         "line": {
          "color": "red",
          "width": 1
         },
         "locationmode": "USA-states",
         "lon": [
          -110.94102779999999,
          -87.90446417
         ],
         "mode": "lines",
         "opacity": 0.12253829321663019,
         "type": "scattergeo",
         "uid": "804fb13a-6118-4854-baed-f901696a22d7"
        },
        {
         "lat": [
          32.89595056,
          36.89461111
         ],
         "line": {
          "color": "red",
          "width": 1
         },
         "locationmode": "USA-states",
         "lon": [
          -97.0372,
          -76.20122222
         ],
         "mode": "lines",
         "opacity": 0.12253829321663019,
         "type": "scattergeo",
         "uid": "4bda08b6-bc15-4d4c-9615-9b7af61094e8"
        },
        {
         "lat": [
          32.89595056,
          26.68316194
         ],
         "line": {
          "color": "red",
          "width": 1
         },
         "locationmode": "USA-states",
         "lon": [
          -97.0372,
          -80.09559417
         ],
         "mode": "lines",
         "opacity": 0.12253829321663019,
         "type": "scattergeo",
         "uid": "dc2acf8c-6c8d-45a3-9210-1ef604718fbf"
        },
        {
         "lat": [
          41.979595,
          26.68316194
         ],
         "line": {
          "color": "red",
          "width": 1
         },
         "locationmode": "USA-states",
         "lon": [
          -87.90446417,
          -80.09559417
         ],
         "mode": "lines",
         "opacity": 0.16411378555798686,
         "type": "scattergeo",
         "uid": "f6b8c5bc-a574-4362-8937-fd3a0c273fde"
        },
        {
         "lat": [
          32.89595056,
          45.58872222
         ],
         "line": {
          "color": "red",
          "width": 1
         },
         "locationmode": "USA-states",
         "lon": [
          -97.0372,
          -122.5975
         ],
         "mode": "lines",
         "opacity": 0.24507658643326038,
         "type": "scattergeo",
         "uid": "a7df0407-c7d6-4fe0-8e9f-7824f6ed9ee0"
        },
        {
         "lat": [
          41.979595,
          39.87195278
         ],
         "line": {
          "color": "red",
          "width": 1
         },
         "locationmode": "USA-states",
         "lon": [
          -87.90446417,
          -75.24114083
         ],
         "mode": "lines",
         "opacity": 0.12035010940919037,
         "type": "scattergeo",
         "uid": "c6059164-43e8-4e1a-a6a5-0e53a96534d3"
        },
        {
         "lat": [
          18.43941667,
          39.87195278
         ],
         "line": {
          "color": "red",
          "width": 1
         },
         "locationmode": "USA-states",
         "lon": [
          -66.00183333,
          -75.24114083
         ],
         "mode": "lines",
         "opacity": 0.061269146608315096,
         "type": "scattergeo",
         "uid": "48161678-b516-4535-9d1f-8c801666045a"
        },
        {
         "lat": [
          41.979595,
          33.43416667
         ],
         "line": {
          "color": "red",
          "width": 1
         },
         "locationmode": "USA-states",
         "lon": [
          -87.90446417,
          -112.00805559999999
         ],
         "mode": "lines",
         "opacity": 0.3063457330415755,
         "type": "scattergeo",
         "uid": "05ee3acf-372b-4b3e-8e51-e14331c0fc7c"
        },
        {
         "lat": [
          32.89595056,
          40.49146583
         ],
         "line": {
          "color": "red",
          "width": 1
         },
         "locationmode": "USA-states",
         "lon": [
          -97.0372,
          -80.23287083
         ],
         "mode": "lines",
         "opacity": 0.18599562363238512,
         "type": "scattergeo",
         "uid": "426db699-c244-4c61-b152-da0a06aff7b0"
        },
        {
         "lat": [
          32.89595056,
          33.82921556
         ],
         "line": {
          "color": "red",
          "width": 1
         },
         "locationmode": "USA-states",
         "lon": [
          -97.0372,
          -116.5062531
         ],
         "mode": "lines",
         "opacity": 0.1838074398249453,
         "type": "scattergeo",
         "uid": "f29a755b-a52f-4045-9be7-3eb8dc9f0c6b"
        },
        {
         "lat": [
          41.979595,
          33.82921556
         ],
         "line": {
          "color": "red",
          "width": 1
         },
         "locationmode": "USA-states",
         "lon": [
          -87.90446417,
          -116.5062531
         ],
         "mode": "lines",
         "opacity": 0.0700218818380744,
         "type": "scattergeo",
         "uid": "f25573a1-d3a1-47d7-a080-00be1f92dfbb"
        },
        {
         "lat": [
          32.89595056,
          35.87763889
         ],
         "line": {
          "color": "red",
          "width": 1
         },
         "locationmode": "USA-states",
         "lon": [
          -97.0372,
          -78.78747222
         ],
         "mode": "lines",
         "opacity": 0.3041575492341357,
         "type": "scattergeo",
         "uid": "515490bc-153f-4fe2-9862-b89a100c25cc"
        },
        {
         "lat": [
          25.79325,
          35.87763889
         ],
         "line": {
          "color": "red",
          "width": 1
         },
         "locationmode": "USA-states",
         "lon": [
          -80.29055556,
          -78.78747222
         ],
         "mode": "lines",
         "opacity": 0.1838074398249453,
         "type": "scattergeo",
         "uid": "2b1af23b-26e5-4dd0-9fc8-cdf290da579e"
        },
        {
         "lat": [
          32.89595056,
          26.53616667
         ],
         "line": {
          "color": "red",
          "width": 1
         },
         "locationmode": "USA-states",
         "lon": [
          -97.0372,
          -81.75516667
         ],
         "mode": "lines",
         "opacity": 0.1838074398249453,
         "type": "scattergeo",
         "uid": "ade0b155-9005-4836-b4b3-e9482a39c800"
        },
        {
         "lat": [
          41.979595,
          26.53616667
         ],
         "line": {
          "color": "red",
          "width": 1
         },
         "locationmode": "USA-states",
         "lon": [
          -87.90446417,
          -81.75516667
         ],
         "mode": "lines",
         "opacity": 0.1838074398249453,
         "type": "scattergeo",
         "uid": "36f691d0-58b5-4d37-9b65-a01a0f1fe49d"
        },
        {
         "lat": [
          40.63975111,
          32.73355611
         ],
         "line": {
          "color": "red",
          "width": 1
         },
         "locationmode": "USA-states",
         "lon": [
          -73.77892556,
          -117.1896567
         ],
         "mode": "lines",
         "opacity": 0.061269146608315096,
         "type": "scattergeo",
         "uid": "32c1ca78-a0e3-4ce9-8002-246dda686108"
        },
        {
         "lat": [
          32.89595056,
          47.44898194
         ],
         "line": {
          "color": "red",
          "width": 1
         },
         "locationmode": "USA-states",
         "lon": [
          -97.0372,
          -122.30931310000001
         ],
         "mode": "lines",
         "opacity": 0.4288840262582057,
         "type": "scattergeo",
         "uid": "fd577353-a3f6-4817-be15-2f661416bbc8"
        },
        {
         "lat": [
          41.979595,
          47.44898194
         ],
         "line": {
          "color": "red",
          "width": 1
         },
         "locationmode": "USA-states",
         "lon": [
          -87.90446417,
          -122.30931310000001
         ],
         "mode": "lines",
         "opacity": 0.23413566739606126,
         "type": "scattergeo",
         "uid": "8691900f-6754-46c0-b608-b9a4354f78d4"
        },
        {
         "lat": [
          21.31869111,
          37.61900194
         ],
         "line": {
          "color": "red",
          "width": 1
         },
         "locationmode": "USA-states",
         "lon": [
          -157.92240719999998,
          -122.3748433
         ],
         "mode": "lines",
         "opacity": 0.061269146608315096,
         "type": "scattergeo",
         "uid": "beda0ca1-6f55-4cdd-a0dd-b5ffac664369"
        },
        {
         "lat": [
          33.94253611,
          37.61900194
         ],
         "line": {
          "color": "red",
          "width": 1
         },
         "locationmode": "USA-states",
         "lon": [
          -118.40807439999999,
          -122.3748433
         ],
         "mode": "lines",
         "opacity": 0.3676148796498906,
         "type": "scattergeo",
         "uid": "15fc824e-019d-4e8e-b2e0-981551c4dd2d"
        },
        {
         "lat": [
          41.979595,
          37.61900194
         ],
         "line": {
          "color": "red",
          "width": 1
         },
         "locationmode": "USA-states",
         "lon": [
          -87.90446417,
          -122.3748433
         ],
         "mode": "lines",
         "opacity": 0.35667396061269147,
         "type": "scattergeo",
         "uid": "56444997-8a31-426f-8853-3e30c3d1ed33"
        },
        {
         "lat": [
          32.89595056,
          18.43941667
         ],
         "line": {
          "color": "red",
          "width": 1
         },
         "locationmode": "USA-states",
         "lon": [
          -97.0372,
          -66.00183333
         ],
         "mode": "lines",
         "opacity": 0.13129102844638948,
         "type": "scattergeo",
         "uid": "4a236408-1bbb-4e7f-9727-f5f26e95fc99"
        },
        {
         "lat": [
          38.94453194,
          18.43941667
         ],
         "line": {
          "color": "red",
          "width": 1
         },
         "locationmode": "USA-states",
         "lon": [
          -77.45580972,
          -66.00183333
         ],
         "mode": "lines",
         "opacity": 0.061269146608315096,
         "type": "scattergeo",
         "uid": "3aef2244-edde-413b-9323-862cf347769e"
        },
        {
         "lat": [
          40.63975111,
          18.43941667
         ],
         "line": {
          "color": "red",
          "width": 1
         },
         "locationmode": "USA-states",
         "lon": [
          -73.77892556,
          -66.00183333
         ],
         "mode": "lines",
         "opacity": 0.1838074398249453,
         "type": "scattergeo",
         "uid": "29fd371b-2979-463b-8baf-d425358f7bae"
        },
        {
         "lat": [
          33.94253611,
          18.43941667
         ],
         "line": {
          "color": "red",
          "width": 1
         },
         "locationmode": "USA-states",
         "lon": [
          -118.40807439999999,
          -66.00183333
         ],
         "mode": "lines",
         "opacity": 0.0175054704595186,
         "type": "scattergeo",
         "uid": "2267d869-21c1-411d-a5d9-949ea807ab74"
        },
        {
         "lat": [
          32.89595056,
          38.69542167
         ],
         "line": {
          "color": "red",
          "width": 1
         },
         "locationmode": "USA-states",
         "lon": [
          -97.0372,
          -121.5907669
         ],
         "mode": "lines",
         "opacity": 0.24507658643326038,
         "type": "scattergeo",
         "uid": "41daf236-c470-48b3-8b41-98530e30c313"
        },
        {
         "lat": [
          32.89595056,
          33.67565861
         ],
         "line": {
          "color": "red",
          "width": 1
         },
         "locationmode": "USA-states",
         "lon": [
          -97.0372,
          -117.86822250000002
         ],
         "mode": "lines",
         "opacity": 0.6323851203501094,
         "type": "scattergeo",
         "uid": "ef921765-5c9c-4041-a415-d7cc98883fcc"
        },
        {
         "lat": [
          41.979595,
          33.67565861
         ],
         "line": {
          "color": "red",
          "width": 1
         },
         "locationmode": "USA-states",
         "lon": [
          -87.90446417,
          -117.86822250000002
         ],
         "mode": "lines",
         "opacity": 0.16630196936542668,
         "type": "scattergeo",
         "uid": "b0ddd78e-5e5b-4667-b0c4-8df1a015fd53"
        },
        {
         "lat": [
          38.85208333,
          38.74768694
         ],
         "line": {
          "color": "red",
          "width": 1
         },
         "locationmode": "USA-states",
         "lon": [
          -77.03772222,
          -90.35998972
         ],
         "mode": "lines",
         "opacity": 0.2188183807439825,
         "type": "scattergeo",
         "uid": "e92bddcf-58b8-420f-b2a3-3286aa758bf6"
        },
        {
         "lat": [
          25.79325,
          38.74768694
         ],
         "line": {
          "color": "red",
          "width": 1
         },
         "locationmode": "USA-states",
         "lon": [
          -80.29055556,
          -90.35998972
         ],
         "mode": "lines",
         "opacity": 0.1838074398249453,
         "type": "scattergeo",
         "uid": "563469ac-1f7a-46cd-a68a-783eec6d9fd4"
        },
        {
         "lat": [
          25.79325,
          18.33730556
         ],
         "line": {
          "color": "red",
          "width": 1
         },
         "locationmode": "USA-states",
         "lon": [
          -80.29055556,
          -64.97336111
         ],
         "mode": "lines",
         "opacity": 0.12253829321663019,
         "type": "scattergeo",
         "uid": "9309d955-58cf-49d5-9264-e4207b748207"
        },
        {
         "lat": [
          25.79325,
          17.70188889
         ],
         "line": {
          "color": "red",
          "width": 1
         },
         "locationmode": "USA-states",
         "lon": [
          -80.29055556,
          -64.79855556
         ],
         "mode": "lines",
         "opacity": 0.06783369803063458,
         "type": "scattergeo",
         "uid": "8d634e17-e38a-43c5-8a6a-f0444bc76ee2"
        },
        {
         "lat": [
          32.89595056,
          27.97547222
         ],
         "line": {
          "color": "red",
          "width": 1
         },
         "locationmode": "USA-states",
         "lon": [
          -97.0372,
          -82.53325
         ],
         "mode": "lines",
         "opacity": 0.4288840262582057,
         "type": "scattergeo",
         "uid": "c765f6ec-a986-447e-817c-60ed1372e049"
        },
        {
         "lat": [
          25.79325,
          27.97547222
         ],
         "line": {
          "color": "red",
          "width": 1
         },
         "locationmode": "USA-states",
         "lon": [
          -80.29055556,
          -82.53325
         ],
         "mode": "lines",
         "opacity": 0.32603938730853393,
         "type": "scattergeo",
         "uid": "0e5d4cf3-ff21-4716-a1ed-768c177cbfe1"
        },
        {
         "lat": [
          41.979595,
          27.97547222
         ],
         "line": {
          "color": "red",
          "width": 1
         },
         "locationmode": "USA-states",
         "lon": [
          -87.90446417,
          -82.53325
         ],
         "mode": "lines",
         "opacity": 0.16411378555798686,
         "type": "scattergeo",
         "uid": "d5ba183c-5598-4d84-ba04-13751bd2f523"
        },
        {
         "lat": [
          18.43941667,
          27.97547222
         ],
         "line": {
          "color": "red",
          "width": 1
         },
         "locationmode": "USA-states",
         "lon": [
          -66.00183333,
          -82.53325
         ],
         "mode": "lines",
         "opacity": 0.061269146608315096,
         "type": "scattergeo",
         "uid": "bc398619-6f9f-4bee-8267-e1857018772e"
        },
        {
         "lat": [
          32.89595056,
          36.19837222
         ],
         "line": {
          "color": "red",
          "width": 1
         },
         "locationmode": "USA-states",
         "lon": [
          -97.0372,
          -95.88824167
         ],
         "mode": "lines",
         "opacity": 0.42669584245076586,
         "type": "scattergeo",
         "uid": "3c0eae92-d57f-4af2-ab73-89ad22cc5556"
        },
        {
         "lat": [
          32.89595056,
          32.11608333
         ],
         "line": {
          "color": "red",
          "width": 1
         },
         "locationmode": "USA-states",
         "lon": [
          -97.0372,
          -110.94102779999999
         ],
         "mode": "lines",
         "opacity": 0.45842450765864334,
         "type": "scattergeo",
         "uid": "96b048a5-e2a2-4153-9ec2-3a52f092eab3"
        },
        {
         "hoverinfo": "text",
         "lat": [
          41.979595,
          33.64044444,
          32.89595056,
          33.43416667,
          39.85840806,
          29.98047222,
          37.61900194,
          33.94253611,
          28.42888889,
          35.21401111,
          40.78838778,
          27.97547222,
          40.69249722,
          36.08036111,
          39.87195278,
          44.88054694,
          47.44898194,
          40.77724306,
          41.7859825,
          38.94453194,
          32.73355611,
          38.74768694,
          42.21205889,
          40.63975111,
          25.79325,
          42.3643475,
          38.69542167,
          39.17540167,
          33.67565861,
          29.99338889,
          37.36186194,
          38.85208333,
          45.58872222,
          26.53616667,
          26.68316194,
          35.87763889,
          29.64541861,
          29.53369444,
          26.07258333,
          39.29760528,
          37.72129083,
          40.49146583,
          35.04241667,
          42.94722222,
          41.41089417,
          30.49405556,
          32.11608333,
          39.71732917,
          39.49857611,
          35.39308833,
          41.72399917,
          36.19837222,
          39.04614278,
          39.99798528,
          38.17438889,
          34.056,
          34.72939611,
          32.84711389,
          41.30251861,
          36.89461111,
          39.90237583,
          43.11886611,
          36.28186944,
          36.12447667,
          35.04022222,
          32.31116667,
          31.80666667,
          37.50516667,
          41.93887417,
          31.94252778,
          30.53316083,
          35.81248722,
          38.80580556,
          30.47330556,
          43.11118694,
          33.56294306,
          42.93451639,
          33.82921556,
          27.39533333,
          27.77036083,
          34.6404475,
          33.93884,
          30.20527972,
          34.42621194,
          47.61985556,
          30.69141667,
          37.64995889,
          42.94052472,
          41.53493306,
          40.19349528,
          43.64616667,
          32.30064417,
          37.13189556,
          41.06695778,
          36.5869825,
          42.88081972,
          30.448674,
          32.65658333,
          39.22316,
          30.39652778,
          30.40728028,
          44.04532139,
          33.81772222,
          34.27061111,
          38.03697222,
          43.13985778,
          44.123259999999995,
          32.12758333,
          33.66363889,
          41.88458833,
          34.89566722,
          36.09774694,
          40.7952425,
          41.44852639,
          35.43619444,
          40.91631194,
          40.47798556,
          26.22850611,
          30.48325,
          32.446627500000005,
          46.91934889,
          40.48118028,
          42.37422778,
          40.66424333,
          27.54373861,
          30.19453278,
          32.41132,
          37.24432611,
          42.96550333,
          36.47521417,
          31.06489778,
          32.89864639,
          44.48507333,
          44.25406722,
          32.51633333,
          41.70895361,
          43.56444444,
          33.67975,
          48.25937778,
          40.03925,
          37.32546833,
          39.64256778,
          43.60732417,
          45.77690139,
          39.1224125,
          34.20061917,
          38.03799139,
          38.53396333,
          43.51455556,
          36.77619444,
          39.84395194,
          26.17583333,
          40.50898361,
          47.949255,
          43.58135111,
          42.48180389,
          34.89924833,
          42.91130556,
          31.32133917,
          34.82916444,
          38.50886722,
          46.77411111,
          42.90835556,
          44.74144472,
          32.51086556,
          46.26468028,
          39.14096722,
          31.32737167,
          43.41713889,
          35.61677778,
          42.15614361,
          41.50409361,
          38.13863889,
          30.7825,
          44.77761917,
          35.65884306,
          40.97811528,
          31.25902778,
          40.85097222,
          40.97846583,
          44.52019417,
          37.06083333,
          35.23705806,
          41.33814944,
          33.45033444,
          44.34889806,
          35.07297222,
          33.369955,
          35.33659028,
          32.35413889,
          46.60681806,
          47.48200194,
          32.33313333,
          46.353639,
          37.95375861,
          35.03526833,
          46.37449806,
          37.70097028,
          42.74811944,
          44.47300361,
          48.31140472,
          28.10275,
          29.17991667,
          40.65236278,
          46.84209028,
          41.155722499999996,
          41.5942175,
          37.85830556,
          38.37315083,
          48.79275,
          37.62404861,
          44.25740806,
          36.385913,
          27.91076333,
          33.98879611,
          34.99147222,
          44.86525722,
          42.40295944,
          43.90882639,
          34.681499,
          45.8076625
         ],
         "locationmode": "USA-states",
         "lon": [
          -87.90446417,
          -84.42694444,
          -97.0372,
          -112.00805559999999,
          -104.6670019,
          -95.33972222,
          -122.3748433,
          -118.40807439999999,
          -81.31602778,
          -80.94312583,
          -111.9777731,
          -82.53325,
          -74.16866056,
          -115.15233329999998,
          -75.24114083,
          -93.2169225,
          -122.30931310000001,
          -73.87260917,
          -87.75242444,
          -77.45580972,
          -117.1896567,
          -90.35998972,
          -83.34883583,
          -73.77892556,
          -80.29055556,
          -71.00517917,
          -121.5907669,
          -76.66819833,
          -117.86822250000002,
          -90.25802778,
          -121.92900890000001,
          -77.03772222,
          -122.5975,
          -81.75516667,
          -80.09559417,
          -78.78747222,
          -95.27888889,
          -98.46977778,
          -80.15275,
          -94.71390556,
          -122.22071670000001,
          -80.23287083,
          -89.97666667,
          -87.89658333,
          -81.84939667,
          -81.68786111,
          -110.94102779999999,
          -86.29438417,
          -119.76806470000001,
          -97.60073389,
          -71.42822111,
          -95.88824167,
          -84.6621725,
          -82.89188278,
          -85.736,
          -117.60119440000001,
          -92.22424556,
          -96.85177222,
          -95.89417306,
          -76.20122222,
          -84.219375,
          -77.67238389,
          -94.30681111,
          -86.67818222,
          -106.6091944,
          -90.07588889,
          -106.37780559999999,
          -77.31966667,
          -72.68322833,
          -102.20191390000001,
          -91.14963444,
          -83.99285583,
          -104.70025,
          -87.18744444,
          -76.10631056,
          -86.75354972,
          -71.43705583,
          -116.5062531,
          -82.55411111,
          -97.50121528,
          -86.77310944,
          -81.11953944,
          -91.987655,
          -119.8403733,
          -117.5338425,
          -88.24283333,
          -97.43304583,
          -78.73216667,
          -93.66068222,
          -76.76340361,
          -70.30875,
          -86.39397611,
          -76.4929875,
          -73.70757444,
          -121.84294779999999,
          -85.52276778,
          -84.550781,
          -114.60597220000001,
          -106.868845,
          -84.35033333,
          -89.07009278,
          -103.0573708,
          -118.1516111,
          -77.90255556,
          -84.60538889,
          -89.33751361,
          -123.21868559999999,
          -81.20213889,
          -101.8227778,
          -91.71087222,
          -82.21885833,
          -79.9372975,
          -73.10021194,
          -90.50753917,
          -82.54180556,
          -81.44246556,
          -88.91595278,
          -97.65439389,
          -86.5254,
          -93.82559833,
          -96.81498889,
          -107.21765970000001,
          -122.8734978,
          -89.69330556,
          -99.46154361,
          -97.66987194,
          -99.68189722,
          -93.38685806,
          -83.74345639,
          -82.40742056,
          -97.82779778,
          -80.04050583,
          -88.12959000000001,
          -121.1499633,
          -84.93886111,
          -86.31847417,
          -116.22277779999999,
          -78.92833333,
          -101.2803339,
          -88.27805556,
          -79.97542833,
          -106.91769529999999,
          -110.7377389,
          -111.15300719999999,
          -108.5267347,
          -118.3584969,
          -87.53062667,
          -106.9331817,
          -112.07016670000002,
          -119.7181389,
          -89.67761861,
          -98.23861111,
          -122.2934019,
          -97.17611111,
          -96.74170028,
          -114.4877356,
          -120.4575825,
          -112.59586110000001,
          -85.44962889,
          -77.61213778,
          -107.89383329999998,
          -100.74672220000001,
          -106.46446609999998,
          -85.582235,
          -92.03768778,
          -119.11902920000001,
          -96.67083278,
          -92.54855611,
          -124.2460278,
          -106.08813889999999,
          -121.7332081,
          -74.10483833,
          -78.45286111,
          -83.27672222,
          -89.66677944,
          -117.8295122,
          -124.1086189,
          -81.46630556,
          -96.75925,
          -85.19514639,
          -109.02379609999998,
          -88.77375,
          -120.64239309999999,
          -75.72426750000001,
          -88.59136861,
          -105.5393614,
          -77.04294444,
          -81.96449611,
          -94.36744111,
          -95.40238611,
          -111.9827503,
          -111.37068529999999,
          -88.75120556,
          -87.395361,
          -107.90848000000001,
          -85.20378778,
          -117.01539440000002,
          -113.098575,
          -73.80297861,
          -73.1503125,
          -114.25506940000001,
          -80.64580556,
          -81.05805556,
          -75.44040167,
          -92.19364861,
          -104.81183809999999,
          -109.0651928,
          -80.39947222,
          -81.59318972,
          -122.53752779999999,
          -118.8377722,
          -88.51947556,
          -92.548828,
          -82.68743944,
          -98.49189333,
          -78.88,
          -91.48507194,
          -90.70916722,
          -92.49798722,
          -90.348816,
          -108.54286110000001
         ],
         "marker": {
          "color": "rgb(255, 0, 0)",
          "line": {
           "color": "rgba(68, 68, 68, 0)",
           "width": 3
          },
          "size": 2
         },
         "mode": "markers",
         "text": [
          "Chicago O'Hare International",
          "William B Hartsfield-Atlanta Intl",
          "Dallas-Fort Worth International",
          "Phoenix Sky Harbor International",
          "Denver Intl",
          "George Bush Intercontinental",
          "San Francisco International",
          "Los Angeles International",
          "Orlando International",
          "Charlotte/Douglas International",
          "Salt Lake City Intl",
          "Tampa International ",
          "Newark Intl",
          "McCarran International",
          "Philadelphia Intl",
          "Minneapolis-St Paul Intl",
          "Seattle-Tacoma Intl",
          "LaGuardia",
          "Chicago Midway",
          "Washington Dulles International",
          "San Diego International-Lindbergh ",
          "Lambert-St Louis International",
          "Detroit Metropolitan-Wayne County",
          "John F Kennedy Intl",
          "Miami International",
          "Gen Edw L Logan Intl",
          "Sacramento International",
          "Baltimore-Washington International",
          "John Wayne /Orange Co",
          "New Orleans International ",
          "San Jose International",
          "Ronald Reagan Washington National",
          "Portland Intl",
          "Southwest Florida International",
          "Palm Beach International",
          "Raleigh-Durham International",
          "William P Hobby",
          "San Antonio International",
          "Fort Lauderdale-Hollywood Int'l",
          "Kansas City International",
          "Metropolitan Oakland International",
          "Pittsburgh International",
          "Memphis International",
          "General Mitchell International",
          "Cleveland-Hopkins Intl",
          "Jacksonville International",
          "Tucson International",
          "Indianapolis International",
          "Reno/Tahoe International",
          "Will Rogers World",
          "Theodore F Green State",
          "Tulsa International",
          "Cincinnati Northern Kentucky Intl",
          "Port Columbus Intl",
          "Louisville International-Standiford ",
          "Ontario International",
          "Adams ",
          "Dallas Love ",
          "Eppley Airfield",
          "Norfolk International",
          "James M Cox Dayton Intl",
          "Greater Rochester Int'l",
          "Northwest Arkansas Regional",
          "Nashville International",
          "Albuquerque International",
          "Jackson International",
          "El Paso International",
          "Richmond International",
          "Bradley International",
          "Midland International",
          "Baton Rouge Metropolitan, Ryan ",
          "McGhee-Tyson",
          "City of Colorado Springs Muni",
          "Pensacola Regional",
          "Syracuse-Hancock Intl",
          "Birmingham International",
          "Manchester",
          "Palm Springs International",
          "Sarasota Bradenton International",
          "Corpus Christi International",
          "Huntsville International ",
          "Columbia Metropolitan",
          "Lafayette Regional",
          "Santa Barbara Municipal",
          "Spokane Intl",
          "Mobile Regional",
          "Wichita Mid-Continent",
          "Buffalo Niagara Intl",
          "Des Moines International",
          "Harrisburg Intl",
          "Portland International Jetport",
          "Montgomery Regional Apt",
          "Newport News/Williamsburg International",
          "Westchester Cty",
          "Monterey Peninsula",
          "Kent County International",
          "Florida Beach",
          "Yuma MCAS-Yuma International",
          "Aspen-Pitkin Co/Sardy ",
          "Tallahassee Regional",
          "Gulfport-Biloxi Regional",
          "Rapid City Regional",
          "Long Beach (Daugherty )",
          "Wilmington International",
          "Blue Grass ",
          "Dane County Regional",
          "Mahlon Sweet ",
          "Savannah International",
          "Lubbock International",
          "Eastern Iowa ",
          "Greenville-Spartanburg",
          "Piedmont Triad International",
          "Long Island - MacArthur",
          "Quad City",
          "Asheville Regional",
          "Akron-Canton Regional",
          "Central Illinois Regional",
          "Valley International",
          "Eglin Air Force Base",
          "Shreveport Regional",
          "Hector International",
          "Yampa Valley",
          "Rogue Valley International",
          "Greater Peoria Regional",
          "Laredo International",
          "Austin-Bergstrom International",
          "Abilene Regional",
          "Springfield-Branson Regional",
          "Bishop",
          "Tri-Cities Regional",
          "Robert Gray AAF",
          "Charleston AFB/International",
          "Austin Straubel International",
          "Roberts ",
          "Columbus Metropolitan",
          "South Bend Regional",
          "Boise Air Terminal",
          "Myrtle Beach International",
          "Minot International",
          "University of Illinois-Willard",
          "Roanoke Regional/ Woodrum ",
          "Eagle County Regional",
          "Jackson Hole",
          "Gallatin ",
          "Walker ",
          "Burbank-Glendale-Pasadena",
          "Evansville Regional",
          "Gunnison County",
          "Idaho Falls Regional",
          "Fresno Yosemite International",
          "Capital",
          "McAllen Miller International",
          "Redding Municipal",
          "Grand Forks International",
          "Joe Foss ",
          "Joslin Field - Magic Valley",
          "Santa Maria Pub/Capt G Allan Hancock ",
          "Pocatello Regional",
          "Dothan ",
          "Albert J Ellis",
          "Montrose Regional",
          "Bismarck Municipal",
          "Natrona County Intl",
          "Cherry Capital",
          "Monroe Regional",
          "Tri-Cities",
          "Manhattan Regional",
          "Alexandria International",
          "North Bend Muni",
          "Santa Fe Municipal",
          "Klamath Falls International",
          "Stewart",
          "Charlottesville-Albermarle",
          "Valdosta Regional",
          "Central Wisconsin",
          "Inyokern",
          "Arcata",
          "Glynco Jetport",
          "Lincoln Municipal",
          "Fort Wayne International",
          "Yellowstone Regional",
          "Barkley Regional",
          "San Luis Obispo Co-McChesney ",
          "Wilkes-Barre/Scranton Intl",
          "Golden Triangle Regional",
          "Gillette-Campbell County",
          "Craven County Regional",
          "Bush ",
          "Fort Smith Regional",
          "Tyler Pounds ",
          "Helena Regional",
          "Great Falls Intl",
          "Key ",
          "Marquette County Airport",
          "Telluride Regional",
          "Lovell ",
          "Lewiston-Nez Perce County",
          "Cedar City Muni",
          "Albany Cty",
          "Burlington International",
          "Glacier Park Intl",
          "Melbourne International ",
          "Daytona Beach International",
          "Lehigh Valley International",
          "Duluth International",
          "Cheyenne",
          "Rock Springs-Sweetwater County",
          "Greenbrier Valley",
          "Yeager",
          "Bellingham Intl",
          "Mammoth Yosemite",
          "Outagamie County Regional",
          "Branson Airport",
          "St. Petersburg-Clearwater International",
          "Sheppard AFB/Wichita Falls Municipal",
          "Fayetteville Municipal",
          "Chippewa Valley Regional",
          "Dubuque Municipal",
          "Rochester International",
          "Tunica Municipal Airport",
          "Billings Logan Intl"
         ],
         "type": "scattergeo",
         "uid": "ca76ea0c-4d39-4c82-b08f-17616be1db42"
        }
       ],
       "layout": {
        "geo": {
         "countrycolor": "rgb(204, 204, 204)",
         "landcolor": "rgb(243, 243, 243)",
         "projection": {
          "type": "azimuthal equal area"
         },
         "scope": "north america",
         "showland": true
        },
        "showlegend": false,
        "title": "Feb. 2011 American Airline flight paths<br>(Hover for airport names)"
       }
      },
      "text/html": [
       "<div id=\"a986bef7-8c4d-4ce0-9421-58732fca12be\" style=\"height: 525px; width: 100%;\" class=\"plotly-graph-div\"></div><script type=\"text/javascript\">require([\"plotly\"], function(Plotly) { window.PLOTLYENV=window.PLOTLYENV || {};window.PLOTLYENV.BASE_URL=\"https://plot.ly\";Plotly.newPlot(\"a986bef7-8c4d-4ce0-9421-58732fca12be\", [{\"lat\": [32.89595056, 35.04022222], \"line\": {\"color\": \"red\", \"width\": 1}, \"locationmode\": \"USA-states\", \"lon\": [-97.0372, -106.6091944], \"mode\": \"lines\", \"opacity\": 0.48577680525164113, \"type\": \"scattergeo\", \"uid\": \"bbae352d-809e-4903-8491-f190ecc1e0bd\"}, {\"lat\": [41.979595, 30.19453278], \"line\": {\"color\": \"red\", \"width\": 1}, \"locationmode\": \"USA-states\", \"lon\": [-87.90446417, -97.66987194], \"mode\": \"lines\", \"opacity\": 0.18161925601750548, \"type\": \"scattergeo\", \"uid\": \"d7943cad-34f7-4117-afda-84a60a215dae\"}, {\"lat\": [32.89595056, 41.93887417], \"line\": {\"color\": \"red\", \"width\": 1}, \"locationmode\": \"USA-states\", \"lon\": [-97.0372, -72.68322833], \"mode\": \"lines\", \"opacity\": 0.1772428884026258, \"type\": \"scattergeo\", \"uid\": \"a6675203-e72a-422c-87de-b20d0061af8a\"}, {\"lat\": [18.43941667, 41.93887417], \"line\": {\"color\": \"red\", \"width\": 1}, \"locationmode\": \"USA-states\", \"lon\": [-66.00183333, -72.68322833], \"mode\": \"lines\", \"opacity\": 0.061269146608315096, \"type\": \"scattergeo\", \"uid\": \"ba785e79-6230-4535-b818-356d45c22c2e\"}, {\"lat\": [32.89595056, 33.56294306], \"line\": {\"color\": \"red\", \"width\": 1}, \"locationmode\": \"USA-states\", \"lon\": [-97.0372, -86.75354972], \"mode\": \"lines\", \"opacity\": 0.1838074398249453, \"type\": \"scattergeo\", \"uid\": \"d8be40f0-b015-4c11-a6ed-db10d2ea298f\"}, {\"lat\": [25.79325, 36.12447667], \"line\": {\"color\": \"red\", \"width\": 1}, \"locationmode\": \"USA-states\", \"lon\": [-80.29055556, -86.67818222], \"mode\": \"lines\", \"opacity\": 0.061269146608315096, \"type\": \"scattergeo\", \"uid\": \"a4fee483-fd74-4f3b-8441-a1a931424743\"}, {\"lat\": [32.89595056, 42.3643475], \"line\": {\"color\": \"red\", \"width\": 1}, \"locationmode\": \"USA-states\", \"lon\": [-97.0372, -71.00517917], \"mode\": \"lines\", \"opacity\": 0.4617067833698031, \"type\": \"scattergeo\", \"uid\": \"e0809e01-4498-4a0b-a27a-e7a4f8feb402\"}, {\"lat\": [25.79325, 42.3643475], \"line\": {\"color\": \"red\", \"width\": 1}, \"locationmode\": \"USA-states\", \"lon\": [-80.29055556, -71.00517917], \"mode\": \"lines\", \"opacity\": 0.4288840262582057, \"type\": \"scattergeo\", \"uid\": \"4164fb56-ca73-416c-b090-1f32847d78d1\"}, {\"lat\": [41.979595, 42.3643475], \"line\": {\"color\": \"red\", \"width\": 1}, \"locationmode\": \"USA-states\", \"lon\": [-87.90446417, -71.00517917], \"mode\": \"lines\", \"opacity\": 0.47045951859956237, \"type\": \"scattergeo\", \"uid\": \"c43a4a00-1854-484e-a396-f54a232b5b38\"}, {\"lat\": [18.43941667, 42.3643475], \"line\": {\"color\": \"red\", \"width\": 1}, \"locationmode\": \"USA-states\", \"lon\": [-66.00183333, -71.00517917], \"mode\": \"lines\", \"opacity\": 0.061269146608315096, \"type\": \"scattergeo\", \"uid\": \"538fb8fa-380f-4164-bd38-4a8e86c9e438\"}, {\"lat\": [18.33730556, 42.3643475], \"line\": {\"color\": \"red\", \"width\": 1}, \"locationmode\": \"USA-states\", \"lon\": [-64.97336111, -71.00517917], \"mode\": \"lines\", \"opacity\": 0.04814004376367615, \"type\": \"scattergeo\", \"uid\": \"d76e7a59-1e63-44bc-aa22-37d26a17e5d8\"}, {\"lat\": [25.79325, 39.17540167], \"line\": {\"color\": \"red\", \"width\": 1}, \"locationmode\": \"USA-states\", \"lon\": [-80.29055556, -76.66819833], \"mode\": \"lines\", \"opacity\": 0.12253829321663019, \"type\": \"scattergeo\", \"uid\": \"bafec5b4-7dcc-4add-a961-183cdcfbbd3b\"}, {\"lat\": [18.43941667, 39.17540167], \"line\": {\"color\": \"red\", \"width\": 1}, \"locationmode\": \"USA-states\", \"lon\": [-66.00183333, -76.66819833], \"mode\": \"lines\", \"opacity\": 0.061269146608315096, \"type\": \"scattergeo\", \"uid\": \"b09a4da4-b962-41d4-9273-43b7ef0b94e4\"}, {\"lat\": [32.89595056, 35.21401111], \"line\": {\"color\": \"red\", \"width\": 1}, \"locationmode\": \"USA-states\", \"lon\": [-97.0372, -80.94312583], \"mode\": \"lines\", \"opacity\": 0.3938730853391685, \"type\": \"scattergeo\", \"uid\": \"26e137df-a386-420f-b8a0-f94042115991\"}, {\"lat\": [32.89595056, 38.80580556], \"line\": {\"color\": \"red\", \"width\": 1}, \"locationmode\": \"USA-states\", \"lon\": [-97.0372, -104.70025], \"mode\": \"lines\", \"opacity\": 0.3041575492341357, \"type\": \"scattergeo\", \"uid\": \"d348c5da-9ae0-4b65-9a2c-e46f5a196a4c\"}, {\"lat\": [32.89595056, 39.90237583], \"line\": {\"color\": \"red\", \"width\": 1}, \"locationmode\": \"USA-states\", \"lon\": [-97.0372, -84.219375], \"mode\": \"lines\", \"opacity\": 0.1137855579868709, \"type\": \"scattergeo\", \"uid\": \"8c0cdeb9-bebd-49a7-ab5b-062a3609ac7d\"}, {\"lat\": [32.89595056, 38.85208333], \"line\": {\"color\": \"red\", \"width\": 1}, \"locationmode\": \"USA-states\", \"lon\": [-97.0372, -77.03772222], \"mode\": \"lines\", \"opacity\": 0.6433260393873085, \"type\": \"scattergeo\", \"uid\": \"3813f95e-6351-458e-888f-338c4b144b45\"}, {\"lat\": [25.79325, 39.85840806], \"line\": {\"color\": \"red\", \"width\": 1}, \"locationmode\": \"USA-states\", \"lon\": [-80.29055556, -104.6670019], \"mode\": \"lines\", \"opacity\": 0.12253829321663019, \"type\": \"scattergeo\", \"uid\": \"2e44b376-1f5b-45f6-b36e-ff526e0dd10b\"}, {\"lat\": [41.979595, 39.85840806], \"line\": {\"color\": \"red\", \"width\": 1}, \"locationmode\": \"USA-states\", \"lon\": [-87.90446417, -104.6670019], \"mode\": \"lines\", \"opacity\": 0.12253829321663019, \"type\": \"scattergeo\", \"uid\": \"8cd0a34f-49d2-44da-8484-b874d26aa0bd\"}, {\"lat\": [33.64044444, 32.89595056], \"line\": {\"color\": \"red\", \"width\": 1}, \"locationmode\": \"USA-states\", \"lon\": [-84.42694444, -97.0372], \"mode\": \"lines\", \"opacity\": 0.6345733041575492, \"type\": \"scattergeo\", \"uid\": \"b0b7cd5e-3a89-4783-908a-0e0420f37ee4\"}, {\"lat\": [30.19453278, 32.89595056], \"line\": {\"color\": \"red\", \"width\": 1}, \"locationmode\": \"USA-states\", \"lon\": [-97.66987194, -97.0372], \"mode\": \"lines\", \"opacity\": 0.8971553610503282, \"type\": \"scattergeo\", \"uid\": \"401771a4-bd0a-43da-a3be-889e80bed9a9\"}, {\"lat\": [36.12447667, 32.89595056], \"line\": {\"color\": \"red\", \"width\": 1}, \"locationmode\": \"USA-states\", \"lon\": [-86.67818222, -97.0372], \"mode\": \"lines\", \"opacity\": 0.47702407002188185, \"type\": \"scattergeo\", \"uid\": \"dac84f80-73db-455e-8808-2f2e74193025\"}, {\"lat\": [34.20061917, 32.89595056], \"line\": {\"color\": \"red\", \"width\": 1}, \"locationmode\": \"USA-states\", \"lon\": [-118.3584969, -97.0372], \"mode\": \"lines\", \"opacity\": 0.2275711159737418, \"type\": \"scattergeo\", \"uid\": \"24f0fbf8-d8e6-472d-8e50-7a136b7a4044\"}, {\"lat\": [39.17540167, 32.89595056], \"line\": {\"color\": \"red\", \"width\": 1}, \"locationmode\": \"USA-states\", \"lon\": [-76.66819833, -97.0372], \"mode\": \"lines\", \"opacity\": 0.35667396061269147, \"type\": \"scattergeo\", \"uid\": \"126f8fcd-dec9-4ff5-8277-3d84aa91c01c\"}, {\"lat\": [39.99798528, 32.89595056], \"line\": {\"color\": \"red\", \"width\": 1}, \"locationmode\": \"USA-states\", \"lon\": [-82.89188278, -97.0372], \"mode\": \"lines\", \"opacity\": 0.1137855579868709, \"type\": \"scattergeo\", \"uid\": \"f77424c6-e497-45ce-8718-b9bf26296340\"}, {\"lat\": [39.85840806, 32.89595056], \"line\": {\"color\": \"red\", \"width\": 1}, \"locationmode\": \"USA-states\", \"lon\": [-104.6670019, -97.0372], \"mode\": \"lines\", \"opacity\": 0.6105032822757112, \"type\": \"scattergeo\", \"uid\": \"be4b0273-fbc8-47e0-9a34-a1a52c63a2eb\"}, {\"lat\": [42.21205889, 32.89595056], \"line\": {\"color\": \"red\", \"width\": 1}, \"locationmode\": \"USA-states\", \"lon\": [-83.34883583, -97.0372], \"mode\": \"lines\", \"opacity\": 0.2844638949671772, \"type\": \"scattergeo\", \"uid\": \"27cc43a3-974d-47d6-9450-b50b70553ab7\"}, {\"lat\": [39.64256778, 32.89595056], \"line\": {\"color\": \"red\", \"width\": 1}, \"locationmode\": \"USA-states\", \"lon\": [-106.91769529999999, -97.0372], \"mode\": \"lines\", \"opacity\": 0.1487964989059081, \"type\": \"scattergeo\", \"uid\": \"29224475-0250-40fc-9db4-ef59298e1725\"}, {\"lat\": [40.69249722, 32.89595056], \"line\": {\"color\": \"red\", \"width\": 1}, \"locationmode\": \"USA-states\", \"lon\": [-74.16866056, -97.0372], \"mode\": \"lines\", \"opacity\": 0.33916849015317285, \"type\": \"scattergeo\", \"uid\": \"654687cf-1fbb-4330-b55c-44fbc66485ab\"}, {\"lat\": [36.77619444, 32.89595056], \"line\": {\"color\": \"red\", \"width\": 1}, \"locationmode\": \"USA-states\", \"lon\": [-119.7181389, -97.0372], \"mode\": \"lines\", \"opacity\": 0.12253829321663019, \"type\": \"scattergeo\", \"uid\": \"bb644bae-3ead-4ce6-8d12-7d87d32979a1\"}, {\"lat\": [26.07258333, 32.89595056], \"line\": {\"color\": \"red\", \"width\": 1}, \"locationmode\": \"USA-states\", \"lon\": [-80.15275, -97.0372], \"mode\": \"lines\", \"opacity\": 0.3676148796498906, \"type\": \"scattergeo\", \"uid\": \"6f12db07-2483-4ea5-bdd4-c4d6884738aa\"}, {\"lat\": [34.6404475, 32.89595056], \"line\": {\"color\": \"red\", \"width\": 1}, \"locationmode\": \"USA-states\", \"lon\": [-86.77310944, -97.0372], \"mode\": \"lines\", \"opacity\": 0.17286652078774617, \"type\": \"scattergeo\", \"uid\": \"4473b603-f252-44d5-bba2-93afb8d9b89a\"}, {\"lat\": [29.98047222, 32.89595056], \"line\": {\"color\": \"red\", \"width\": 1}, \"locationmode\": \"USA-states\", \"lon\": [-95.33972222, -97.0372], \"mode\": \"lines\", \"opacity\": 0.3544857768052516, \"type\": \"scattergeo\", \"uid\": \"9274fff8-e807-44a2-b1bf-02919f4c6f74\"}, {\"lat\": [33.94253611, 32.89595056], \"line\": {\"color\": \"red\", \"width\": 1}, \"locationmode\": \"USA-states\", \"lon\": [-118.40807439999999, -97.0372], \"mode\": \"lines\", \"opacity\": 1.0, \"type\": \"scattergeo\", \"uid\": \"f30276f0-3c93-4d0f-b0b4-e1c9df8377f7\"}, {\"lat\": [39.29760528, 32.89595056], \"line\": {\"color\": \"red\", \"width\": 1}, \"locationmode\": \"USA-states\", \"lon\": [-94.71390556, -97.0372], \"mode\": \"lines\", \"opacity\": 0.47702407002188185, \"type\": \"scattergeo\", \"uid\": \"334509a5-41df-4993-bf98-5aa4841f3412\"}, {\"lat\": [28.42888889, 32.89595056], \"line\": {\"color\": \"red\", \"width\": 1}, \"locationmode\": \"USA-states\", \"lon\": [-81.31602778, -97.0372], \"mode\": \"lines\", \"opacity\": 0.5470459518599562, \"type\": \"scattergeo\", \"uid\": \"adc9f444-8aa4-4c51-a942-17ef1eb68d49\"}, {\"lat\": [35.04241667, 32.89595056], \"line\": {\"color\": \"red\", \"width\": 1}, \"locationmode\": \"USA-states\", \"lon\": [-89.97666667, -97.0372], \"mode\": \"lines\", \"opacity\": 0.23413566739606126, \"type\": \"scattergeo\", \"uid\": \"e248388e-64f2-4703-ae6a-c1b101c2945c\"}, {\"lat\": [26.17583333, 32.89595056], \"line\": {\"color\": \"red\", \"width\": 1}, \"locationmode\": \"USA-states\", \"lon\": [-98.23861111, -97.0372], \"mode\": \"lines\", \"opacity\": 0.23413566739606126, \"type\": \"scattergeo\", \"uid\": \"e8a27723-7a21-484a-a6c4-f6512ea24703\"}, {\"lat\": [25.79325, 32.89595056], \"line\": {\"color\": \"red\", \"width\": 1}, \"locationmode\": \"USA-states\", \"lon\": [-80.29055556, -97.0372], \"mode\": \"lines\", \"opacity\": 0.612691466083151, \"type\": \"scattergeo\", \"uid\": \"5fa7b344-156c-4359-82c0-7dd60e572319\"}, {\"lat\": [44.88054694, 32.89595056], \"line\": {\"color\": \"red\", \"width\": 1}, \"locationmode\": \"USA-states\", \"lon\": [-93.2169225, -97.0372], \"mode\": \"lines\", \"opacity\": 0.35667396061269147, \"type\": \"scattergeo\", \"uid\": \"d10ab551-d0aa-4b1a-8e9a-3a6a7879fbc2\"}, {\"lat\": [38.50886722, 32.89595056], \"line\": {\"color\": \"red\", \"width\": 1}, \"locationmode\": \"USA-states\", \"lon\": [-107.89383329999998, -97.0372], \"mode\": \"lines\", \"opacity\": 0.0175054704595186, \"type\": \"scattergeo\", \"uid\": \"c8d3342d-a277-4fcd-925e-7f6e7943b0b8\"}, {\"lat\": [20.89864972, 32.89595056], \"line\": {\"color\": \"red\", \"width\": 1}, \"locationmode\": \"USA-states\", \"lon\": [-156.43045780000003, -97.0372], \"mode\": \"lines\", \"opacity\": 0.061269146608315096, \"type\": \"scattergeo\", \"uid\": \"827adc7c-0820-450f-be34-542d8cd0242a\"}, {\"lat\": [35.39308833, 32.89595056], \"line\": {\"color\": \"red\", \"width\": 1}, \"locationmode\": \"USA-states\", \"lon\": [-97.60073389, -97.0372], \"mode\": \"lines\", \"opacity\": 0.42669584245076586, \"type\": \"scattergeo\", \"uid\": \"25bf8c92-b4ea-45c8-bc22-01f5f4089489\"}, {\"lat\": [41.30251861, 32.89595056], \"line\": {\"color\": \"red\", \"width\": 1}, \"locationmode\": \"USA-states\", \"lon\": [-95.89417306, -97.0372], \"mode\": \"lines\", \"opacity\": 0.2975929978118162, \"type\": \"scattergeo\", \"uid\": \"c202a374-99f4-4513-8552-930f0f9327de\"}, {\"lat\": [41.979595, 32.89595056], \"line\": {\"color\": \"red\", \"width\": 1}, \"locationmode\": \"USA-states\", \"lon\": [-87.90446417, -97.0372], \"mode\": \"lines\", \"opacity\": 0.9026258205689278, \"type\": \"scattergeo\", \"uid\": \"2498c373-c52d-40d0-b899-ab2458fa34fa\"}, {\"lat\": [39.87195278, 32.89595056], \"line\": {\"color\": \"red\", \"width\": 1}, \"locationmode\": \"USA-states\", \"lon\": [-75.24114083, -97.0372], \"mode\": \"lines\", \"opacity\": 0.3522975929978118, \"type\": \"scattergeo\", \"uid\": \"276f8863-00e8-4dfd-91be-942310e9681d\"}, {\"lat\": [33.43416667, 32.89595056], \"line\": {\"color\": \"red\", \"width\": 1}, \"locationmode\": \"USA-states\", \"lon\": [-112.00805559999999, -97.0372], \"mode\": \"lines\", \"opacity\": 0.6017505470459519, \"type\": \"scattergeo\", \"uid\": \"16361c3b-c54c-4e17-b235-7e7e45388c8b\"}, {\"lat\": [37.50516667, 32.89595056], \"line\": {\"color\": \"red\", \"width\": 1}, \"locationmode\": \"USA-states\", \"lon\": [-77.31966667, -97.0372], \"mode\": \"lines\", \"opacity\": 0.18161925601750548, \"type\": \"scattergeo\", \"uid\": \"a374394d-a2df-42f9-a9c9-83e48c9bba66\"}, {\"lat\": [39.49857611, 32.89595056], \"line\": {\"color\": \"red\", \"width\": 1}, \"locationmode\": \"USA-states\", \"lon\": [-119.76806470000001, -97.0372], \"mode\": \"lines\", \"opacity\": 0.16411378555798686, \"type\": \"scattergeo\", \"uid\": \"d0cfe1d2-1b2b-407b-bd7d-7edbbedeb4d8\"}, {\"lat\": [32.73355611, 32.89595056], \"line\": {\"color\": \"red\", \"width\": 1}, \"locationmode\": \"USA-states\", \"lon\": [-117.1896567, -97.0372], \"mode\": \"lines\", \"opacity\": 0.5470459518599562, \"type\": \"scattergeo\", \"uid\": \"020f46ea-b840-49ec-a232-ff23e315d8c6\"}, {\"lat\": [29.53369444, 32.89595056], \"line\": {\"color\": \"red\", \"width\": 1}, \"locationmode\": \"USA-states\", \"lon\": [-98.46977778, -97.0372], \"mode\": \"lines\", \"opacity\": 0.9037199124726477, \"type\": \"scattergeo\", \"uid\": \"e97572ad-4a9f-4a2e-a586-cdc8e52a78dc\"}, {\"lat\": [38.17438889, 32.89595056], \"line\": {\"color\": \"red\", \"width\": 1}, \"locationmode\": \"USA-states\", \"lon\": [-85.736, -97.0372], \"mode\": \"lines\", \"opacity\": 0.17943107221006566, \"type\": \"scattergeo\", \"uid\": \"50de3ce7-0ef7-456f-9552-20868ecb2319\"}, {\"lat\": [37.61900194, 32.89595056], \"line\": {\"color\": \"red\", \"width\": 1}, \"locationmode\": \"USA-states\", \"lon\": [-122.3748433, -97.0372], \"mode\": \"lines\", \"opacity\": 0.5754923413566739, \"type\": \"scattergeo\", \"uid\": \"f27c3e13-6b41-4eb1-a00b-956fa065442f\"}, {\"lat\": [37.36186194, 32.89595056], \"line\": {\"color\": \"red\", \"width\": 1}, \"locationmode\": \"USA-states\", \"lon\": [-121.92900890000001, -97.0372], \"mode\": \"lines\", \"opacity\": 0.3479212253829322, \"type\": \"scattergeo\", \"uid\": \"ba689020-a7fb-4e6b-be36-36ca954be99a\"}, {\"lat\": [40.78838778, 32.89595056], \"line\": {\"color\": \"red\", \"width\": 1}, \"locationmode\": \"USA-states\", \"lon\": [-111.9777731, -97.0372], \"mode\": \"lines\", \"opacity\": 0.3063457330415755, \"type\": \"scattergeo\", \"uid\": \"8a1a4f10-e574-4f7e-8aea-244516889365\"}, {\"lat\": [38.74768694, 32.89595056], \"line\": {\"color\": \"red\", \"width\": 1}, \"locationmode\": \"USA-states\", \"lon\": [-90.35998972, -97.0372], \"mode\": \"lines\", \"opacity\": 0.5317286652078774, \"type\": \"scattergeo\", \"uid\": \"530ee8ce-09c3-431b-8d36-cd8a069dfc09\"}, {\"lat\": [36.28186944, 32.89595056], \"line\": {\"color\": \"red\", \"width\": 1}, \"locationmode\": \"USA-states\", \"lon\": [-94.30681111, -97.0372], \"mode\": \"lines\", \"opacity\": 0.05470459518599562, \"type\": \"scattergeo\", \"uid\": \"b3af7b23-065c-4dd1-92b5-ebb121b72bf6\"}, {\"lat\": [25.79325, 42.21205889], \"line\": {\"color\": \"red\", \"width\": 1}, \"locationmode\": \"USA-states\", \"lon\": [-80.29055556, -83.34883583], \"mode\": \"lines\", \"opacity\": 0.12253829321663019, \"type\": \"scattergeo\", \"uid\": \"73b614d5-0b37-4dee-b1de-d039dd2c99fe\"}, {\"lat\": [40.77724306, 39.64256778], \"line\": {\"color\": \"red\", \"width\": 1}, \"locationmode\": \"USA-states\", \"lon\": [-73.87260917, -106.91769529999999], \"mode\": \"lines\", \"opacity\": 0.0087527352297593, \"type\": \"scattergeo\", \"uid\": \"f460f172-6df1-45aa-b12d-0bed3d5ca7e1\"}, {\"lat\": [41.979595, 39.64256778], \"line\": {\"color\": \"red\", \"width\": 1}, \"locationmode\": \"USA-states\", \"lon\": [-87.90446417, -106.91769529999999], \"mode\": \"lines\", \"opacity\": 0.0700218818380744, \"type\": \"scattergeo\", \"uid\": \"91a42a69-3f18-4cab-a80f-e30a2dcafdbb\"}, {\"lat\": [32.89595056, 31.80666667], \"line\": {\"color\": \"red\", \"width\": 1}, \"locationmode\": \"USA-states\", \"lon\": [-97.0372, -106.37780559999999], \"mode\": \"lines\", \"opacity\": 0.474835886214442, \"type\": \"scattergeo\", \"uid\": \"6f874163-4bc6-46cb-a71c-85a0442a34f0\"}, {\"lat\": [33.94253611, 40.69249722], \"line\": {\"color\": \"red\", \"width\": 1}, \"locationmode\": \"USA-states\", \"lon\": [-118.40807439999999, -74.16866056], \"mode\": \"lines\", \"opacity\": 0.05908096280087528, \"type\": \"scattergeo\", \"uid\": \"8bacdc86-7923-4649-98f1-1fce9076e538\"}, {\"lat\": [25.79325, 40.69249722], \"line\": {\"color\": \"red\", \"width\": 1}, \"locationmode\": \"USA-states\", \"lon\": [-80.29055556, -74.16866056], \"mode\": \"lines\", \"opacity\": 0.1838074398249453, \"type\": \"scattergeo\", \"uid\": \"bda51b15-eab4-4e2d-bc5c-adf2b715ba0c\"}, {\"lat\": [40.63975111, 26.07258333], \"line\": {\"color\": \"red\", \"width\": 1}, \"locationmode\": \"USA-states\", \"lon\": [-73.77892556, -80.15275], \"mode\": \"lines\", \"opacity\": 0.12253829321663019, \"type\": \"scattergeo\", \"uid\": \"1534431b-5eda-4b93-9388-3f16ae7ce1b4\"}, {\"lat\": [32.89595056, 40.48118028], \"line\": {\"color\": \"red\", \"width\": 1}, \"locationmode\": \"USA-states\", \"lon\": [-97.0372, -107.21765970000001], \"mode\": \"lines\", \"opacity\": 0.0700218818380744, \"type\": \"scattergeo\", \"uid\": \"c0dfd9dd-0ca0-4ce2-b5a8-3e11efc209d3\"}, {\"lat\": [32.89595056, 21.31869111], \"line\": {\"color\": \"red\", \"width\": 1}, \"locationmode\": \"USA-states\", \"lon\": [-97.0372, -157.92240719999998], \"mode\": \"lines\", \"opacity\": 0.12253829321663019, \"type\": \"scattergeo\", \"uid\": \"52318698-3603-4327-b407-b85c13c4bcd2\"}, {\"lat\": [33.94253611, 21.31869111], \"line\": {\"color\": \"red\", \"width\": 1}, \"locationmode\": \"USA-states\", \"lon\": [-118.40807439999999, -157.92240719999998], \"mode\": \"lines\", \"opacity\": 0.2363238512035011, \"type\": \"scattergeo\", \"uid\": \"f1afcf13-057d-4f5e-b2da-c0e2e5e9ec1a\"}, {\"lat\": [32.89595056, 38.94453194], \"line\": {\"color\": \"red\", \"width\": 1}, \"locationmode\": \"USA-states\", \"lon\": [-97.0372, -77.45580972], \"mode\": \"lines\", \"opacity\": 0.33698030634573306, \"type\": \"scattergeo\", \"uid\": \"58d5553e-4808-46a9-a06d-53e27a00e92c\"}, {\"lat\": [33.94253611, 38.94453194], \"line\": {\"color\": \"red\", \"width\": 1}, \"locationmode\": \"USA-states\", \"lon\": [-118.40807439999999, -77.45580972], \"mode\": \"lines\", \"opacity\": 0.18161925601750548, \"type\": \"scattergeo\", \"uid\": \"b4f0c8ae-41ea-4de7-8f1a-950c2e26ef4e\"}, {\"lat\": [25.79325, 38.94453194], \"line\": {\"color\": \"red\", \"width\": 1}, \"locationmode\": \"USA-states\", \"lon\": [-80.29055556, -77.45580972], \"mode\": \"lines\", \"opacity\": 0.12253829321663019, \"type\": \"scattergeo\", \"uid\": \"09488f6f-d33d-450e-bfe1-dd5e30dd50ab\"}, {\"lat\": [25.79325, 29.98047222], \"line\": {\"color\": \"red\", \"width\": 1}, \"locationmode\": \"USA-states\", \"lon\": [-80.29055556, -95.33972222], \"mode\": \"lines\", \"opacity\": 0.1838074398249453, \"type\": \"scattergeo\", \"uid\": \"7eb4284d-580c-4816-9405-f3334c8ef6f4\"}, {\"lat\": [32.89595056, 37.64995889], \"line\": {\"color\": \"red\", \"width\": 1}, \"locationmode\": \"USA-states\", \"lon\": [-97.0372, -97.43304583], \"mode\": \"lines\", \"opacity\": 0.23413566739606126, \"type\": \"scattergeo\", \"uid\": \"40f33b93-7812-4cba-acbe-742ee56c6f4f\"}, {\"lat\": [32.89595056, 39.71732917], \"line\": {\"color\": \"red\", \"width\": 1}, \"locationmode\": \"USA-states\", \"lon\": [-97.0372, -86.29438417], \"mode\": \"lines\", \"opacity\": 0.3041575492341357, \"type\": \"scattergeo\", \"uid\": \"1395355c-374f-4e66-a4cf-afa216699526\"}, {\"lat\": [32.89595056, 43.60732417], \"line\": {\"color\": \"red\", \"width\": 1}, \"locationmode\": \"USA-states\", \"lon\": [-97.0372, -110.7377389], \"mode\": \"lines\", \"opacity\": 0.0262582056892779, \"type\": \"scattergeo\", \"uid\": \"31e38a96-c7b5-4c92-9e94-7482f7e7c001\"}, {\"lat\": [32.89595056, 30.49405556], \"line\": {\"color\": \"red\", \"width\": 1}, \"locationmode\": \"USA-states\", \"lon\": [-97.0372, -81.68786111], \"mode\": \"lines\", \"opacity\": 0.2363238512035011, \"type\": \"scattergeo\", \"uid\": \"f3e45ef4-ddce-473e-a372-a32b76962893\"}, {\"lat\": [30.19453278, 40.63975111], \"line\": {\"color\": \"red\", \"width\": 1}, \"locationmode\": \"USA-states\", \"lon\": [-97.66987194, -73.77892556], \"mode\": \"lines\", \"opacity\": 0.061269146608315096, \"type\": \"scattergeo\", \"uid\": \"a1ea162f-72a1-47c5-99fc-a7621c7ba5bc\"}, {\"lat\": [32.89595056, 40.63975111], \"line\": {\"color\": \"red\", \"width\": 1}, \"locationmode\": \"USA-states\", \"lon\": [-97.0372, -73.77892556], \"mode\": \"lines\", \"opacity\": 0.061269146608315096, \"type\": \"scattergeo\", \"uid\": \"8e1ff7f6-71cb-44f4-9026-cf9bc7f60d3d\"}, {\"lat\": [39.64256778, 40.63975111], \"line\": {\"color\": \"red\", \"width\": 1}, \"locationmode\": \"USA-states\", \"lon\": [-106.91769529999999, -73.77892556], \"mode\": \"lines\", \"opacity\": 0.061269146608315096, \"type\": \"scattergeo\", \"uid\": \"e57800f3-0d54-49c2-a4aa-253ddb54eddb\"}, {\"lat\": [28.42888889, 40.63975111], \"line\": {\"color\": \"red\", \"width\": 1}, \"locationmode\": \"USA-states\", \"lon\": [-81.31602778, -73.77892556], \"mode\": \"lines\", \"opacity\": 0.24507658643326038, \"type\": \"scattergeo\", \"uid\": \"5d2b8037-c5ca-4a84-a769-ce83f5358bc0\"}, {\"lat\": [25.79325, 40.63975111], \"line\": {\"color\": \"red\", \"width\": 1}, \"locationmode\": \"USA-states\", \"lon\": [-80.29055556, -73.77892556], \"mode\": \"lines\", \"opacity\": 0.4288840262582057, \"type\": \"scattergeo\", \"uid\": \"4597959b-5297-4f5d-9b59-5757185e3860\"}, {\"lat\": [47.44898194, 40.63975111], \"line\": {\"color\": \"red\", \"width\": 1}, \"locationmode\": \"USA-states\", \"lon\": [-122.30931310000001, -73.77892556], \"mode\": \"lines\", \"opacity\": 0.061269146608315096, \"type\": \"scattergeo\", \"uid\": \"58a8814f-2e8f-43f2-a948-64bd2fc76f2b\"}, {\"lat\": [37.61900194, 40.63975111], \"line\": {\"color\": \"red\", \"width\": 1}, \"locationmode\": \"USA-states\", \"lon\": [-122.3748433, -73.77892556], \"mode\": \"lines\", \"opacity\": 0.3041575492341357, \"type\": \"scattergeo\", \"uid\": \"ed114ac0-d83c-4f49-8249-e4bc057c4139\"}, {\"lat\": [18.33730556, 40.63975111], \"line\": {\"color\": \"red\", \"width\": 1}, \"locationmode\": \"USA-states\", \"lon\": [-64.97336111, -73.77892556], \"mode\": \"lines\", \"opacity\": 0.061269146608315096, \"type\": \"scattergeo\", \"uid\": \"7144c53e-a725-4b02-958b-90ced3984599\"}, {\"lat\": [27.97547222, 40.63975111], \"line\": {\"color\": \"red\", \"width\": 1}, \"locationmode\": \"USA-states\", \"lon\": [-82.53325, -73.77892556], \"mode\": \"lines\", \"opacity\": 0.061269146608315096, \"type\": \"scattergeo\", \"uid\": \"3d634651-0209-4d16-b499-408f63d1511d\"}, {\"lat\": [32.89595056, 36.08036111], \"line\": {\"color\": \"red\", \"width\": 1}, \"locationmode\": \"USA-states\", \"lon\": [-97.0372, -115.15233329999998], \"mode\": \"lines\", \"opacity\": 0.6225382932166302, \"type\": \"scattergeo\", \"uid\": \"c7d672be-7cc2-4176-89d5-26dc1f32db43\"}, {\"lat\": [40.63975111, 36.08036111], \"line\": {\"color\": \"red\", \"width\": 1}, \"locationmode\": \"USA-states\", \"lon\": [-73.77892556, -115.15233329999998], \"mode\": \"lines\", \"opacity\": 0.12253829321663019, \"type\": \"scattergeo\", \"uid\": \"f90481a9-2baa-4411-a30f-3f85a17e3ef6\"}, {\"lat\": [33.94253611, 36.08036111], \"line\": {\"color\": \"red\", \"width\": 1}, \"locationmode\": \"USA-states\", \"lon\": [-118.40807439999999, -115.15233329999998], \"mode\": \"lines\", \"opacity\": 0.24288840262582057, \"type\": \"scattergeo\", \"uid\": \"8dd20285-ab3c-452c-b302-95e92a1e8b52\"}, {\"lat\": [41.979595, 36.08036111], \"line\": {\"color\": \"red\", \"width\": 1}, \"locationmode\": \"USA-states\", \"lon\": [-87.90446417, -115.15233329999998], \"mode\": \"lines\", \"opacity\": 0.3063457330415755, \"type\": \"scattergeo\", \"uid\": \"3a70adbf-3a05-4cd7-ae58-d938d52b4645\"}, {\"lat\": [30.19453278, 33.94253611], \"line\": {\"color\": \"red\", \"width\": 1}, \"locationmode\": \"USA-states\", \"lon\": [-97.66987194, -118.40807439999999], \"mode\": \"lines\", \"opacity\": 0.1772428884026258, \"type\": \"scattergeo\", \"uid\": \"edffaba4-98a5-400b-bf99-af8c1bce4730\"}, {\"lat\": [36.12447667, 33.94253611], \"line\": {\"color\": \"red\", \"width\": 1}, \"locationmode\": \"USA-states\", \"lon\": [-86.67818222, -118.40807439999999], \"mode\": \"lines\", \"opacity\": 0.061269146608315096, \"type\": \"scattergeo\", \"uid\": \"60db806f-f4db-4a87-87ca-6cda187c71c5\"}, {\"lat\": [42.3643475, 33.94253611], \"line\": {\"color\": \"red\", \"width\": 1}, \"locationmode\": \"USA-states\", \"lon\": [-71.00517917, -118.40807439999999], \"mode\": \"lines\", \"opacity\": 0.1838074398249453, \"type\": \"scattergeo\", \"uid\": \"fc5b64d9-1df0-4f93-a50d-9629204deae5\"}, {\"lat\": [39.64256778, 33.94253611], \"line\": {\"color\": \"red\", \"width\": 1}, \"locationmode\": \"USA-states\", \"lon\": [-106.91769529999999, -118.40807439999999], \"mode\": \"lines\", \"opacity\": 0.061269146608315096, \"type\": \"scattergeo\", \"uid\": \"e1caf681-68de-4159-9119-5f2a08e18816\"}, {\"lat\": [40.63975111, 33.94253611], \"line\": {\"color\": \"red\", \"width\": 1}, \"locationmode\": \"USA-states\", \"lon\": [-73.77892556, -118.40807439999999], \"mode\": \"lines\", \"opacity\": 0.5995623632385121, \"type\": \"scattergeo\", \"uid\": \"f7246f30-a708-4e30-9119-76e603572243\"}, {\"lat\": [19.73876583, 33.94253611], \"line\": {\"color\": \"red\", \"width\": 1}, \"locationmode\": \"USA-states\", \"lon\": [-156.0456314, -118.40807439999999], \"mode\": \"lines\", \"opacity\": 0.061269146608315096, \"type\": \"scattergeo\", \"uid\": \"3f85af52-e921-40ca-aa07-f1cd17ca0f5c\"}, {\"lat\": [20.89864972, 33.94253611], \"line\": {\"color\": \"red\", \"width\": 1}, \"locationmode\": \"USA-states\", \"lon\": [-156.43045780000003, -118.40807439999999], \"mode\": \"lines\", \"opacity\": 0.12253829321663019, \"type\": \"scattergeo\", \"uid\": \"9eac2c2d-4d10-4698-a851-a075cba45baa\"}, {\"lat\": [41.979595, 33.94253611], \"line\": {\"color\": \"red\", \"width\": 1}, \"locationmode\": \"USA-states\", \"lon\": [-87.90446417, -118.40807439999999], \"mode\": \"lines\", \"opacity\": 0.5426695842450766, \"type\": \"scattergeo\", \"uid\": \"32b47ee0-68d6-4feb-87b0-1f90121d6597\"}, {\"lat\": [38.74768694, 33.94253611], \"line\": {\"color\": \"red\", \"width\": 1}, \"locationmode\": \"USA-states\", \"lon\": [-90.35998972, -118.40807439999999], \"mode\": \"lines\", \"opacity\": 0.18161925601750548, \"type\": \"scattergeo\", \"uid\": \"e775b57e-0bd8-4567-b32c-fd7d29c3df69\"}, {\"lat\": [36.12447667, 40.77724306], \"line\": {\"color\": \"red\", \"width\": 1}, \"locationmode\": \"USA-states\", \"lon\": [-86.67818222, -73.87260917], \"mode\": \"lines\", \"opacity\": 0.11159737417943107, \"type\": \"scattergeo\", \"uid\": \"8ec76d44-33ba-498f-a277-93409e508f7b\"}, {\"lat\": [32.89595056, 40.77724306], \"line\": {\"color\": \"red\", \"width\": 1}, \"locationmode\": \"USA-states\", \"lon\": [-97.0372, -73.87260917], \"mode\": \"lines\", \"opacity\": 0.849015317286652, \"type\": \"scattergeo\", \"uid\": \"cc429a8a-0cde-42d1-9bad-7a57f3949516\"}, {\"lat\": [38.74768694, 40.77724306], \"line\": {\"color\": \"red\", \"width\": 1}, \"locationmode\": \"USA-states\", \"lon\": [-90.35998972, -73.87260917], \"mode\": \"lines\", \"opacity\": 0.22538293216630198, \"type\": \"scattergeo\", \"uid\": \"3efe2206-75ac-4da9-8603-7542b8bef622\"}, {\"lat\": [33.94253611, 21.97598306], \"line\": {\"color\": \"red\", \"width\": 1}, \"locationmode\": \"USA-states\", \"lon\": [-118.40807439999999, -159.3389581], \"mode\": \"lines\", \"opacity\": 0.061269146608315096, \"type\": \"scattergeo\", \"uid\": \"8f9beec7-dc53-4048-a5ec-f08cd22818d1\"}, {\"lat\": [33.94253611, 28.42888889], \"line\": {\"color\": \"red\", \"width\": 1}, \"locationmode\": \"USA-states\", \"lon\": [-118.40807439999999, -81.31602778], \"mode\": \"lines\", \"opacity\": 0.061269146608315096, \"type\": \"scattergeo\", \"uid\": \"a0edd186-e094-404d-b050-eb98a72f131a\"}, {\"lat\": [25.79325, 28.42888889], \"line\": {\"color\": \"red\", \"width\": 1}, \"locationmode\": \"USA-states\", \"lon\": [-80.29055556, -81.31602778], \"mode\": \"lines\", \"opacity\": 0.49015317286652077, \"type\": \"scattergeo\", \"uid\": \"227c0ba8-3190-4efe-8603-74451de9abe9\"}, {\"lat\": [33.64044444, 25.79325], \"line\": {\"color\": \"red\", \"width\": 1}, \"locationmode\": \"USA-states\", \"lon\": [-84.42694444, -80.29055556], \"mode\": \"lines\", \"opacity\": 0.24507658643326038, \"type\": \"scattergeo\", \"uid\": \"a0560fc7-349c-4eb0-8f6f-caf4d7457847\"}, {\"lat\": [41.93887417, 25.79325], \"line\": {\"color\": \"red\", \"width\": 1}, \"locationmode\": \"USA-states\", \"lon\": [-72.68322833, -80.29055556], \"mode\": \"lines\", \"opacity\": 0.12253829321663019, \"type\": \"scattergeo\", \"uid\": \"6f64bacb-abac-47cb-b893-d6d63ea2c808\"}, {\"lat\": [38.85208333, 25.79325], \"line\": {\"color\": \"red\", \"width\": 1}, \"locationmode\": \"USA-states\", \"lon\": [-77.03772222, -80.29055556], \"mode\": \"lines\", \"opacity\": 0.5514223194748359, \"type\": \"scattergeo\", \"uid\": \"f0c43f64-5182-49ef-8b20-e1a7b6e3eecf\"}, {\"lat\": [39.64256778, 25.79325], \"line\": {\"color\": \"red\", \"width\": 1}, \"locationmode\": \"USA-states\", \"lon\": [-106.91769529999999, -80.29055556], \"mode\": \"lines\", \"opacity\": 0.0525164113785558, \"type\": \"scattergeo\", \"uid\": \"26b7b18f-9802-471c-99d7-5fa6d8244acd\"}, {\"lat\": [36.08036111, 25.79325], \"line\": {\"color\": \"red\", \"width\": 1}, \"locationmode\": \"USA-states\", \"lon\": [-115.15233329999998, -80.29055556], \"mode\": \"lines\", \"opacity\": 0.1838074398249453, \"type\": \"scattergeo\", \"uid\": \"c6bc4b1c-ac64-4efb-8a8b-384294c50162\"}, {\"lat\": [33.94253611, 25.79325], \"line\": {\"color\": \"red\", \"width\": 1}, \"locationmode\": \"USA-states\", \"lon\": [-118.40807439999999, -80.29055556], \"mode\": \"lines\", \"opacity\": 0.4288840262582057, \"type\": \"scattergeo\", \"uid\": \"142204db-f945-4f1a-a62a-b75338f0dd27\"}, {\"lat\": [40.77724306, 25.79325], \"line\": {\"color\": \"red\", \"width\": 1}, \"locationmode\": \"USA-states\", \"lon\": [-73.87260917, -80.29055556], \"mode\": \"lines\", \"opacity\": 0.6728665207877462, \"type\": \"scattergeo\", \"uid\": \"58728ba5-4ba0-4b05-8a73-4dfc891f66cd\"}, {\"lat\": [44.88054694, 25.79325], \"line\": {\"color\": \"red\", \"width\": 1}, \"locationmode\": \"USA-states\", \"lon\": [-93.2169225, -80.29055556], \"mode\": \"lines\", \"opacity\": 0.061269146608315096, \"type\": \"scattergeo\", \"uid\": \"2afa53ed-552f-475b-8a19-307b4bc9aa26\"}, {\"lat\": [41.979595, 25.79325], \"line\": {\"color\": \"red\", \"width\": 1}, \"locationmode\": \"USA-states\", \"lon\": [-87.90446417, -80.29055556], \"mode\": \"lines\", \"opacity\": 0.5525164113785558, \"type\": \"scattergeo\", \"uid\": \"e3d1386c-8401-4ff4-8fe7-c26c98a9fa8f\"}, {\"lat\": [39.87195278, 25.79325], \"line\": {\"color\": \"red\", \"width\": 1}, \"locationmode\": \"USA-states\", \"lon\": [-75.24114083, -80.29055556], \"mode\": \"lines\", \"opacity\": 0.1838074398249453, \"type\": \"scattergeo\", \"uid\": \"68736170-44ca-4150-8c08-1a7e870264bd\"}, {\"lat\": [33.43416667, 25.79325], \"line\": {\"color\": \"red\", \"width\": 1}, \"locationmode\": \"USA-states\", \"lon\": [-112.00805559999999, -80.29055556], \"mode\": \"lines\", \"opacity\": 0.061269146608315096, \"type\": \"scattergeo\", \"uid\": \"1ec2f4b4-3f14-478b-a827-7021f51a6ff0\"}, {\"lat\": [37.61900194, 25.79325], \"line\": {\"color\": \"red\", \"width\": 1}, \"locationmode\": \"USA-states\", \"lon\": [-122.3748433, -80.29055556], \"mode\": \"lines\", \"opacity\": 0.1838074398249453, \"type\": \"scattergeo\", \"uid\": \"bfb7f081-6b13-4307-a107-72eba3bff384\"}, {\"lat\": [18.43941667, 25.79325], \"line\": {\"color\": \"red\", \"width\": 1}, \"locationmode\": \"USA-states\", \"lon\": [-66.00183333, -80.29055556], \"mode\": \"lines\", \"opacity\": 0.49015317286652077, \"type\": \"scattergeo\", \"uid\": \"d654f5f0-e6c6-4a10-b142-65154e88d6d1\"}, {\"lat\": [36.19837222, 25.79325], \"line\": {\"color\": \"red\", \"width\": 1}, \"locationmode\": \"USA-states\", \"lon\": [-95.88824167, -80.29055556], \"mode\": \"lines\", \"opacity\": 0.00437636761487965, \"type\": \"scattergeo\", \"uid\": \"00530a91-e2a1-4e55-b975-8230d61c50b3\"}, {\"lat\": [41.979595, 44.88054694], \"line\": {\"color\": \"red\", \"width\": 1}, \"locationmode\": \"USA-states\", \"lon\": [-87.90446417, -93.2169225], \"mode\": \"lines\", \"opacity\": 0.175054704595186, \"type\": \"scattergeo\", \"uid\": \"8cb7ceb1-4b05-4452-8963-77c7033b3ec1\"}, {\"lat\": [32.89595056, 29.99338889], \"line\": {\"color\": \"red\", \"width\": 1}, \"locationmode\": \"USA-states\", \"lon\": [-97.0372, -90.25802778], \"mode\": \"lines\", \"opacity\": 0.3676148796498906, \"type\": \"scattergeo\", \"uid\": \"d12ac745-3b7b-4c5a-a533-036131e27f53\"}, {\"lat\": [25.79325, 29.99338889], \"line\": {\"color\": \"red\", \"width\": 1}, \"locationmode\": \"USA-states\", \"lon\": [-80.29055556, -90.25802778], \"mode\": \"lines\", \"opacity\": 0.1838074398249453, \"type\": \"scattergeo\", \"uid\": \"fa5aaade-a9f9-470b-9cd5-ceb422817b85\"}, {\"lat\": [41.979595, 29.99338889], \"line\": {\"color\": \"red\", \"width\": 1}, \"locationmode\": \"USA-states\", \"lon\": [-87.90446417, -90.25802778], \"mode\": \"lines\", \"opacity\": 0.16301969365426697, \"type\": \"scattergeo\", \"uid\": \"4b0f330f-ad79-4fad-8b9a-dae4da6a0ae9\"}, {\"lat\": [32.89595056, 34.056], \"line\": {\"color\": \"red\", \"width\": 1}, \"locationmode\": \"USA-states\", \"lon\": [-97.0372, -117.60119440000001], \"mode\": \"lines\", \"opacity\": 0.24288840262582057, \"type\": \"scattergeo\", \"uid\": \"3b650a0d-5a52-433d-b3c3-80b0e226c96d\"}, {\"lat\": [38.85208333, 41.979595], \"line\": {\"color\": \"red\", \"width\": 1}, \"locationmode\": \"USA-states\", \"lon\": [-77.03772222, -87.90446417], \"mode\": \"lines\", \"opacity\": 0.3544857768052516, \"type\": \"scattergeo\", \"uid\": \"6d16b6f6-9638-493d-8ee7-83deb360e332\"}, {\"lat\": [40.69249722, 41.979595], \"line\": {\"color\": \"red\", \"width\": 1}, \"locationmode\": \"USA-states\", \"lon\": [-74.16866056, -87.90446417], \"mode\": \"lines\", \"opacity\": 0.1838074398249453, \"type\": \"scattergeo\", \"uid\": \"9206dd3d-097f-4443-9bb1-ce6b3bba79ae\"}, {\"lat\": [26.07258333, 41.979595], \"line\": {\"color\": \"red\", \"width\": 1}, \"locationmode\": \"USA-states\", \"lon\": [-80.15275, -87.90446417], \"mode\": \"lines\", \"opacity\": 0.1838074398249453, \"type\": \"scattergeo\", \"uid\": \"e3068e97-c155-45d2-8ab9-5e55d98797e4\"}, {\"lat\": [40.48118028, 41.979595], \"line\": {\"color\": \"red\", \"width\": 1}, \"locationmode\": \"USA-states\", \"lon\": [-107.21765970000001, -87.90446417], \"mode\": \"lines\", \"opacity\": 0.0525164113785558, \"type\": \"scattergeo\", \"uid\": \"dd0e630b-893f-42fc-be23-93349657c35d\"}, {\"lat\": [21.31869111, 41.979595], \"line\": {\"color\": \"red\", \"width\": 1}, \"locationmode\": \"USA-states\", \"lon\": [-157.92240719999998, -87.90446417], \"mode\": \"lines\", \"opacity\": 0.05032822757111598, \"type\": \"scattergeo\", \"uid\": \"657802aa-2b92-4e05-8d6e-c541b7102375\"}, {\"lat\": [43.60732417, 41.979595], \"line\": {\"color\": \"red\", \"width\": 1}, \"locationmode\": \"USA-states\", \"lon\": [-110.7377389, -87.90446417], \"mode\": \"lines\", \"opacity\": 0.061269146608315096, \"type\": \"scattergeo\", \"uid\": \"6b92dfab-20b5-4966-a5cf-273cbd5f42b0\"}, {\"lat\": [40.63975111, 41.979595], \"line\": {\"color\": \"red\", \"width\": 1}, \"locationmode\": \"USA-states\", \"lon\": [-73.77892556, -87.90446417], \"mode\": \"lines\", \"opacity\": 0.061269146608315096, \"type\": \"scattergeo\", \"uid\": \"83f0642e-f230-488c-b490-60634da5c6aa\"}, {\"lat\": [40.77724306, 41.979595], \"line\": {\"color\": \"red\", \"width\": 1}, \"locationmode\": \"USA-states\", \"lon\": [-73.87260917, -87.90446417], \"mode\": \"lines\", \"opacity\": 0.9409190371991247, \"type\": \"scattergeo\", \"uid\": \"662fe7f9-4f55-4218-92ea-1e562bd1fc85\"}, {\"lat\": [39.29760528, 41.979595], \"line\": {\"color\": \"red\", \"width\": 1}, \"locationmode\": \"USA-states\", \"lon\": [-94.71390556, -87.90446417], \"mode\": \"lines\", \"opacity\": 0.23413566739606126, \"type\": \"scattergeo\", \"uid\": \"708c32d6-ce32-43f8-b904-6c915f308158\"}, {\"lat\": [28.42888889, 41.979595], \"line\": {\"color\": \"red\", \"width\": 1}, \"locationmode\": \"USA-states\", \"lon\": [-81.31602778, -87.90446417], \"mode\": \"lines\", \"opacity\": 0.24507658643326038, \"type\": \"scattergeo\", \"uid\": \"1e52b3c4-6cdb-46e1-a197-de274d8b9f01\"}, {\"lat\": [35.87763889, 41.979595], \"line\": {\"color\": \"red\", \"width\": 1}, \"locationmode\": \"USA-states\", \"lon\": [-78.78747222, -87.90446417], \"mode\": \"lines\", \"opacity\": 0.17067833698030635, \"type\": \"scattergeo\", \"uid\": \"031b3751-7d5f-4928-8181-018641072188\"}, {\"lat\": [39.49857611, 41.979595], \"line\": {\"color\": \"red\", \"width\": 1}, \"locationmode\": \"USA-states\", \"lon\": [-119.76806470000001, -87.90446417], \"mode\": \"lines\", \"opacity\": 0.061269146608315096, \"type\": \"scattergeo\", \"uid\": \"16f85ab9-56af-4d41-8637-9a9b26bba790\"}, {\"lat\": [32.73355611, 41.979595], \"line\": {\"color\": \"red\", \"width\": 1}, \"locationmode\": \"USA-states\", \"lon\": [-117.1896567, -87.90446417], \"mode\": \"lines\", \"opacity\": 0.24507658643326038, \"type\": \"scattergeo\", \"uid\": \"fd9e8702-3cdb-4475-acff-591b449b500b\"}, {\"lat\": [29.53369444, 41.979595], \"line\": {\"color\": \"red\", \"width\": 1}, \"locationmode\": \"USA-states\", \"lon\": [-98.46977778, -87.90446417], \"mode\": \"lines\", \"opacity\": 0.12253829321663019, \"type\": \"scattergeo\", \"uid\": \"7655474e-4c2b-48d2-b34b-05d24b14ff4a\"}, {\"lat\": [37.36186194, 41.979595], \"line\": {\"color\": \"red\", \"width\": 1}, \"locationmode\": \"USA-states\", \"lon\": [-121.92900890000001, -87.90446417], \"mode\": \"lines\", \"opacity\": 0.12253829321663019, \"type\": \"scattergeo\", \"uid\": \"922a40df-b582-4302-b01d-b092a3f6ef47\"}, {\"lat\": [18.43941667, 41.979595], \"line\": {\"color\": \"red\", \"width\": 1}, \"locationmode\": \"USA-states\", \"lon\": [-66.00183333, -87.90446417], \"mode\": \"lines\", \"opacity\": 0.12253829321663019, \"type\": \"scattergeo\", \"uid\": \"9c6d4c67-aefc-4e29-a878-1861bca69be2\"}, {\"lat\": [38.74768694, 41.979595], \"line\": {\"color\": \"red\", \"width\": 1}, \"locationmode\": \"USA-states\", \"lon\": [-90.35998972, -87.90446417], \"mode\": \"lines\", \"opacity\": 0.5284463894967177, \"type\": \"scattergeo\", \"uid\": \"fa7ea5e1-269a-4a03-a482-fa9a5ec02c49\"}, {\"lat\": [36.19837222, 41.979595], \"line\": {\"color\": \"red\", \"width\": 1}, \"locationmode\": \"USA-states\", \"lon\": [-95.88824167, -87.90446417], \"mode\": \"lines\", \"opacity\": 0.061269146608315096, \"type\": \"scattergeo\", \"uid\": \"148b942a-f670-4bba-b958-1badccb73a34\"}, {\"lat\": [32.11608333, 41.979595], \"line\": {\"color\": \"red\", \"width\": 1}, \"locationmode\": \"USA-states\", \"lon\": [-110.94102779999999, -87.90446417], \"mode\": \"lines\", \"opacity\": 0.12253829321663019, \"type\": \"scattergeo\", \"uid\": \"d5ab3fb1-d651-4f61-b656-d624aa186ac3\"}, {\"lat\": [32.89595056, 36.89461111], \"line\": {\"color\": \"red\", \"width\": 1}, \"locationmode\": \"USA-states\", \"lon\": [-97.0372, -76.20122222], \"mode\": \"lines\", \"opacity\": 0.12253829321663019, \"type\": \"scattergeo\", \"uid\": \"ac6f15db-715c-42cb-aee2-80c1c3afe131\"}, {\"lat\": [32.89595056, 26.68316194], \"line\": {\"color\": \"red\", \"width\": 1}, \"locationmode\": \"USA-states\", \"lon\": [-97.0372, -80.09559417], \"mode\": \"lines\", \"opacity\": 0.12253829321663019, \"type\": \"scattergeo\", \"uid\": \"12e715bd-927a-44c6-ba58-eef0b28fb85b\"}, {\"lat\": [41.979595, 26.68316194], \"line\": {\"color\": \"red\", \"width\": 1}, \"locationmode\": \"USA-states\", \"lon\": [-87.90446417, -80.09559417], \"mode\": \"lines\", \"opacity\": 0.16411378555798686, \"type\": \"scattergeo\", \"uid\": \"04819ccd-bb53-4c09-83a7-ad5e59a943c3\"}, {\"lat\": [32.89595056, 45.58872222], \"line\": {\"color\": \"red\", \"width\": 1}, \"locationmode\": \"USA-states\", \"lon\": [-97.0372, -122.5975], \"mode\": \"lines\", \"opacity\": 0.24507658643326038, \"type\": \"scattergeo\", \"uid\": \"dc59b0c1-b47c-4064-81e7-951f29420128\"}, {\"lat\": [41.979595, 39.87195278], \"line\": {\"color\": \"red\", \"width\": 1}, \"locationmode\": \"USA-states\", \"lon\": [-87.90446417, -75.24114083], \"mode\": \"lines\", \"opacity\": 0.12035010940919037, \"type\": \"scattergeo\", \"uid\": \"eefeee01-1b97-4ad7-ad82-fc3d00680723\"}, {\"lat\": [18.43941667, 39.87195278], \"line\": {\"color\": \"red\", \"width\": 1}, \"locationmode\": \"USA-states\", \"lon\": [-66.00183333, -75.24114083], \"mode\": \"lines\", \"opacity\": 0.061269146608315096, \"type\": \"scattergeo\", \"uid\": \"0c4ab852-3398-4c78-99ff-e10a9e9da13f\"}, {\"lat\": [41.979595, 33.43416667], \"line\": {\"color\": \"red\", \"width\": 1}, \"locationmode\": \"USA-states\", \"lon\": [-87.90446417, -112.00805559999999], \"mode\": \"lines\", \"opacity\": 0.3063457330415755, \"type\": \"scattergeo\", \"uid\": \"c327defe-5230-4927-a58b-289797471ca6\"}, {\"lat\": [32.89595056, 40.49146583], \"line\": {\"color\": \"red\", \"width\": 1}, \"locationmode\": \"USA-states\", \"lon\": [-97.0372, -80.23287083], \"mode\": \"lines\", \"opacity\": 0.18599562363238512, \"type\": \"scattergeo\", \"uid\": \"729bc72b-2d99-4c25-87b3-fe20c26c5561\"}, {\"lat\": [32.89595056, 33.82921556], \"line\": {\"color\": \"red\", \"width\": 1}, \"locationmode\": \"USA-states\", \"lon\": [-97.0372, -116.5062531], \"mode\": \"lines\", \"opacity\": 0.1838074398249453, \"type\": \"scattergeo\", \"uid\": \"0b60ee7d-f1c6-4fb8-8951-339a9734dca5\"}, {\"lat\": [41.979595, 33.82921556], \"line\": {\"color\": \"red\", \"width\": 1}, \"locationmode\": \"USA-states\", \"lon\": [-87.90446417, -116.5062531], \"mode\": \"lines\", \"opacity\": 0.0700218818380744, \"type\": \"scattergeo\", \"uid\": \"533b3c9b-75a6-40de-b32f-bf81be4b8bc3\"}, {\"lat\": [32.89595056, 35.87763889], \"line\": {\"color\": \"red\", \"width\": 1}, \"locationmode\": \"USA-states\", \"lon\": [-97.0372, -78.78747222], \"mode\": \"lines\", \"opacity\": 0.3041575492341357, \"type\": \"scattergeo\", \"uid\": \"bb7688e2-b0e3-4143-8287-5fb53b4e67c7\"}, {\"lat\": [25.79325, 35.87763889], \"line\": {\"color\": \"red\", \"width\": 1}, \"locationmode\": \"USA-states\", \"lon\": [-80.29055556, -78.78747222], \"mode\": \"lines\", \"opacity\": 0.1838074398249453, \"type\": \"scattergeo\", \"uid\": \"cf271e0a-b028-451d-a14a-cc74f08dc220\"}, {\"lat\": [32.89595056, 26.53616667], \"line\": {\"color\": \"red\", \"width\": 1}, \"locationmode\": \"USA-states\", \"lon\": [-97.0372, -81.75516667], \"mode\": \"lines\", \"opacity\": 0.1838074398249453, \"type\": \"scattergeo\", \"uid\": \"999604b8-4b34-49cd-9630-9bfe35563121\"}, {\"lat\": [41.979595, 26.53616667], \"line\": {\"color\": \"red\", \"width\": 1}, \"locationmode\": \"USA-states\", \"lon\": [-87.90446417, -81.75516667], \"mode\": \"lines\", \"opacity\": 0.1838074398249453, \"type\": \"scattergeo\", \"uid\": \"f5fa66a8-ec1d-4a2d-85f9-c74ce98062d4\"}, {\"lat\": [40.63975111, 32.73355611], \"line\": {\"color\": \"red\", \"width\": 1}, \"locationmode\": \"USA-states\", \"lon\": [-73.77892556, -117.1896567], \"mode\": \"lines\", \"opacity\": 0.061269146608315096, \"type\": \"scattergeo\", \"uid\": \"59e4c5fd-0a98-44e1-ba38-d600d57bb8c3\"}, {\"lat\": [32.89595056, 47.44898194], \"line\": {\"color\": \"red\", \"width\": 1}, \"locationmode\": \"USA-states\", \"lon\": [-97.0372, -122.30931310000001], \"mode\": \"lines\", \"opacity\": 0.4288840262582057, \"type\": \"scattergeo\", \"uid\": \"7041a60e-cda6-45f7-b7f4-07d429ccd828\"}, {\"lat\": [41.979595, 47.44898194], \"line\": {\"color\": \"red\", \"width\": 1}, \"locationmode\": \"USA-states\", \"lon\": [-87.90446417, -122.30931310000001], \"mode\": \"lines\", \"opacity\": 0.23413566739606126, \"type\": \"scattergeo\", \"uid\": \"931a18ac-cce3-4767-9265-234662f671b1\"}, {\"lat\": [21.31869111, 37.61900194], \"line\": {\"color\": \"red\", \"width\": 1}, \"locationmode\": \"USA-states\", \"lon\": [-157.92240719999998, -122.3748433], \"mode\": \"lines\", \"opacity\": 0.061269146608315096, \"type\": \"scattergeo\", \"uid\": \"5dda337d-2cf9-4462-a148-323b00dd9dbf\"}, {\"lat\": [33.94253611, 37.61900194], \"line\": {\"color\": \"red\", \"width\": 1}, \"locationmode\": \"USA-states\", \"lon\": [-118.40807439999999, -122.3748433], \"mode\": \"lines\", \"opacity\": 0.3676148796498906, \"type\": \"scattergeo\", \"uid\": \"d8a5cc6d-e83f-4575-b34e-951a07b78639\"}, {\"lat\": [41.979595, 37.61900194], \"line\": {\"color\": \"red\", \"width\": 1}, \"locationmode\": \"USA-states\", \"lon\": [-87.90446417, -122.3748433], \"mode\": \"lines\", \"opacity\": 0.35667396061269147, \"type\": \"scattergeo\", \"uid\": \"ac867ece-4ac1-439b-b95c-ae3c55974fc3\"}, {\"lat\": [32.89595056, 18.43941667], \"line\": {\"color\": \"red\", \"width\": 1}, \"locationmode\": \"USA-states\", \"lon\": [-97.0372, -66.00183333], \"mode\": \"lines\", \"opacity\": 0.13129102844638948, \"type\": \"scattergeo\", \"uid\": \"412b46a8-1e30-4301-996e-4e3e52ff1062\"}, {\"lat\": [38.94453194, 18.43941667], \"line\": {\"color\": \"red\", \"width\": 1}, \"locationmode\": \"USA-states\", \"lon\": [-77.45580972, -66.00183333], \"mode\": \"lines\", \"opacity\": 0.061269146608315096, \"type\": \"scattergeo\", \"uid\": \"adf334ac-65a9-418c-bd60-29344837d873\"}, {\"lat\": [40.63975111, 18.43941667], \"line\": {\"color\": \"red\", \"width\": 1}, \"locationmode\": \"USA-states\", \"lon\": [-73.77892556, -66.00183333], \"mode\": \"lines\", \"opacity\": 0.1838074398249453, \"type\": \"scattergeo\", \"uid\": \"0f8eb180-e771-4900-9181-3a87613f7fbe\"}, {\"lat\": [33.94253611, 18.43941667], \"line\": {\"color\": \"red\", \"width\": 1}, \"locationmode\": \"USA-states\", \"lon\": [-118.40807439999999, -66.00183333], \"mode\": \"lines\", \"opacity\": 0.0175054704595186, \"type\": \"scattergeo\", \"uid\": \"a36f3376-abed-4156-957b-bc40dc651ead\"}, {\"lat\": [32.89595056, 38.69542167], \"line\": {\"color\": \"red\", \"width\": 1}, \"locationmode\": \"USA-states\", \"lon\": [-97.0372, -121.5907669], \"mode\": \"lines\", \"opacity\": 0.24507658643326038, \"type\": \"scattergeo\", \"uid\": \"aa5f8829-1649-49d6-9267-68cec9f652c8\"}, {\"lat\": [32.89595056, 33.67565861], \"line\": {\"color\": \"red\", \"width\": 1}, \"locationmode\": \"USA-states\", \"lon\": [-97.0372, -117.86822250000002], \"mode\": \"lines\", \"opacity\": 0.6323851203501094, \"type\": \"scattergeo\", \"uid\": \"0de02d28-1a40-4adf-89e5-fb184bca0c15\"}, {\"lat\": [41.979595, 33.67565861], \"line\": {\"color\": \"red\", \"width\": 1}, \"locationmode\": \"USA-states\", \"lon\": [-87.90446417, -117.86822250000002], \"mode\": \"lines\", \"opacity\": 0.16630196936542668, \"type\": \"scattergeo\", \"uid\": \"88f79650-21dd-4ee1-bb6a-9bd6a49a5ff2\"}, {\"lat\": [38.85208333, 38.74768694], \"line\": {\"color\": \"red\", \"width\": 1}, \"locationmode\": \"USA-states\", \"lon\": [-77.03772222, -90.35998972], \"mode\": \"lines\", \"opacity\": 0.2188183807439825, \"type\": \"scattergeo\", \"uid\": \"bdfc6e65-b38f-4f36-9f43-f3bbbcd530ff\"}, {\"lat\": [25.79325, 38.74768694], \"line\": {\"color\": \"red\", \"width\": 1}, \"locationmode\": \"USA-states\", \"lon\": [-80.29055556, -90.35998972], \"mode\": \"lines\", \"opacity\": 0.1838074398249453, \"type\": \"scattergeo\", \"uid\": \"6ae6b9bd-7664-4907-90af-a1696d44d155\"}, {\"lat\": [25.79325, 18.33730556], \"line\": {\"color\": \"red\", \"width\": 1}, \"locationmode\": \"USA-states\", \"lon\": [-80.29055556, -64.97336111], \"mode\": \"lines\", \"opacity\": 0.12253829321663019, \"type\": \"scattergeo\", \"uid\": \"4bd63005-2368-4b1d-a1a6-4c7c8d15dd0a\"}, {\"lat\": [25.79325, 17.70188889], \"line\": {\"color\": \"red\", \"width\": 1}, \"locationmode\": \"USA-states\", \"lon\": [-80.29055556, -64.79855556], \"mode\": \"lines\", \"opacity\": 0.06783369803063458, \"type\": \"scattergeo\", \"uid\": \"0d85345d-e75c-4d77-a208-07009b246451\"}, {\"lat\": [32.89595056, 27.97547222], \"line\": {\"color\": \"red\", \"width\": 1}, \"locationmode\": \"USA-states\", \"lon\": [-97.0372, -82.53325], \"mode\": \"lines\", \"opacity\": 0.4288840262582057, \"type\": \"scattergeo\", \"uid\": \"f56a358a-6e94-4946-8593-d2761731bd50\"}, {\"lat\": [25.79325, 27.97547222], \"line\": {\"color\": \"red\", \"width\": 1}, \"locationmode\": \"USA-states\", \"lon\": [-80.29055556, -82.53325], \"mode\": \"lines\", \"opacity\": 0.32603938730853393, \"type\": \"scattergeo\", \"uid\": \"377c51a7-0034-4837-9956-e5fa34d7bba7\"}, {\"lat\": [41.979595, 27.97547222], \"line\": {\"color\": \"red\", \"width\": 1}, \"locationmode\": \"USA-states\", \"lon\": [-87.90446417, -82.53325], \"mode\": \"lines\", \"opacity\": 0.16411378555798686, \"type\": \"scattergeo\", \"uid\": \"e4f49cbf-84b8-4fb6-9e41-9966dce11161\"}, {\"lat\": [18.43941667, 27.97547222], \"line\": {\"color\": \"red\", \"width\": 1}, \"locationmode\": \"USA-states\", \"lon\": [-66.00183333, -82.53325], \"mode\": \"lines\", \"opacity\": 0.061269146608315096, \"type\": \"scattergeo\", \"uid\": \"770ee9ba-377e-42af-ba47-519c2198c887\"}, {\"lat\": [32.89595056, 36.19837222], \"line\": {\"color\": \"red\", \"width\": 1}, \"locationmode\": \"USA-states\", \"lon\": [-97.0372, -95.88824167], \"mode\": \"lines\", \"opacity\": 0.42669584245076586, \"type\": \"scattergeo\", \"uid\": \"9ee5f652-91a9-410d-bb79-2a01e044a73b\"}, {\"lat\": [32.89595056, 32.11608333], \"line\": {\"color\": \"red\", \"width\": 1}, \"locationmode\": \"USA-states\", \"lon\": [-97.0372, -110.94102779999999], \"mode\": \"lines\", \"opacity\": 0.45842450765864334, \"type\": \"scattergeo\", \"uid\": \"b374c675-1bab-4887-80c8-91d9611b0b65\"}, {\"hoverinfo\": \"text\", \"lat\": [41.979595, 33.64044444, 32.89595056, 33.43416667, 39.85840806, 29.98047222, 37.61900194, 33.94253611, 28.42888889, 35.21401111, 40.78838778, 27.97547222, 40.69249722, 36.08036111, 39.87195278, 44.88054694, 47.44898194, 40.77724306, 41.7859825, 38.94453194, 32.73355611, 38.74768694, 42.21205889, 40.63975111, 25.79325, 42.3643475, 38.69542167, 39.17540167, 33.67565861, 29.99338889, 37.36186194, 38.85208333, 45.58872222, 26.53616667, 26.68316194, 35.87763889, 29.64541861, 29.53369444, 26.07258333, 39.29760528, 37.72129083, 40.49146583, 35.04241667, 42.94722222, 41.41089417, 30.49405556, 32.11608333, 39.71732917, 39.49857611, 35.39308833, 41.72399917, 36.19837222, 39.04614278, 39.99798528, 38.17438889, 34.056, 34.72939611, 32.84711389, 41.30251861, 36.89461111, 39.90237583, 43.11886611, 36.28186944, 36.12447667, 35.04022222, 32.31116667, 31.80666667, 37.50516667, 41.93887417, 31.94252778, 30.53316083, 35.81248722, 38.80580556, 30.47330556, 43.11118694, 33.56294306, 42.93451639, 33.82921556, 27.39533333, 27.77036083, 34.6404475, 33.93884, 30.20527972, 34.42621194, 47.61985556, 30.69141667, 37.64995889, 42.94052472, 41.53493306, 40.19349528, 43.64616667, 32.30064417, 37.13189556, 41.06695778, 36.5869825, 42.88081972, 30.448674, 32.65658333, 39.22316, 30.39652778, 30.40728028, 44.04532139, 33.81772222, 34.27061111, 38.03697222, 43.13985778, 44.123259999999995, 32.12758333, 33.66363889, 41.88458833, 34.89566722, 36.09774694, 40.7952425, 41.44852639, 35.43619444, 40.91631194, 40.47798556, 26.22850611, 30.48325, 32.446627500000005, 46.91934889, 40.48118028, 42.37422778, 40.66424333, 27.54373861, 30.19453278, 32.41132, 37.24432611, 42.96550333, 36.47521417, 31.06489778, 32.89864639, 44.48507333, 44.25406722, 32.51633333, 41.70895361, 43.56444444, 33.67975, 48.25937778, 40.03925, 37.32546833, 39.64256778, 43.60732417, 45.77690139, 39.1224125, 34.20061917, 38.03799139, 38.53396333, 43.51455556, 36.77619444, 39.84395194, 26.17583333, 40.50898361, 47.949255, 43.58135111, 42.48180389, 34.89924833, 42.91130556, 31.32133917, 34.82916444, 38.50886722, 46.77411111, 42.90835556, 44.74144472, 32.51086556, 46.26468028, 39.14096722, 31.32737167, 43.41713889, 35.61677778, 42.15614361, 41.50409361, 38.13863889, 30.7825, 44.77761917, 35.65884306, 40.97811528, 31.25902778, 40.85097222, 40.97846583, 44.52019417, 37.06083333, 35.23705806, 41.33814944, 33.45033444, 44.34889806, 35.07297222, 33.369955, 35.33659028, 32.35413889, 46.60681806, 47.48200194, 32.33313333, 46.353639, 37.95375861, 35.03526833, 46.37449806, 37.70097028, 42.74811944, 44.47300361, 48.31140472, 28.10275, 29.17991667, 40.65236278, 46.84209028, 41.155722499999996, 41.5942175, 37.85830556, 38.37315083, 48.79275, 37.62404861, 44.25740806, 36.385913, 27.91076333, 33.98879611, 34.99147222, 44.86525722, 42.40295944, 43.90882639, 34.681499, 45.8076625], \"locationmode\": \"USA-states\", \"lon\": [-87.90446417, -84.42694444, -97.0372, -112.00805559999999, -104.6670019, -95.33972222, -122.3748433, -118.40807439999999, -81.31602778, -80.94312583, -111.9777731, -82.53325, -74.16866056, -115.15233329999998, -75.24114083, -93.2169225, -122.30931310000001, -73.87260917, -87.75242444, -77.45580972, -117.1896567, -90.35998972, -83.34883583, -73.77892556, -80.29055556, -71.00517917, -121.5907669, -76.66819833, -117.86822250000002, -90.25802778, -121.92900890000001, -77.03772222, -122.5975, -81.75516667, -80.09559417, -78.78747222, -95.27888889, -98.46977778, -80.15275, -94.71390556, -122.22071670000001, -80.23287083, -89.97666667, -87.89658333, -81.84939667, -81.68786111, -110.94102779999999, -86.29438417, -119.76806470000001, -97.60073389, -71.42822111, -95.88824167, -84.6621725, -82.89188278, -85.736, -117.60119440000001, -92.22424556, -96.85177222, -95.89417306, -76.20122222, -84.219375, -77.67238389, -94.30681111, -86.67818222, -106.6091944, -90.07588889, -106.37780559999999, -77.31966667, -72.68322833, -102.20191390000001, -91.14963444, -83.99285583, -104.70025, -87.18744444, -76.10631056, -86.75354972, -71.43705583, -116.5062531, -82.55411111, -97.50121528, -86.77310944, -81.11953944, -91.987655, -119.8403733, -117.5338425, -88.24283333, -97.43304583, -78.73216667, -93.66068222, -76.76340361, -70.30875, -86.39397611, -76.4929875, -73.70757444, -121.84294779999999, -85.52276778, -84.550781, -114.60597220000001, -106.868845, -84.35033333, -89.07009278, -103.0573708, -118.1516111, -77.90255556, -84.60538889, -89.33751361, -123.21868559999999, -81.20213889, -101.8227778, -91.71087222, -82.21885833, -79.9372975, -73.10021194, -90.50753917, -82.54180556, -81.44246556, -88.91595278, -97.65439389, -86.5254, -93.82559833, -96.81498889, -107.21765970000001, -122.8734978, -89.69330556, -99.46154361, -97.66987194, -99.68189722, -93.38685806, -83.74345639, -82.40742056, -97.82779778, -80.04050583, -88.12959000000001, -121.1499633, -84.93886111, -86.31847417, -116.22277779999999, -78.92833333, -101.2803339, -88.27805556, -79.97542833, -106.91769529999999, -110.7377389, -111.15300719999999, -108.5267347, -118.3584969, -87.53062667, -106.9331817, -112.07016670000002, -119.7181389, -89.67761861, -98.23861111, -122.2934019, -97.17611111, -96.74170028, -114.4877356, -120.4575825, -112.59586110000001, -85.44962889, -77.61213778, -107.89383329999998, -100.74672220000001, -106.46446609999998, -85.582235, -92.03768778, -119.11902920000001, -96.67083278, -92.54855611, -124.2460278, -106.08813889999999, -121.7332081, -74.10483833, -78.45286111, -83.27672222, -89.66677944, -117.8295122, -124.1086189, -81.46630556, -96.75925, -85.19514639, -109.02379609999998, -88.77375, -120.64239309999999, -75.72426750000001, -88.59136861, -105.5393614, -77.04294444, -81.96449611, -94.36744111, -95.40238611, -111.9827503, -111.37068529999999, -88.75120556, -87.395361, -107.90848000000001, -85.20378778, -117.01539440000002, -113.098575, -73.80297861, -73.1503125, -114.25506940000001, -80.64580556, -81.05805556, -75.44040167, -92.19364861, -104.81183809999999, -109.0651928, -80.39947222, -81.59318972, -122.53752779999999, -118.8377722, -88.51947556, -92.548828, -82.68743944, -98.49189333, -78.88, -91.48507194, -90.70916722, -92.49798722, -90.348816, -108.54286110000001], \"marker\": {\"color\": \"rgb(255, 0, 0)\", \"line\": {\"color\": \"rgba(68, 68, 68, 0)\", \"width\": 3}, \"size\": 2}, \"mode\": \"markers\", \"text\": [\"Chicago O'Hare International\", \"William B Hartsfield-Atlanta Intl\", \"Dallas-Fort Worth International\", \"Phoenix Sky Harbor International\", \"Denver Intl\", \"George Bush Intercontinental\", \"San Francisco International\", \"Los Angeles International\", \"Orlando International\", \"Charlotte/Douglas International\", \"Salt Lake City Intl\", \"Tampa International \", \"Newark Intl\", \"McCarran International\", \"Philadelphia Intl\", \"Minneapolis-St Paul Intl\", \"Seattle-Tacoma Intl\", \"LaGuardia\", \"Chicago Midway\", \"Washington Dulles International\", \"San Diego International-Lindbergh \", \"Lambert-St Louis International\", \"Detroit Metropolitan-Wayne County\", \"John F Kennedy Intl\", \"Miami International\", \"Gen Edw L Logan Intl\", \"Sacramento International\", \"Baltimore-Washington International\", \"John Wayne /Orange Co\", \"New Orleans International \", \"San Jose International\", \"Ronald Reagan Washington National\", \"Portland Intl\", \"Southwest Florida International\", \"Palm Beach International\", \"Raleigh-Durham International\", \"William P Hobby\", \"San Antonio International\", \"Fort Lauderdale-Hollywood Int'l\", \"Kansas City International\", \"Metropolitan Oakland International\", \"Pittsburgh International\", \"Memphis International\", \"General Mitchell International\", \"Cleveland-Hopkins Intl\", \"Jacksonville International\", \"Tucson International\", \"Indianapolis International\", \"Reno/Tahoe International\", \"Will Rogers World\", \"Theodore F Green State\", \"Tulsa International\", \"Cincinnati Northern Kentucky Intl\", \"Port Columbus Intl\", \"Louisville International-Standiford \", \"Ontario International\", \"Adams \", \"Dallas Love \", \"Eppley Airfield\", \"Norfolk International\", \"James M Cox Dayton Intl\", \"Greater Rochester Int'l\", \"Northwest Arkansas Regional\", \"Nashville International\", \"Albuquerque International\", \"Jackson International\", \"El Paso International\", \"Richmond International\", \"Bradley International\", \"Midland International\", \"Baton Rouge Metropolitan, Ryan \", \"McGhee-Tyson\", \"City of Colorado Springs Muni\", \"Pensacola Regional\", \"Syracuse-Hancock Intl\", \"Birmingham International\", \"Manchester\", \"Palm Springs International\", \"Sarasota Bradenton International\", \"Corpus Christi International\", \"Huntsville International \", \"Columbia Metropolitan\", \"Lafayette Regional\", \"Santa Barbara Municipal\", \"Spokane Intl\", \"Mobile Regional\", \"Wichita Mid-Continent\", \"Buffalo Niagara Intl\", \"Des Moines International\", \"Harrisburg Intl\", \"Portland International Jetport\", \"Montgomery Regional Apt\", \"Newport News/Williamsburg International\", \"Westchester Cty\", \"Monterey Peninsula\", \"Kent County International\", \"Florida Beach\", \"Yuma MCAS-Yuma International\", \"Aspen-Pitkin Co/Sardy \", \"Tallahassee Regional\", \"Gulfport-Biloxi Regional\", \"Rapid City Regional\", \"Long Beach (Daugherty )\", \"Wilmington International\", \"Blue Grass \", \"Dane County Regional\", \"Mahlon Sweet \", \"Savannah International\", \"Lubbock International\", \"Eastern Iowa \", \"Greenville-Spartanburg\", \"Piedmont Triad International\", \"Long Island - MacArthur\", \"Quad City\", \"Asheville Regional\", \"Akron-Canton Regional\", \"Central Illinois Regional\", \"Valley International\", \"Eglin Air Force Base\", \"Shreveport Regional\", \"Hector International\", \"Yampa Valley\", \"Rogue Valley International\", \"Greater Peoria Regional\", \"Laredo International\", \"Austin-Bergstrom International\", \"Abilene Regional\", \"Springfield-Branson Regional\", \"Bishop\", \"Tri-Cities Regional\", \"Robert Gray AAF\", \"Charleston AFB/International\", \"Austin Straubel International\", \"Roberts \", \"Columbus Metropolitan\", \"South Bend Regional\", \"Boise Air Terminal\", \"Myrtle Beach International\", \"Minot International\", \"University of Illinois-Willard\", \"Roanoke Regional/ Woodrum \", \"Eagle County Regional\", \"Jackson Hole\", \"Gallatin \", \"Walker \", \"Burbank-Glendale-Pasadena\", \"Evansville Regional\", \"Gunnison County\", \"Idaho Falls Regional\", \"Fresno Yosemite International\", \"Capital\", \"McAllen Miller International\", \"Redding Municipal\", \"Grand Forks International\", \"Joe Foss \", \"Joslin Field - Magic Valley\", \"Santa Maria Pub/Capt G Allan Hancock \", \"Pocatello Regional\", \"Dothan \", \"Albert J Ellis\", \"Montrose Regional\", \"Bismarck Municipal\", \"Natrona County Intl\", \"Cherry Capital\", \"Monroe Regional\", \"Tri-Cities\", \"Manhattan Regional\", \"Alexandria International\", \"North Bend Muni\", \"Santa Fe Municipal\", \"Klamath Falls International\", \"Stewart\", \"Charlottesville-Albermarle\", \"Valdosta Regional\", \"Central Wisconsin\", \"Inyokern\", \"Arcata\", \"Glynco Jetport\", \"Lincoln Municipal\", \"Fort Wayne International\", \"Yellowstone Regional\", \"Barkley Regional\", \"San Luis Obispo Co-McChesney \", \"Wilkes-Barre/Scranton Intl\", \"Golden Triangle Regional\", \"Gillette-Campbell County\", \"Craven County Regional\", \"Bush \", \"Fort Smith Regional\", \"Tyler Pounds \", \"Helena Regional\", \"Great Falls Intl\", \"Key \", \"Marquette County Airport\", \"Telluride Regional\", \"Lovell \", \"Lewiston-Nez Perce County\", \"Cedar City Muni\", \"Albany Cty\", \"Burlington International\", \"Glacier Park Intl\", \"Melbourne International \", \"Daytona Beach International\", \"Lehigh Valley International\", \"Duluth International\", \"Cheyenne\", \"Rock Springs-Sweetwater County\", \"Greenbrier Valley\", \"Yeager\", \"Bellingham Intl\", \"Mammoth Yosemite\", \"Outagamie County Regional\", \"Branson Airport\", \"St. Petersburg-Clearwater International\", \"Sheppard AFB/Wichita Falls Municipal\", \"Fayetteville Municipal\", \"Chippewa Valley Regional\", \"Dubuque Municipal\", \"Rochester International\", \"Tunica Municipal Airport\", \"Billings Logan Intl\"], \"type\": \"scattergeo\", \"uid\": \"da70b3ab-9676-4ab5-9d41-335986715c86\"}], {\"geo\": {\"countrycolor\": \"rgb(204, 204, 204)\", \"landcolor\": \"rgb(243, 243, 243)\", \"projection\": {\"type\": \"azimuthal equal area\"}, \"scope\": \"north america\", \"showland\": true}, \"showlegend\": false, \"title\": \"Feb. 2011 American Airline flight paths<br>(Hover for airport names)\"}, {\"showLink\": true, \"linkText\": \"Export to plot.ly\", \"plotlyServerURL\": \"https://plot.ly\"})});</script><script type=\"text/javascript\">window.addEventListener(\"resize\", function(){window._Plotly.Plots.resize(document.getElementById(\"a986bef7-8c4d-4ce0-9421-58732fca12be\"));});</script>"
      ],
      "text/vnd.plotly.v1+html": [
       "<div id=\"a986bef7-8c4d-4ce0-9421-58732fca12be\" style=\"height: 525px; width: 100%;\" class=\"plotly-graph-div\"></div><script type=\"text/javascript\">require([\"plotly\"], function(Plotly) { window.PLOTLYENV=window.PLOTLYENV || {};window.PLOTLYENV.BASE_URL=\"https://plot.ly\";Plotly.newPlot(\"a986bef7-8c4d-4ce0-9421-58732fca12be\", [{\"lat\": [32.89595056, 35.04022222], \"line\": {\"color\": \"red\", \"width\": 1}, \"locationmode\": \"USA-states\", \"lon\": [-97.0372, -106.6091944], \"mode\": \"lines\", \"opacity\": 0.48577680525164113, \"type\": \"scattergeo\", \"uid\": \"bbae352d-809e-4903-8491-f190ecc1e0bd\"}, {\"lat\": [41.979595, 30.19453278], \"line\": {\"color\": \"red\", \"width\": 1}, \"locationmode\": \"USA-states\", \"lon\": [-87.90446417, -97.66987194], \"mode\": \"lines\", \"opacity\": 0.18161925601750548, \"type\": \"scattergeo\", \"uid\": \"d7943cad-34f7-4117-afda-84a60a215dae\"}, {\"lat\": [32.89595056, 41.93887417], \"line\": {\"color\": \"red\", \"width\": 1}, \"locationmode\": \"USA-states\", \"lon\": [-97.0372, -72.68322833], \"mode\": \"lines\", \"opacity\": 0.1772428884026258, \"type\": \"scattergeo\", \"uid\": \"a6675203-e72a-422c-87de-b20d0061af8a\"}, {\"lat\": [18.43941667, 41.93887417], \"line\": {\"color\": \"red\", \"width\": 1}, \"locationmode\": \"USA-states\", \"lon\": [-66.00183333, -72.68322833], \"mode\": \"lines\", \"opacity\": 0.061269146608315096, \"type\": \"scattergeo\", \"uid\": \"ba785e79-6230-4535-b818-356d45c22c2e\"}, {\"lat\": [32.89595056, 33.56294306], \"line\": {\"color\": \"red\", \"width\": 1}, \"locationmode\": \"USA-states\", \"lon\": [-97.0372, -86.75354972], \"mode\": \"lines\", \"opacity\": 0.1838074398249453, \"type\": \"scattergeo\", \"uid\": \"d8be40f0-b015-4c11-a6ed-db10d2ea298f\"}, {\"lat\": [25.79325, 36.12447667], \"line\": {\"color\": \"red\", \"width\": 1}, \"locationmode\": \"USA-states\", \"lon\": [-80.29055556, -86.67818222], \"mode\": \"lines\", \"opacity\": 0.061269146608315096, \"type\": \"scattergeo\", \"uid\": \"a4fee483-fd74-4f3b-8441-a1a931424743\"}, {\"lat\": [32.89595056, 42.3643475], \"line\": {\"color\": \"red\", \"width\": 1}, \"locationmode\": \"USA-states\", \"lon\": [-97.0372, -71.00517917], \"mode\": \"lines\", \"opacity\": 0.4617067833698031, \"type\": \"scattergeo\", \"uid\": \"e0809e01-4498-4a0b-a27a-e7a4f8feb402\"}, {\"lat\": [25.79325, 42.3643475], \"line\": {\"color\": \"red\", \"width\": 1}, \"locationmode\": \"USA-states\", \"lon\": [-80.29055556, -71.00517917], \"mode\": \"lines\", \"opacity\": 0.4288840262582057, \"type\": \"scattergeo\", \"uid\": \"4164fb56-ca73-416c-b090-1f32847d78d1\"}, {\"lat\": [41.979595, 42.3643475], \"line\": {\"color\": \"red\", \"width\": 1}, \"locationmode\": \"USA-states\", \"lon\": [-87.90446417, -71.00517917], \"mode\": \"lines\", \"opacity\": 0.47045951859956237, \"type\": \"scattergeo\", \"uid\": \"c43a4a00-1854-484e-a396-f54a232b5b38\"}, {\"lat\": [18.43941667, 42.3643475], \"line\": {\"color\": \"red\", \"width\": 1}, \"locationmode\": \"USA-states\", \"lon\": [-66.00183333, -71.00517917], \"mode\": \"lines\", \"opacity\": 0.061269146608315096, \"type\": \"scattergeo\", \"uid\": \"538fb8fa-380f-4164-bd38-4a8e86c9e438\"}, {\"lat\": [18.33730556, 42.3643475], \"line\": {\"color\": \"red\", \"width\": 1}, \"locationmode\": \"USA-states\", \"lon\": [-64.97336111, -71.00517917], \"mode\": \"lines\", \"opacity\": 0.04814004376367615, \"type\": \"scattergeo\", \"uid\": \"d76e7a59-1e63-44bc-aa22-37d26a17e5d8\"}, {\"lat\": [25.79325, 39.17540167], \"line\": {\"color\": \"red\", \"width\": 1}, \"locationmode\": \"USA-states\", \"lon\": [-80.29055556, -76.66819833], \"mode\": \"lines\", \"opacity\": 0.12253829321663019, \"type\": \"scattergeo\", \"uid\": \"bafec5b4-7dcc-4add-a961-183cdcfbbd3b\"}, {\"lat\": [18.43941667, 39.17540167], \"line\": {\"color\": \"red\", \"width\": 1}, \"locationmode\": \"USA-states\", \"lon\": [-66.00183333, -76.66819833], \"mode\": \"lines\", \"opacity\": 0.061269146608315096, \"type\": \"scattergeo\", \"uid\": \"b09a4da4-b962-41d4-9273-43b7ef0b94e4\"}, {\"lat\": [32.89595056, 35.21401111], \"line\": {\"color\": \"red\", \"width\": 1}, \"locationmode\": \"USA-states\", \"lon\": [-97.0372, -80.94312583], \"mode\": \"lines\", \"opacity\": 0.3938730853391685, \"type\": \"scattergeo\", \"uid\": \"26e137df-a386-420f-b8a0-f94042115991\"}, {\"lat\": [32.89595056, 38.80580556], \"line\": {\"color\": \"red\", \"width\": 1}, \"locationmode\": \"USA-states\", \"lon\": [-97.0372, -104.70025], \"mode\": \"lines\", \"opacity\": 0.3041575492341357, \"type\": \"scattergeo\", \"uid\": \"d348c5da-9ae0-4b65-9a2c-e46f5a196a4c\"}, {\"lat\": [32.89595056, 39.90237583], \"line\": {\"color\": \"red\", \"width\": 1}, \"locationmode\": \"USA-states\", \"lon\": [-97.0372, -84.219375], \"mode\": \"lines\", \"opacity\": 0.1137855579868709, \"type\": \"scattergeo\", \"uid\": \"8c0cdeb9-bebd-49a7-ab5b-062a3609ac7d\"}, {\"lat\": [32.89595056, 38.85208333], \"line\": {\"color\": \"red\", \"width\": 1}, \"locationmode\": \"USA-states\", \"lon\": [-97.0372, -77.03772222], \"mode\": \"lines\", \"opacity\": 0.6433260393873085, \"type\": \"scattergeo\", \"uid\": \"3813f95e-6351-458e-888f-338c4b144b45\"}, {\"lat\": [25.79325, 39.85840806], \"line\": {\"color\": \"red\", \"width\": 1}, \"locationmode\": \"USA-states\", \"lon\": [-80.29055556, -104.6670019], \"mode\": \"lines\", \"opacity\": 0.12253829321663019, \"type\": \"scattergeo\", \"uid\": \"2e44b376-1f5b-45f6-b36e-ff526e0dd10b\"}, {\"lat\": [41.979595, 39.85840806], \"line\": {\"color\": \"red\", \"width\": 1}, \"locationmode\": \"USA-states\", \"lon\": [-87.90446417, -104.6670019], \"mode\": \"lines\", \"opacity\": 0.12253829321663019, \"type\": \"scattergeo\", \"uid\": \"8cd0a34f-49d2-44da-8484-b874d26aa0bd\"}, {\"lat\": [33.64044444, 32.89595056], \"line\": {\"color\": \"red\", \"width\": 1}, \"locationmode\": \"USA-states\", \"lon\": [-84.42694444, -97.0372], \"mode\": \"lines\", \"opacity\": 0.6345733041575492, \"type\": \"scattergeo\", \"uid\": \"b0b7cd5e-3a89-4783-908a-0e0420f37ee4\"}, {\"lat\": [30.19453278, 32.89595056], \"line\": {\"color\": \"red\", \"width\": 1}, \"locationmode\": \"USA-states\", \"lon\": [-97.66987194, -97.0372], \"mode\": \"lines\", \"opacity\": 0.8971553610503282, \"type\": \"scattergeo\", \"uid\": \"401771a4-bd0a-43da-a3be-889e80bed9a9\"}, {\"lat\": [36.12447667, 32.89595056], \"line\": {\"color\": \"red\", \"width\": 1}, \"locationmode\": \"USA-states\", \"lon\": [-86.67818222, -97.0372], \"mode\": \"lines\", \"opacity\": 0.47702407002188185, \"type\": \"scattergeo\", \"uid\": \"dac84f80-73db-455e-8808-2f2e74193025\"}, {\"lat\": [34.20061917, 32.89595056], \"line\": {\"color\": \"red\", \"width\": 1}, \"locationmode\": \"USA-states\", \"lon\": [-118.3584969, -97.0372], \"mode\": \"lines\", \"opacity\": 0.2275711159737418, \"type\": \"scattergeo\", \"uid\": \"24f0fbf8-d8e6-472d-8e50-7a136b7a4044\"}, {\"lat\": [39.17540167, 32.89595056], \"line\": {\"color\": \"red\", \"width\": 1}, \"locationmode\": \"USA-states\", \"lon\": [-76.66819833, -97.0372], \"mode\": \"lines\", \"opacity\": 0.35667396061269147, \"type\": \"scattergeo\", \"uid\": \"126f8fcd-dec9-4ff5-8277-3d84aa91c01c\"}, {\"lat\": [39.99798528, 32.89595056], \"line\": {\"color\": \"red\", \"width\": 1}, \"locationmode\": \"USA-states\", \"lon\": [-82.89188278, -97.0372], \"mode\": \"lines\", \"opacity\": 0.1137855579868709, \"type\": \"scattergeo\", \"uid\": \"f77424c6-e497-45ce-8718-b9bf26296340\"}, {\"lat\": [39.85840806, 32.89595056], \"line\": {\"color\": \"red\", \"width\": 1}, \"locationmode\": \"USA-states\", \"lon\": [-104.6670019, -97.0372], \"mode\": \"lines\", \"opacity\": 0.6105032822757112, \"type\": \"scattergeo\", \"uid\": \"be4b0273-fbc8-47e0-9a34-a1a52c63a2eb\"}, {\"lat\": [42.21205889, 32.89595056], \"line\": {\"color\": \"red\", \"width\": 1}, \"locationmode\": \"USA-states\", \"lon\": [-83.34883583, -97.0372], \"mode\": \"lines\", \"opacity\": 0.2844638949671772, \"type\": \"scattergeo\", \"uid\": \"27cc43a3-974d-47d6-9450-b50b70553ab7\"}, {\"lat\": [39.64256778, 32.89595056], \"line\": {\"color\": \"red\", \"width\": 1}, \"locationmode\": \"USA-states\", \"lon\": [-106.91769529999999, -97.0372], \"mode\": \"lines\", \"opacity\": 0.1487964989059081, \"type\": \"scattergeo\", \"uid\": \"29224475-0250-40fc-9db4-ef59298e1725\"}, {\"lat\": [40.69249722, 32.89595056], \"line\": {\"color\": \"red\", \"width\": 1}, \"locationmode\": \"USA-states\", \"lon\": [-74.16866056, -97.0372], \"mode\": \"lines\", \"opacity\": 0.33916849015317285, \"type\": \"scattergeo\", \"uid\": \"654687cf-1fbb-4330-b55c-44fbc66485ab\"}, {\"lat\": [36.77619444, 32.89595056], \"line\": {\"color\": \"red\", \"width\": 1}, \"locationmode\": \"USA-states\", \"lon\": [-119.7181389, -97.0372], \"mode\": \"lines\", \"opacity\": 0.12253829321663019, \"type\": \"scattergeo\", \"uid\": \"bb644bae-3ead-4ce6-8d12-7d87d32979a1\"}, {\"lat\": [26.07258333, 32.89595056], \"line\": {\"color\": \"red\", \"width\": 1}, \"locationmode\": \"USA-states\", \"lon\": [-80.15275, -97.0372], \"mode\": \"lines\", \"opacity\": 0.3676148796498906, \"type\": \"scattergeo\", \"uid\": \"6f12db07-2483-4ea5-bdd4-c4d6884738aa\"}, {\"lat\": [34.6404475, 32.89595056], \"line\": {\"color\": \"red\", \"width\": 1}, \"locationmode\": \"USA-states\", \"lon\": [-86.77310944, -97.0372], \"mode\": \"lines\", \"opacity\": 0.17286652078774617, \"type\": \"scattergeo\", \"uid\": \"4473b603-f252-44d5-bba2-93afb8d9b89a\"}, {\"lat\": [29.98047222, 32.89595056], \"line\": {\"color\": \"red\", \"width\": 1}, \"locationmode\": \"USA-states\", \"lon\": [-95.33972222, -97.0372], \"mode\": \"lines\", \"opacity\": 0.3544857768052516, \"type\": \"scattergeo\", \"uid\": \"9274fff8-e807-44a2-b1bf-02919f4c6f74\"}, {\"lat\": [33.94253611, 32.89595056], \"line\": {\"color\": \"red\", \"width\": 1}, \"locationmode\": \"USA-states\", \"lon\": [-118.40807439999999, -97.0372], \"mode\": \"lines\", \"opacity\": 1.0, \"type\": \"scattergeo\", \"uid\": \"f30276f0-3c93-4d0f-b0b4-e1c9df8377f7\"}, {\"lat\": [39.29760528, 32.89595056], \"line\": {\"color\": \"red\", \"width\": 1}, \"locationmode\": \"USA-states\", \"lon\": [-94.71390556, -97.0372], \"mode\": \"lines\", \"opacity\": 0.47702407002188185, \"type\": \"scattergeo\", \"uid\": \"334509a5-41df-4993-bf98-5aa4841f3412\"}, {\"lat\": [28.42888889, 32.89595056], \"line\": {\"color\": \"red\", \"width\": 1}, \"locationmode\": \"USA-states\", \"lon\": [-81.31602778, -97.0372], \"mode\": \"lines\", \"opacity\": 0.5470459518599562, \"type\": \"scattergeo\", \"uid\": \"adc9f444-8aa4-4c51-a942-17ef1eb68d49\"}, {\"lat\": [35.04241667, 32.89595056], \"line\": {\"color\": \"red\", \"width\": 1}, \"locationmode\": \"USA-states\", \"lon\": [-89.97666667, -97.0372], \"mode\": \"lines\", \"opacity\": 0.23413566739606126, \"type\": \"scattergeo\", \"uid\": \"e248388e-64f2-4703-ae6a-c1b101c2945c\"}, {\"lat\": [26.17583333, 32.89595056], \"line\": {\"color\": \"red\", \"width\": 1}, \"locationmode\": \"USA-states\", \"lon\": [-98.23861111, -97.0372], \"mode\": \"lines\", \"opacity\": 0.23413566739606126, \"type\": \"scattergeo\", \"uid\": \"e8a27723-7a21-484a-a6c4-f6512ea24703\"}, {\"lat\": [25.79325, 32.89595056], \"line\": {\"color\": \"red\", \"width\": 1}, \"locationmode\": \"USA-states\", \"lon\": [-80.29055556, -97.0372], \"mode\": \"lines\", \"opacity\": 0.612691466083151, \"type\": \"scattergeo\", \"uid\": \"5fa7b344-156c-4359-82c0-7dd60e572319\"}, {\"lat\": [44.88054694, 32.89595056], \"line\": {\"color\": \"red\", \"width\": 1}, \"locationmode\": \"USA-states\", \"lon\": [-93.2169225, -97.0372], \"mode\": \"lines\", \"opacity\": 0.35667396061269147, \"type\": \"scattergeo\", \"uid\": \"d10ab551-d0aa-4b1a-8e9a-3a6a7879fbc2\"}, {\"lat\": [38.50886722, 32.89595056], \"line\": {\"color\": \"red\", \"width\": 1}, \"locationmode\": \"USA-states\", \"lon\": [-107.89383329999998, -97.0372], \"mode\": \"lines\", \"opacity\": 0.0175054704595186, \"type\": \"scattergeo\", \"uid\": \"c8d3342d-a277-4fcd-925e-7f6e7943b0b8\"}, {\"lat\": [20.89864972, 32.89595056], \"line\": {\"color\": \"red\", \"width\": 1}, \"locationmode\": \"USA-states\", \"lon\": [-156.43045780000003, -97.0372], \"mode\": \"lines\", \"opacity\": 0.061269146608315096, \"type\": \"scattergeo\", \"uid\": \"827adc7c-0820-450f-be34-542d8cd0242a\"}, {\"lat\": [35.39308833, 32.89595056], \"line\": {\"color\": \"red\", \"width\": 1}, \"locationmode\": \"USA-states\", \"lon\": [-97.60073389, -97.0372], \"mode\": \"lines\", \"opacity\": 0.42669584245076586, \"type\": \"scattergeo\", \"uid\": \"25bf8c92-b4ea-45c8-bc22-01f5f4089489\"}, {\"lat\": [41.30251861, 32.89595056], \"line\": {\"color\": \"red\", \"width\": 1}, \"locationmode\": \"USA-states\", \"lon\": [-95.89417306, -97.0372], \"mode\": \"lines\", \"opacity\": 0.2975929978118162, \"type\": \"scattergeo\", \"uid\": \"c202a374-99f4-4513-8552-930f0f9327de\"}, {\"lat\": [41.979595, 32.89595056], \"line\": {\"color\": \"red\", \"width\": 1}, \"locationmode\": \"USA-states\", \"lon\": [-87.90446417, -97.0372], \"mode\": \"lines\", \"opacity\": 0.9026258205689278, \"type\": \"scattergeo\", \"uid\": \"2498c373-c52d-40d0-b899-ab2458fa34fa\"}, {\"lat\": [39.87195278, 32.89595056], \"line\": {\"color\": \"red\", \"width\": 1}, \"locationmode\": \"USA-states\", \"lon\": [-75.24114083, -97.0372], \"mode\": \"lines\", \"opacity\": 0.3522975929978118, \"type\": \"scattergeo\", \"uid\": \"276f8863-00e8-4dfd-91be-942310e9681d\"}, {\"lat\": [33.43416667, 32.89595056], \"line\": {\"color\": \"red\", \"width\": 1}, \"locationmode\": \"USA-states\", \"lon\": [-112.00805559999999, -97.0372], \"mode\": \"lines\", \"opacity\": 0.6017505470459519, \"type\": \"scattergeo\", \"uid\": \"16361c3b-c54c-4e17-b235-7e7e45388c8b\"}, {\"lat\": [37.50516667, 32.89595056], \"line\": {\"color\": \"red\", \"width\": 1}, \"locationmode\": \"USA-states\", \"lon\": [-77.31966667, -97.0372], \"mode\": \"lines\", \"opacity\": 0.18161925601750548, \"type\": \"scattergeo\", \"uid\": \"a374394d-a2df-42f9-a9c9-83e48c9bba66\"}, {\"lat\": [39.49857611, 32.89595056], \"line\": {\"color\": \"red\", \"width\": 1}, \"locationmode\": \"USA-states\", \"lon\": [-119.76806470000001, -97.0372], \"mode\": \"lines\", \"opacity\": 0.16411378555798686, \"type\": \"scattergeo\", \"uid\": \"d0cfe1d2-1b2b-407b-bd7d-7edbbedeb4d8\"}, {\"lat\": [32.73355611, 32.89595056], \"line\": {\"color\": \"red\", \"width\": 1}, \"locationmode\": \"USA-states\", \"lon\": [-117.1896567, -97.0372], \"mode\": \"lines\", \"opacity\": 0.5470459518599562, \"type\": \"scattergeo\", \"uid\": \"020f46ea-b840-49ec-a232-ff23e315d8c6\"}, {\"lat\": [29.53369444, 32.89595056], \"line\": {\"color\": \"red\", \"width\": 1}, \"locationmode\": \"USA-states\", \"lon\": [-98.46977778, -97.0372], \"mode\": \"lines\", \"opacity\": 0.9037199124726477, \"type\": \"scattergeo\", \"uid\": \"e97572ad-4a9f-4a2e-a586-cdc8e52a78dc\"}, {\"lat\": [38.17438889, 32.89595056], \"line\": {\"color\": \"red\", \"width\": 1}, \"locationmode\": \"USA-states\", \"lon\": [-85.736, -97.0372], \"mode\": \"lines\", \"opacity\": 0.17943107221006566, \"type\": \"scattergeo\", \"uid\": \"50de3ce7-0ef7-456f-9552-20868ecb2319\"}, {\"lat\": [37.61900194, 32.89595056], \"line\": {\"color\": \"red\", \"width\": 1}, \"locationmode\": \"USA-states\", \"lon\": [-122.3748433, -97.0372], \"mode\": \"lines\", \"opacity\": 0.5754923413566739, \"type\": \"scattergeo\", \"uid\": \"f27c3e13-6b41-4eb1-a00b-956fa065442f\"}, {\"lat\": [37.36186194, 32.89595056], \"line\": {\"color\": \"red\", \"width\": 1}, \"locationmode\": \"USA-states\", \"lon\": [-121.92900890000001, -97.0372], \"mode\": \"lines\", \"opacity\": 0.3479212253829322, \"type\": \"scattergeo\", \"uid\": \"ba689020-a7fb-4e6b-be36-36ca954be99a\"}, {\"lat\": [40.78838778, 32.89595056], \"line\": {\"color\": \"red\", \"width\": 1}, \"locationmode\": \"USA-states\", \"lon\": [-111.9777731, -97.0372], \"mode\": \"lines\", \"opacity\": 0.3063457330415755, \"type\": \"scattergeo\", \"uid\": \"8a1a4f10-e574-4f7e-8aea-244516889365\"}, {\"lat\": [38.74768694, 32.89595056], \"line\": {\"color\": \"red\", \"width\": 1}, \"locationmode\": \"USA-states\", \"lon\": [-90.35998972, -97.0372], \"mode\": \"lines\", \"opacity\": 0.5317286652078774, \"type\": \"scattergeo\", \"uid\": \"530ee8ce-09c3-431b-8d36-cd8a069dfc09\"}, {\"lat\": [36.28186944, 32.89595056], \"line\": {\"color\": \"red\", \"width\": 1}, \"locationmode\": \"USA-states\", \"lon\": [-94.30681111, -97.0372], \"mode\": \"lines\", \"opacity\": 0.05470459518599562, \"type\": \"scattergeo\", \"uid\": \"b3af7b23-065c-4dd1-92b5-ebb121b72bf6\"}, {\"lat\": [25.79325, 42.21205889], \"line\": {\"color\": \"red\", \"width\": 1}, \"locationmode\": \"USA-states\", \"lon\": [-80.29055556, -83.34883583], \"mode\": \"lines\", \"opacity\": 0.12253829321663019, \"type\": \"scattergeo\", \"uid\": \"73b614d5-0b37-4dee-b1de-d039dd2c99fe\"}, {\"lat\": [40.77724306, 39.64256778], \"line\": {\"color\": \"red\", \"width\": 1}, \"locationmode\": \"USA-states\", \"lon\": [-73.87260917, -106.91769529999999], \"mode\": \"lines\", \"opacity\": 0.0087527352297593, \"type\": \"scattergeo\", \"uid\": \"f460f172-6df1-45aa-b12d-0bed3d5ca7e1\"}, {\"lat\": [41.979595, 39.64256778], \"line\": {\"color\": \"red\", \"width\": 1}, \"locationmode\": \"USA-states\", \"lon\": [-87.90446417, -106.91769529999999], \"mode\": \"lines\", \"opacity\": 0.0700218818380744, \"type\": \"scattergeo\", \"uid\": \"91a42a69-3f18-4cab-a80f-e30a2dcafdbb\"}, {\"lat\": [32.89595056, 31.80666667], \"line\": {\"color\": \"red\", \"width\": 1}, \"locationmode\": \"USA-states\", \"lon\": [-97.0372, -106.37780559999999], \"mode\": \"lines\", \"opacity\": 0.474835886214442, \"type\": \"scattergeo\", \"uid\": \"6f874163-4bc6-46cb-a71c-85a0442a34f0\"}, {\"lat\": [33.94253611, 40.69249722], \"line\": {\"color\": \"red\", \"width\": 1}, \"locationmode\": \"USA-states\", \"lon\": [-118.40807439999999, -74.16866056], \"mode\": \"lines\", \"opacity\": 0.05908096280087528, \"type\": \"scattergeo\", \"uid\": \"8bacdc86-7923-4649-98f1-1fce9076e538\"}, {\"lat\": [25.79325, 40.69249722], \"line\": {\"color\": \"red\", \"width\": 1}, \"locationmode\": \"USA-states\", \"lon\": [-80.29055556, -74.16866056], \"mode\": \"lines\", \"opacity\": 0.1838074398249453, \"type\": \"scattergeo\", \"uid\": \"bda51b15-eab4-4e2d-bc5c-adf2b715ba0c\"}, {\"lat\": [40.63975111, 26.07258333], \"line\": {\"color\": \"red\", \"width\": 1}, \"locationmode\": \"USA-states\", \"lon\": [-73.77892556, -80.15275], \"mode\": \"lines\", \"opacity\": 0.12253829321663019, \"type\": \"scattergeo\", \"uid\": \"1534431b-5eda-4b93-9388-3f16ae7ce1b4\"}, {\"lat\": [32.89595056, 40.48118028], \"line\": {\"color\": \"red\", \"width\": 1}, \"locationmode\": \"USA-states\", \"lon\": [-97.0372, -107.21765970000001], \"mode\": \"lines\", \"opacity\": 0.0700218818380744, \"type\": \"scattergeo\", \"uid\": \"c0dfd9dd-0ca0-4ce2-b5a8-3e11efc209d3\"}, {\"lat\": [32.89595056, 21.31869111], \"line\": {\"color\": \"red\", \"width\": 1}, \"locationmode\": \"USA-states\", \"lon\": [-97.0372, -157.92240719999998], \"mode\": \"lines\", \"opacity\": 0.12253829321663019, \"type\": \"scattergeo\", \"uid\": \"52318698-3603-4327-b407-b85c13c4bcd2\"}, {\"lat\": [33.94253611, 21.31869111], \"line\": {\"color\": \"red\", \"width\": 1}, \"locationmode\": \"USA-states\", \"lon\": [-118.40807439999999, -157.92240719999998], \"mode\": \"lines\", \"opacity\": 0.2363238512035011, \"type\": \"scattergeo\", \"uid\": \"f1afcf13-057d-4f5e-b2da-c0e2e5e9ec1a\"}, {\"lat\": [32.89595056, 38.94453194], \"line\": {\"color\": \"red\", \"width\": 1}, \"locationmode\": \"USA-states\", \"lon\": [-97.0372, -77.45580972], \"mode\": \"lines\", \"opacity\": 0.33698030634573306, \"type\": \"scattergeo\", \"uid\": \"58d5553e-4808-46a9-a06d-53e27a00e92c\"}, {\"lat\": [33.94253611, 38.94453194], \"line\": {\"color\": \"red\", \"width\": 1}, \"locationmode\": \"USA-states\", \"lon\": [-118.40807439999999, -77.45580972], \"mode\": \"lines\", \"opacity\": 0.18161925601750548, \"type\": \"scattergeo\", \"uid\": \"b4f0c8ae-41ea-4de7-8f1a-950c2e26ef4e\"}, {\"lat\": [25.79325, 38.94453194], \"line\": {\"color\": \"red\", \"width\": 1}, \"locationmode\": \"USA-states\", \"lon\": [-80.29055556, -77.45580972], \"mode\": \"lines\", \"opacity\": 0.12253829321663019, \"type\": \"scattergeo\", \"uid\": \"09488f6f-d33d-450e-bfe1-dd5e30dd50ab\"}, {\"lat\": [25.79325, 29.98047222], \"line\": {\"color\": \"red\", \"width\": 1}, \"locationmode\": \"USA-states\", \"lon\": [-80.29055556, -95.33972222], \"mode\": \"lines\", \"opacity\": 0.1838074398249453, \"type\": \"scattergeo\", \"uid\": \"7eb4284d-580c-4816-9405-f3334c8ef6f4\"}, {\"lat\": [32.89595056, 37.64995889], \"line\": {\"color\": \"red\", \"width\": 1}, \"locationmode\": \"USA-states\", \"lon\": [-97.0372, -97.43304583], \"mode\": \"lines\", \"opacity\": 0.23413566739606126, \"type\": \"scattergeo\", \"uid\": \"40f33b93-7812-4cba-acbe-742ee56c6f4f\"}, {\"lat\": [32.89595056, 39.71732917], \"line\": {\"color\": \"red\", \"width\": 1}, \"locationmode\": \"USA-states\", \"lon\": [-97.0372, -86.29438417], \"mode\": \"lines\", \"opacity\": 0.3041575492341357, \"type\": \"scattergeo\", \"uid\": \"1395355c-374f-4e66-a4cf-afa216699526\"}, {\"lat\": [32.89595056, 43.60732417], \"line\": {\"color\": \"red\", \"width\": 1}, \"locationmode\": \"USA-states\", \"lon\": [-97.0372, -110.7377389], \"mode\": \"lines\", \"opacity\": 0.0262582056892779, \"type\": \"scattergeo\", \"uid\": \"31e38a96-c7b5-4c92-9e94-7482f7e7c001\"}, {\"lat\": [32.89595056, 30.49405556], \"line\": {\"color\": \"red\", \"width\": 1}, \"locationmode\": \"USA-states\", \"lon\": [-97.0372, -81.68786111], \"mode\": \"lines\", \"opacity\": 0.2363238512035011, \"type\": \"scattergeo\", \"uid\": \"f3e45ef4-ddce-473e-a372-a32b76962893\"}, {\"lat\": [30.19453278, 40.63975111], \"line\": {\"color\": \"red\", \"width\": 1}, \"locationmode\": \"USA-states\", \"lon\": [-97.66987194, -73.77892556], \"mode\": \"lines\", \"opacity\": 0.061269146608315096, \"type\": \"scattergeo\", \"uid\": \"a1ea162f-72a1-47c5-99fc-a7621c7ba5bc\"}, {\"lat\": [32.89595056, 40.63975111], \"line\": {\"color\": \"red\", \"width\": 1}, \"locationmode\": \"USA-states\", \"lon\": [-97.0372, -73.77892556], \"mode\": \"lines\", \"opacity\": 0.061269146608315096, \"type\": \"scattergeo\", \"uid\": \"8e1ff7f6-71cb-44f4-9026-cf9bc7f60d3d\"}, {\"lat\": [39.64256778, 40.63975111], \"line\": {\"color\": \"red\", \"width\": 1}, \"locationmode\": \"USA-states\", \"lon\": [-106.91769529999999, -73.77892556], \"mode\": \"lines\", \"opacity\": 0.061269146608315096, \"type\": \"scattergeo\", \"uid\": \"e57800f3-0d54-49c2-a4aa-253ddb54eddb\"}, {\"lat\": [28.42888889, 40.63975111], \"line\": {\"color\": \"red\", \"width\": 1}, \"locationmode\": \"USA-states\", \"lon\": [-81.31602778, -73.77892556], \"mode\": \"lines\", \"opacity\": 0.24507658643326038, \"type\": \"scattergeo\", \"uid\": \"5d2b8037-c5ca-4a84-a769-ce83f5358bc0\"}, {\"lat\": [25.79325, 40.63975111], \"line\": {\"color\": \"red\", \"width\": 1}, \"locationmode\": \"USA-states\", \"lon\": [-80.29055556, -73.77892556], \"mode\": \"lines\", \"opacity\": 0.4288840262582057, \"type\": \"scattergeo\", \"uid\": \"4597959b-5297-4f5d-9b59-5757185e3860\"}, {\"lat\": [47.44898194, 40.63975111], \"line\": {\"color\": \"red\", \"width\": 1}, \"locationmode\": \"USA-states\", \"lon\": [-122.30931310000001, -73.77892556], \"mode\": \"lines\", \"opacity\": 0.061269146608315096, \"type\": \"scattergeo\", \"uid\": \"58a8814f-2e8f-43f2-a948-64bd2fc76f2b\"}, {\"lat\": [37.61900194, 40.63975111], \"line\": {\"color\": \"red\", \"width\": 1}, \"locationmode\": \"USA-states\", \"lon\": [-122.3748433, -73.77892556], \"mode\": \"lines\", \"opacity\": 0.3041575492341357, \"type\": \"scattergeo\", \"uid\": \"ed114ac0-d83c-4f49-8249-e4bc057c4139\"}, {\"lat\": [18.33730556, 40.63975111], \"line\": {\"color\": \"red\", \"width\": 1}, \"locationmode\": \"USA-states\", \"lon\": [-64.97336111, -73.77892556], \"mode\": \"lines\", \"opacity\": 0.061269146608315096, \"type\": \"scattergeo\", \"uid\": \"7144c53e-a725-4b02-958b-90ced3984599\"}, {\"lat\": [27.97547222, 40.63975111], \"line\": {\"color\": \"red\", \"width\": 1}, \"locationmode\": \"USA-states\", \"lon\": [-82.53325, -73.77892556], \"mode\": \"lines\", \"opacity\": 0.061269146608315096, \"type\": \"scattergeo\", \"uid\": \"3d634651-0209-4d16-b499-408f63d1511d\"}, {\"lat\": [32.89595056, 36.08036111], \"line\": {\"color\": \"red\", \"width\": 1}, \"locationmode\": \"USA-states\", \"lon\": [-97.0372, -115.15233329999998], \"mode\": \"lines\", \"opacity\": 0.6225382932166302, \"type\": \"scattergeo\", \"uid\": \"c7d672be-7cc2-4176-89d5-26dc1f32db43\"}, {\"lat\": [40.63975111, 36.08036111], \"line\": {\"color\": \"red\", \"width\": 1}, \"locationmode\": \"USA-states\", \"lon\": [-73.77892556, -115.15233329999998], \"mode\": \"lines\", \"opacity\": 0.12253829321663019, \"type\": \"scattergeo\", \"uid\": \"f90481a9-2baa-4411-a30f-3f85a17e3ef6\"}, {\"lat\": [33.94253611, 36.08036111], \"line\": {\"color\": \"red\", \"width\": 1}, \"locationmode\": \"USA-states\", \"lon\": [-118.40807439999999, -115.15233329999998], \"mode\": \"lines\", \"opacity\": 0.24288840262582057, \"type\": \"scattergeo\", \"uid\": \"8dd20285-ab3c-452c-b302-95e92a1e8b52\"}, {\"lat\": [41.979595, 36.08036111], \"line\": {\"color\": \"red\", \"width\": 1}, \"locationmode\": \"USA-states\", \"lon\": [-87.90446417, -115.15233329999998], \"mode\": \"lines\", \"opacity\": 0.3063457330415755, \"type\": \"scattergeo\", \"uid\": \"3a70adbf-3a05-4cd7-ae58-d938d52b4645\"}, {\"lat\": [30.19453278, 33.94253611], \"line\": {\"color\": \"red\", \"width\": 1}, \"locationmode\": \"USA-states\", \"lon\": [-97.66987194, -118.40807439999999], \"mode\": \"lines\", \"opacity\": 0.1772428884026258, \"type\": \"scattergeo\", \"uid\": \"edffaba4-98a5-400b-bf99-af8c1bce4730\"}, {\"lat\": [36.12447667, 33.94253611], \"line\": {\"color\": \"red\", \"width\": 1}, \"locationmode\": \"USA-states\", \"lon\": [-86.67818222, -118.40807439999999], \"mode\": \"lines\", \"opacity\": 0.061269146608315096, \"type\": \"scattergeo\", \"uid\": \"60db806f-f4db-4a87-87ca-6cda187c71c5\"}, {\"lat\": [42.3643475, 33.94253611], \"line\": {\"color\": \"red\", \"width\": 1}, \"locationmode\": \"USA-states\", \"lon\": [-71.00517917, -118.40807439999999], \"mode\": \"lines\", \"opacity\": 0.1838074398249453, \"type\": \"scattergeo\", \"uid\": \"fc5b64d9-1df0-4f93-a50d-9629204deae5\"}, {\"lat\": [39.64256778, 33.94253611], \"line\": {\"color\": \"red\", \"width\": 1}, \"locationmode\": \"USA-states\", \"lon\": [-106.91769529999999, -118.40807439999999], \"mode\": \"lines\", \"opacity\": 0.061269146608315096, \"type\": \"scattergeo\", \"uid\": \"e1caf681-68de-4159-9119-5f2a08e18816\"}, {\"lat\": [40.63975111, 33.94253611], \"line\": {\"color\": \"red\", \"width\": 1}, \"locationmode\": \"USA-states\", \"lon\": [-73.77892556, -118.40807439999999], \"mode\": \"lines\", \"opacity\": 0.5995623632385121, \"type\": \"scattergeo\", \"uid\": \"f7246f30-a708-4e30-9119-76e603572243\"}, {\"lat\": [19.73876583, 33.94253611], \"line\": {\"color\": \"red\", \"width\": 1}, \"locationmode\": \"USA-states\", \"lon\": [-156.0456314, -118.40807439999999], \"mode\": \"lines\", \"opacity\": 0.061269146608315096, \"type\": \"scattergeo\", \"uid\": \"3f85af52-e921-40ca-aa07-f1cd17ca0f5c\"}, {\"lat\": [20.89864972, 33.94253611], \"line\": {\"color\": \"red\", \"width\": 1}, \"locationmode\": \"USA-states\", \"lon\": [-156.43045780000003, -118.40807439999999], \"mode\": \"lines\", \"opacity\": 0.12253829321663019, \"type\": \"scattergeo\", \"uid\": \"9eac2c2d-4d10-4698-a851-a075cba45baa\"}, {\"lat\": [41.979595, 33.94253611], \"line\": {\"color\": \"red\", \"width\": 1}, \"locationmode\": \"USA-states\", \"lon\": [-87.90446417, -118.40807439999999], \"mode\": \"lines\", \"opacity\": 0.5426695842450766, \"type\": \"scattergeo\", \"uid\": \"32b47ee0-68d6-4feb-87b0-1f90121d6597\"}, {\"lat\": [38.74768694, 33.94253611], \"line\": {\"color\": \"red\", \"width\": 1}, \"locationmode\": \"USA-states\", \"lon\": [-90.35998972, -118.40807439999999], \"mode\": \"lines\", \"opacity\": 0.18161925601750548, \"type\": \"scattergeo\", \"uid\": \"e775b57e-0bd8-4567-b32c-fd7d29c3df69\"}, {\"lat\": [36.12447667, 40.77724306], \"line\": {\"color\": \"red\", \"width\": 1}, \"locationmode\": \"USA-states\", \"lon\": [-86.67818222, -73.87260917], \"mode\": \"lines\", \"opacity\": 0.11159737417943107, \"type\": \"scattergeo\", \"uid\": \"8ec76d44-33ba-498f-a277-93409e508f7b\"}, {\"lat\": [32.89595056, 40.77724306], \"line\": {\"color\": \"red\", \"width\": 1}, \"locationmode\": \"USA-states\", \"lon\": [-97.0372, -73.87260917], \"mode\": \"lines\", \"opacity\": 0.849015317286652, \"type\": \"scattergeo\", \"uid\": \"cc429a8a-0cde-42d1-9bad-7a57f3949516\"}, {\"lat\": [38.74768694, 40.77724306], \"line\": {\"color\": \"red\", \"width\": 1}, \"locationmode\": \"USA-states\", \"lon\": [-90.35998972, -73.87260917], \"mode\": \"lines\", \"opacity\": 0.22538293216630198, \"type\": \"scattergeo\", \"uid\": \"3efe2206-75ac-4da9-8603-7542b8bef622\"}, {\"lat\": [33.94253611, 21.97598306], \"line\": {\"color\": \"red\", \"width\": 1}, \"locationmode\": \"USA-states\", \"lon\": [-118.40807439999999, -159.3389581], \"mode\": \"lines\", \"opacity\": 0.061269146608315096, \"type\": \"scattergeo\", \"uid\": \"8f9beec7-dc53-4048-a5ec-f08cd22818d1\"}, {\"lat\": [33.94253611, 28.42888889], \"line\": {\"color\": \"red\", \"width\": 1}, \"locationmode\": \"USA-states\", \"lon\": [-118.40807439999999, -81.31602778], \"mode\": \"lines\", \"opacity\": 0.061269146608315096, \"type\": \"scattergeo\", \"uid\": \"a0edd186-e094-404d-b050-eb98a72f131a\"}, {\"lat\": [25.79325, 28.42888889], \"line\": {\"color\": \"red\", \"width\": 1}, \"locationmode\": \"USA-states\", \"lon\": [-80.29055556, -81.31602778], \"mode\": \"lines\", \"opacity\": 0.49015317286652077, \"type\": \"scattergeo\", \"uid\": \"227c0ba8-3190-4efe-8603-74451de9abe9\"}, {\"lat\": [33.64044444, 25.79325], \"line\": {\"color\": \"red\", \"width\": 1}, \"locationmode\": \"USA-states\", \"lon\": [-84.42694444, -80.29055556], \"mode\": \"lines\", \"opacity\": 0.24507658643326038, \"type\": \"scattergeo\", \"uid\": \"a0560fc7-349c-4eb0-8f6f-caf4d7457847\"}, {\"lat\": [41.93887417, 25.79325], \"line\": {\"color\": \"red\", \"width\": 1}, \"locationmode\": \"USA-states\", \"lon\": [-72.68322833, -80.29055556], \"mode\": \"lines\", \"opacity\": 0.12253829321663019, \"type\": \"scattergeo\", \"uid\": \"6f64bacb-abac-47cb-b893-d6d63ea2c808\"}, {\"lat\": [38.85208333, 25.79325], \"line\": {\"color\": \"red\", \"width\": 1}, \"locationmode\": \"USA-states\", \"lon\": [-77.03772222, -80.29055556], \"mode\": \"lines\", \"opacity\": 0.5514223194748359, \"type\": \"scattergeo\", \"uid\": \"f0c43f64-5182-49ef-8b20-e1a7b6e3eecf\"}, {\"lat\": [39.64256778, 25.79325], \"line\": {\"color\": \"red\", \"width\": 1}, \"locationmode\": \"USA-states\", \"lon\": [-106.91769529999999, -80.29055556], \"mode\": \"lines\", \"opacity\": 0.0525164113785558, \"type\": \"scattergeo\", \"uid\": \"26b7b18f-9802-471c-99d7-5fa6d8244acd\"}, {\"lat\": [36.08036111, 25.79325], \"line\": {\"color\": \"red\", \"width\": 1}, \"locationmode\": \"USA-states\", \"lon\": [-115.15233329999998, -80.29055556], \"mode\": \"lines\", \"opacity\": 0.1838074398249453, \"type\": \"scattergeo\", \"uid\": \"c6bc4b1c-ac64-4efb-8a8b-384294c50162\"}, {\"lat\": [33.94253611, 25.79325], \"line\": {\"color\": \"red\", \"width\": 1}, \"locationmode\": \"USA-states\", \"lon\": [-118.40807439999999, -80.29055556], \"mode\": \"lines\", \"opacity\": 0.4288840262582057, \"type\": \"scattergeo\", \"uid\": \"142204db-f945-4f1a-a62a-b75338f0dd27\"}, {\"lat\": [40.77724306, 25.79325], \"line\": {\"color\": \"red\", \"width\": 1}, \"locationmode\": \"USA-states\", \"lon\": [-73.87260917, -80.29055556], \"mode\": \"lines\", \"opacity\": 0.6728665207877462, \"type\": \"scattergeo\", \"uid\": \"58728ba5-4ba0-4b05-8a73-4dfc891f66cd\"}, {\"lat\": [44.88054694, 25.79325], \"line\": {\"color\": \"red\", \"width\": 1}, \"locationmode\": \"USA-states\", \"lon\": [-93.2169225, -80.29055556], \"mode\": \"lines\", \"opacity\": 0.061269146608315096, \"type\": \"scattergeo\", \"uid\": \"2afa53ed-552f-475b-8a19-307b4bc9aa26\"}, {\"lat\": [41.979595, 25.79325], \"line\": {\"color\": \"red\", \"width\": 1}, \"locationmode\": \"USA-states\", \"lon\": [-87.90446417, -80.29055556], \"mode\": \"lines\", \"opacity\": 0.5525164113785558, \"type\": \"scattergeo\", \"uid\": \"e3d1386c-8401-4ff4-8fe7-c26c98a9fa8f\"}, {\"lat\": [39.87195278, 25.79325], \"line\": {\"color\": \"red\", \"width\": 1}, \"locationmode\": \"USA-states\", \"lon\": [-75.24114083, -80.29055556], \"mode\": \"lines\", \"opacity\": 0.1838074398249453, \"type\": \"scattergeo\", \"uid\": \"68736170-44ca-4150-8c08-1a7e870264bd\"}, {\"lat\": [33.43416667, 25.79325], \"line\": {\"color\": \"red\", \"width\": 1}, \"locationmode\": \"USA-states\", \"lon\": [-112.00805559999999, -80.29055556], \"mode\": \"lines\", \"opacity\": 0.061269146608315096, \"type\": \"scattergeo\", \"uid\": \"1ec2f4b4-3f14-478b-a827-7021f51a6ff0\"}, {\"lat\": [37.61900194, 25.79325], \"line\": {\"color\": \"red\", \"width\": 1}, \"locationmode\": \"USA-states\", \"lon\": [-122.3748433, -80.29055556], \"mode\": \"lines\", \"opacity\": 0.1838074398249453, \"type\": \"scattergeo\", \"uid\": \"bfb7f081-6b13-4307-a107-72eba3bff384\"}, {\"lat\": [18.43941667, 25.79325], \"line\": {\"color\": \"red\", \"width\": 1}, \"locationmode\": \"USA-states\", \"lon\": [-66.00183333, -80.29055556], \"mode\": \"lines\", \"opacity\": 0.49015317286652077, \"type\": \"scattergeo\", \"uid\": \"d654f5f0-e6c6-4a10-b142-65154e88d6d1\"}, {\"lat\": [36.19837222, 25.79325], \"line\": {\"color\": \"red\", \"width\": 1}, \"locationmode\": \"USA-states\", \"lon\": [-95.88824167, -80.29055556], \"mode\": \"lines\", \"opacity\": 0.00437636761487965, \"type\": \"scattergeo\", \"uid\": \"00530a91-e2a1-4e55-b975-8230d61c50b3\"}, {\"lat\": [41.979595, 44.88054694], \"line\": {\"color\": \"red\", \"width\": 1}, \"locationmode\": \"USA-states\", \"lon\": [-87.90446417, -93.2169225], \"mode\": \"lines\", \"opacity\": 0.175054704595186, \"type\": \"scattergeo\", \"uid\": \"8cb7ceb1-4b05-4452-8963-77c7033b3ec1\"}, {\"lat\": [32.89595056, 29.99338889], \"line\": {\"color\": \"red\", \"width\": 1}, \"locationmode\": \"USA-states\", \"lon\": [-97.0372, -90.25802778], \"mode\": \"lines\", \"opacity\": 0.3676148796498906, \"type\": \"scattergeo\", \"uid\": \"d12ac745-3b7b-4c5a-a533-036131e27f53\"}, {\"lat\": [25.79325, 29.99338889], \"line\": {\"color\": \"red\", \"width\": 1}, \"locationmode\": \"USA-states\", \"lon\": [-80.29055556, -90.25802778], \"mode\": \"lines\", \"opacity\": 0.1838074398249453, \"type\": \"scattergeo\", \"uid\": \"fa5aaade-a9f9-470b-9cd5-ceb422817b85\"}, {\"lat\": [41.979595, 29.99338889], \"line\": {\"color\": \"red\", \"width\": 1}, \"locationmode\": \"USA-states\", \"lon\": [-87.90446417, -90.25802778], \"mode\": \"lines\", \"opacity\": 0.16301969365426697, \"type\": \"scattergeo\", \"uid\": \"4b0f330f-ad79-4fad-8b9a-dae4da6a0ae9\"}, {\"lat\": [32.89595056, 34.056], \"line\": {\"color\": \"red\", \"width\": 1}, \"locationmode\": \"USA-states\", \"lon\": [-97.0372, -117.60119440000001], \"mode\": \"lines\", \"opacity\": 0.24288840262582057, \"type\": \"scattergeo\", \"uid\": \"3b650a0d-5a52-433d-b3c3-80b0e226c96d\"}, {\"lat\": [38.85208333, 41.979595], \"line\": {\"color\": \"red\", \"width\": 1}, \"locationmode\": \"USA-states\", \"lon\": [-77.03772222, -87.90446417], \"mode\": \"lines\", \"opacity\": 0.3544857768052516, \"type\": \"scattergeo\", \"uid\": \"6d16b6f6-9638-493d-8ee7-83deb360e332\"}, {\"lat\": [40.69249722, 41.979595], \"line\": {\"color\": \"red\", \"width\": 1}, \"locationmode\": \"USA-states\", \"lon\": [-74.16866056, -87.90446417], \"mode\": \"lines\", \"opacity\": 0.1838074398249453, \"type\": \"scattergeo\", \"uid\": \"9206dd3d-097f-4443-9bb1-ce6b3bba79ae\"}, {\"lat\": [26.07258333, 41.979595], \"line\": {\"color\": \"red\", \"width\": 1}, \"locationmode\": \"USA-states\", \"lon\": [-80.15275, -87.90446417], \"mode\": \"lines\", \"opacity\": 0.1838074398249453, \"type\": \"scattergeo\", \"uid\": \"e3068e97-c155-45d2-8ab9-5e55d98797e4\"}, {\"lat\": [40.48118028, 41.979595], \"line\": {\"color\": \"red\", \"width\": 1}, \"locationmode\": \"USA-states\", \"lon\": [-107.21765970000001, -87.90446417], \"mode\": \"lines\", \"opacity\": 0.0525164113785558, \"type\": \"scattergeo\", \"uid\": \"dd0e630b-893f-42fc-be23-93349657c35d\"}, {\"lat\": [21.31869111, 41.979595], \"line\": {\"color\": \"red\", \"width\": 1}, \"locationmode\": \"USA-states\", \"lon\": [-157.92240719999998, -87.90446417], \"mode\": \"lines\", \"opacity\": 0.05032822757111598, \"type\": \"scattergeo\", \"uid\": \"657802aa-2b92-4e05-8d6e-c541b7102375\"}, {\"lat\": [43.60732417, 41.979595], \"line\": {\"color\": \"red\", \"width\": 1}, \"locationmode\": \"USA-states\", \"lon\": [-110.7377389, -87.90446417], \"mode\": \"lines\", \"opacity\": 0.061269146608315096, \"type\": \"scattergeo\", \"uid\": \"6b92dfab-20b5-4966-a5cf-273cbd5f42b0\"}, {\"lat\": [40.63975111, 41.979595], \"line\": {\"color\": \"red\", \"width\": 1}, \"locationmode\": \"USA-states\", \"lon\": [-73.77892556, -87.90446417], \"mode\": \"lines\", \"opacity\": 0.061269146608315096, \"type\": \"scattergeo\", \"uid\": \"83f0642e-f230-488c-b490-60634da5c6aa\"}, {\"lat\": [40.77724306, 41.979595], \"line\": {\"color\": \"red\", \"width\": 1}, \"locationmode\": \"USA-states\", \"lon\": [-73.87260917, -87.90446417], \"mode\": \"lines\", \"opacity\": 0.9409190371991247, \"type\": \"scattergeo\", \"uid\": \"662fe7f9-4f55-4218-92ea-1e562bd1fc85\"}, {\"lat\": [39.29760528, 41.979595], \"line\": {\"color\": \"red\", \"width\": 1}, \"locationmode\": \"USA-states\", \"lon\": [-94.71390556, -87.90446417], \"mode\": \"lines\", \"opacity\": 0.23413566739606126, \"type\": \"scattergeo\", \"uid\": \"708c32d6-ce32-43f8-b904-6c915f308158\"}, {\"lat\": [28.42888889, 41.979595], \"line\": {\"color\": \"red\", \"width\": 1}, \"locationmode\": \"USA-states\", \"lon\": [-81.31602778, -87.90446417], \"mode\": \"lines\", \"opacity\": 0.24507658643326038, \"type\": \"scattergeo\", \"uid\": \"1e52b3c4-6cdb-46e1-a197-de274d8b9f01\"}, {\"lat\": [35.87763889, 41.979595], \"line\": {\"color\": \"red\", \"width\": 1}, \"locationmode\": \"USA-states\", \"lon\": [-78.78747222, -87.90446417], \"mode\": \"lines\", \"opacity\": 0.17067833698030635, \"type\": \"scattergeo\", \"uid\": \"031b3751-7d5f-4928-8181-018641072188\"}, {\"lat\": [39.49857611, 41.979595], \"line\": {\"color\": \"red\", \"width\": 1}, \"locationmode\": \"USA-states\", \"lon\": [-119.76806470000001, -87.90446417], \"mode\": \"lines\", \"opacity\": 0.061269146608315096, \"type\": \"scattergeo\", \"uid\": \"16f85ab9-56af-4d41-8637-9a9b26bba790\"}, {\"lat\": [32.73355611, 41.979595], \"line\": {\"color\": \"red\", \"width\": 1}, \"locationmode\": \"USA-states\", \"lon\": [-117.1896567, -87.90446417], \"mode\": \"lines\", \"opacity\": 0.24507658643326038, \"type\": \"scattergeo\", \"uid\": \"fd9e8702-3cdb-4475-acff-591b449b500b\"}, {\"lat\": [29.53369444, 41.979595], \"line\": {\"color\": \"red\", \"width\": 1}, \"locationmode\": \"USA-states\", \"lon\": [-98.46977778, -87.90446417], \"mode\": \"lines\", \"opacity\": 0.12253829321663019, \"type\": \"scattergeo\", \"uid\": \"7655474e-4c2b-48d2-b34b-05d24b14ff4a\"}, {\"lat\": [37.36186194, 41.979595], \"line\": {\"color\": \"red\", \"width\": 1}, \"locationmode\": \"USA-states\", \"lon\": [-121.92900890000001, -87.90446417], \"mode\": \"lines\", \"opacity\": 0.12253829321663019, \"type\": \"scattergeo\", \"uid\": \"922a40df-b582-4302-b01d-b092a3f6ef47\"}, {\"lat\": [18.43941667, 41.979595], \"line\": {\"color\": \"red\", \"width\": 1}, \"locationmode\": \"USA-states\", \"lon\": [-66.00183333, -87.90446417], \"mode\": \"lines\", \"opacity\": 0.12253829321663019, \"type\": \"scattergeo\", \"uid\": \"9c6d4c67-aefc-4e29-a878-1861bca69be2\"}, {\"lat\": [38.74768694, 41.979595], \"line\": {\"color\": \"red\", \"width\": 1}, \"locationmode\": \"USA-states\", \"lon\": [-90.35998972, -87.90446417], \"mode\": \"lines\", \"opacity\": 0.5284463894967177, \"type\": \"scattergeo\", \"uid\": \"fa7ea5e1-269a-4a03-a482-fa9a5ec02c49\"}, {\"lat\": [36.19837222, 41.979595], \"line\": {\"color\": \"red\", \"width\": 1}, \"locationmode\": \"USA-states\", \"lon\": [-95.88824167, -87.90446417], \"mode\": \"lines\", \"opacity\": 0.061269146608315096, \"type\": \"scattergeo\", \"uid\": \"148b942a-f670-4bba-b958-1badccb73a34\"}, {\"lat\": [32.11608333, 41.979595], \"line\": {\"color\": \"red\", \"width\": 1}, \"locationmode\": \"USA-states\", \"lon\": [-110.94102779999999, -87.90446417], \"mode\": \"lines\", \"opacity\": 0.12253829321663019, \"type\": \"scattergeo\", \"uid\": \"d5ab3fb1-d651-4f61-b656-d624aa186ac3\"}, {\"lat\": [32.89595056, 36.89461111], \"line\": {\"color\": \"red\", \"width\": 1}, \"locationmode\": \"USA-states\", \"lon\": [-97.0372, -76.20122222], \"mode\": \"lines\", \"opacity\": 0.12253829321663019, \"type\": \"scattergeo\", \"uid\": \"ac6f15db-715c-42cb-aee2-80c1c3afe131\"}, {\"lat\": [32.89595056, 26.68316194], \"line\": {\"color\": \"red\", \"width\": 1}, \"locationmode\": \"USA-states\", \"lon\": [-97.0372, -80.09559417], \"mode\": \"lines\", \"opacity\": 0.12253829321663019, \"type\": \"scattergeo\", \"uid\": \"12e715bd-927a-44c6-ba58-eef0b28fb85b\"}, {\"lat\": [41.979595, 26.68316194], \"line\": {\"color\": \"red\", \"width\": 1}, \"locationmode\": \"USA-states\", \"lon\": [-87.90446417, -80.09559417], \"mode\": \"lines\", \"opacity\": 0.16411378555798686, \"type\": \"scattergeo\", \"uid\": \"04819ccd-bb53-4c09-83a7-ad5e59a943c3\"}, {\"lat\": [32.89595056, 45.58872222], \"line\": {\"color\": \"red\", \"width\": 1}, \"locationmode\": \"USA-states\", \"lon\": [-97.0372, -122.5975], \"mode\": \"lines\", \"opacity\": 0.24507658643326038, \"type\": \"scattergeo\", \"uid\": \"dc59b0c1-b47c-4064-81e7-951f29420128\"}, {\"lat\": [41.979595, 39.87195278], \"line\": {\"color\": \"red\", \"width\": 1}, \"locationmode\": \"USA-states\", \"lon\": [-87.90446417, -75.24114083], \"mode\": \"lines\", \"opacity\": 0.12035010940919037, \"type\": \"scattergeo\", \"uid\": \"eefeee01-1b97-4ad7-ad82-fc3d00680723\"}, {\"lat\": [18.43941667, 39.87195278], \"line\": {\"color\": \"red\", \"width\": 1}, \"locationmode\": \"USA-states\", \"lon\": [-66.00183333, -75.24114083], \"mode\": \"lines\", \"opacity\": 0.061269146608315096, \"type\": \"scattergeo\", \"uid\": \"0c4ab852-3398-4c78-99ff-e10a9e9da13f\"}, {\"lat\": [41.979595, 33.43416667], \"line\": {\"color\": \"red\", \"width\": 1}, \"locationmode\": \"USA-states\", \"lon\": [-87.90446417, -112.00805559999999], \"mode\": \"lines\", \"opacity\": 0.3063457330415755, \"type\": \"scattergeo\", \"uid\": \"c327defe-5230-4927-a58b-289797471ca6\"}, {\"lat\": [32.89595056, 40.49146583], \"line\": {\"color\": \"red\", \"width\": 1}, \"locationmode\": \"USA-states\", \"lon\": [-97.0372, -80.23287083], \"mode\": \"lines\", \"opacity\": 0.18599562363238512, \"type\": \"scattergeo\", \"uid\": \"729bc72b-2d99-4c25-87b3-fe20c26c5561\"}, {\"lat\": [32.89595056, 33.82921556], \"line\": {\"color\": \"red\", \"width\": 1}, \"locationmode\": \"USA-states\", \"lon\": [-97.0372, -116.5062531], \"mode\": \"lines\", \"opacity\": 0.1838074398249453, \"type\": \"scattergeo\", \"uid\": \"0b60ee7d-f1c6-4fb8-8951-339a9734dca5\"}, {\"lat\": [41.979595, 33.82921556], \"line\": {\"color\": \"red\", \"width\": 1}, \"locationmode\": \"USA-states\", \"lon\": [-87.90446417, -116.5062531], \"mode\": \"lines\", \"opacity\": 0.0700218818380744, \"type\": \"scattergeo\", \"uid\": \"533b3c9b-75a6-40de-b32f-bf81be4b8bc3\"}, {\"lat\": [32.89595056, 35.87763889], \"line\": {\"color\": \"red\", \"width\": 1}, \"locationmode\": \"USA-states\", \"lon\": [-97.0372, -78.78747222], \"mode\": \"lines\", \"opacity\": 0.3041575492341357, \"type\": \"scattergeo\", \"uid\": \"bb7688e2-b0e3-4143-8287-5fb53b4e67c7\"}, {\"lat\": [25.79325, 35.87763889], \"line\": {\"color\": \"red\", \"width\": 1}, \"locationmode\": \"USA-states\", \"lon\": [-80.29055556, -78.78747222], \"mode\": \"lines\", \"opacity\": 0.1838074398249453, \"type\": \"scattergeo\", \"uid\": \"cf271e0a-b028-451d-a14a-cc74f08dc220\"}, {\"lat\": [32.89595056, 26.53616667], \"line\": {\"color\": \"red\", \"width\": 1}, \"locationmode\": \"USA-states\", \"lon\": [-97.0372, -81.75516667], \"mode\": \"lines\", \"opacity\": 0.1838074398249453, \"type\": \"scattergeo\", \"uid\": \"999604b8-4b34-49cd-9630-9bfe35563121\"}, {\"lat\": [41.979595, 26.53616667], \"line\": {\"color\": \"red\", \"width\": 1}, \"locationmode\": \"USA-states\", \"lon\": [-87.90446417, -81.75516667], \"mode\": \"lines\", \"opacity\": 0.1838074398249453, \"type\": \"scattergeo\", \"uid\": \"f5fa66a8-ec1d-4a2d-85f9-c74ce98062d4\"}, {\"lat\": [40.63975111, 32.73355611], \"line\": {\"color\": \"red\", \"width\": 1}, \"locationmode\": \"USA-states\", \"lon\": [-73.77892556, -117.1896567], \"mode\": \"lines\", \"opacity\": 0.061269146608315096, \"type\": \"scattergeo\", \"uid\": \"59e4c5fd-0a98-44e1-ba38-d600d57bb8c3\"}, {\"lat\": [32.89595056, 47.44898194], \"line\": {\"color\": \"red\", \"width\": 1}, \"locationmode\": \"USA-states\", \"lon\": [-97.0372, -122.30931310000001], \"mode\": \"lines\", \"opacity\": 0.4288840262582057, \"type\": \"scattergeo\", \"uid\": \"7041a60e-cda6-45f7-b7f4-07d429ccd828\"}, {\"lat\": [41.979595, 47.44898194], \"line\": {\"color\": \"red\", \"width\": 1}, \"locationmode\": \"USA-states\", \"lon\": [-87.90446417, -122.30931310000001], \"mode\": \"lines\", \"opacity\": 0.23413566739606126, \"type\": \"scattergeo\", \"uid\": \"931a18ac-cce3-4767-9265-234662f671b1\"}, {\"lat\": [21.31869111, 37.61900194], \"line\": {\"color\": \"red\", \"width\": 1}, \"locationmode\": \"USA-states\", \"lon\": [-157.92240719999998, -122.3748433], \"mode\": \"lines\", \"opacity\": 0.061269146608315096, \"type\": \"scattergeo\", \"uid\": \"5dda337d-2cf9-4462-a148-323b00dd9dbf\"}, {\"lat\": [33.94253611, 37.61900194], \"line\": {\"color\": \"red\", \"width\": 1}, \"locationmode\": \"USA-states\", \"lon\": [-118.40807439999999, -122.3748433], \"mode\": \"lines\", \"opacity\": 0.3676148796498906, \"type\": \"scattergeo\", \"uid\": \"d8a5cc6d-e83f-4575-b34e-951a07b78639\"}, {\"lat\": [41.979595, 37.61900194], \"line\": {\"color\": \"red\", \"width\": 1}, \"locationmode\": \"USA-states\", \"lon\": [-87.90446417, -122.3748433], \"mode\": \"lines\", \"opacity\": 0.35667396061269147, \"type\": \"scattergeo\", \"uid\": \"ac867ece-4ac1-439b-b95c-ae3c55974fc3\"}, {\"lat\": [32.89595056, 18.43941667], \"line\": {\"color\": \"red\", \"width\": 1}, \"locationmode\": \"USA-states\", \"lon\": [-97.0372, -66.00183333], \"mode\": \"lines\", \"opacity\": 0.13129102844638948, \"type\": \"scattergeo\", \"uid\": \"412b46a8-1e30-4301-996e-4e3e52ff1062\"}, {\"lat\": [38.94453194, 18.43941667], \"line\": {\"color\": \"red\", \"width\": 1}, \"locationmode\": \"USA-states\", \"lon\": [-77.45580972, -66.00183333], \"mode\": \"lines\", \"opacity\": 0.061269146608315096, \"type\": \"scattergeo\", \"uid\": \"adf334ac-65a9-418c-bd60-29344837d873\"}, {\"lat\": [40.63975111, 18.43941667], \"line\": {\"color\": \"red\", \"width\": 1}, \"locationmode\": \"USA-states\", \"lon\": [-73.77892556, -66.00183333], \"mode\": \"lines\", \"opacity\": 0.1838074398249453, \"type\": \"scattergeo\", \"uid\": \"0f8eb180-e771-4900-9181-3a87613f7fbe\"}, {\"lat\": [33.94253611, 18.43941667], \"line\": {\"color\": \"red\", \"width\": 1}, \"locationmode\": \"USA-states\", \"lon\": [-118.40807439999999, -66.00183333], \"mode\": \"lines\", \"opacity\": 0.0175054704595186, \"type\": \"scattergeo\", \"uid\": \"a36f3376-abed-4156-957b-bc40dc651ead\"}, {\"lat\": [32.89595056, 38.69542167], \"line\": {\"color\": \"red\", \"width\": 1}, \"locationmode\": \"USA-states\", \"lon\": [-97.0372, -121.5907669], \"mode\": \"lines\", \"opacity\": 0.24507658643326038, \"type\": \"scattergeo\", \"uid\": \"aa5f8829-1649-49d6-9267-68cec9f652c8\"}, {\"lat\": [32.89595056, 33.67565861], \"line\": {\"color\": \"red\", \"width\": 1}, \"locationmode\": \"USA-states\", \"lon\": [-97.0372, -117.86822250000002], \"mode\": \"lines\", \"opacity\": 0.6323851203501094, \"type\": \"scattergeo\", \"uid\": \"0de02d28-1a40-4adf-89e5-fb184bca0c15\"}, {\"lat\": [41.979595, 33.67565861], \"line\": {\"color\": \"red\", \"width\": 1}, \"locationmode\": \"USA-states\", \"lon\": [-87.90446417, -117.86822250000002], \"mode\": \"lines\", \"opacity\": 0.16630196936542668, \"type\": \"scattergeo\", \"uid\": \"88f79650-21dd-4ee1-bb6a-9bd6a49a5ff2\"}, {\"lat\": [38.85208333, 38.74768694], \"line\": {\"color\": \"red\", \"width\": 1}, \"locationmode\": \"USA-states\", \"lon\": [-77.03772222, -90.35998972], \"mode\": \"lines\", \"opacity\": 0.2188183807439825, \"type\": \"scattergeo\", \"uid\": \"bdfc6e65-b38f-4f36-9f43-f3bbbcd530ff\"}, {\"lat\": [25.79325, 38.74768694], \"line\": {\"color\": \"red\", \"width\": 1}, \"locationmode\": \"USA-states\", \"lon\": [-80.29055556, -90.35998972], \"mode\": \"lines\", \"opacity\": 0.1838074398249453, \"type\": \"scattergeo\", \"uid\": \"6ae6b9bd-7664-4907-90af-a1696d44d155\"}, {\"lat\": [25.79325, 18.33730556], \"line\": {\"color\": \"red\", \"width\": 1}, \"locationmode\": \"USA-states\", \"lon\": [-80.29055556, -64.97336111], \"mode\": \"lines\", \"opacity\": 0.12253829321663019, \"type\": \"scattergeo\", \"uid\": \"4bd63005-2368-4b1d-a1a6-4c7c8d15dd0a\"}, {\"lat\": [25.79325, 17.70188889], \"line\": {\"color\": \"red\", \"width\": 1}, \"locationmode\": \"USA-states\", \"lon\": [-80.29055556, -64.79855556], \"mode\": \"lines\", \"opacity\": 0.06783369803063458, \"type\": \"scattergeo\", \"uid\": \"0d85345d-e75c-4d77-a208-07009b246451\"}, {\"lat\": [32.89595056, 27.97547222], \"line\": {\"color\": \"red\", \"width\": 1}, \"locationmode\": \"USA-states\", \"lon\": [-97.0372, -82.53325], \"mode\": \"lines\", \"opacity\": 0.4288840262582057, \"type\": \"scattergeo\", \"uid\": \"f56a358a-6e94-4946-8593-d2761731bd50\"}, {\"lat\": [25.79325, 27.97547222], \"line\": {\"color\": \"red\", \"width\": 1}, \"locationmode\": \"USA-states\", \"lon\": [-80.29055556, -82.53325], \"mode\": \"lines\", \"opacity\": 0.32603938730853393, \"type\": \"scattergeo\", \"uid\": \"377c51a7-0034-4837-9956-e5fa34d7bba7\"}, {\"lat\": [41.979595, 27.97547222], \"line\": {\"color\": \"red\", \"width\": 1}, \"locationmode\": \"USA-states\", \"lon\": [-87.90446417, -82.53325], \"mode\": \"lines\", \"opacity\": 0.16411378555798686, \"type\": \"scattergeo\", \"uid\": \"e4f49cbf-84b8-4fb6-9e41-9966dce11161\"}, {\"lat\": [18.43941667, 27.97547222], \"line\": {\"color\": \"red\", \"width\": 1}, \"locationmode\": \"USA-states\", \"lon\": [-66.00183333, -82.53325], \"mode\": \"lines\", \"opacity\": 0.061269146608315096, \"type\": \"scattergeo\", \"uid\": \"770ee9ba-377e-42af-ba47-519c2198c887\"}, {\"lat\": [32.89595056, 36.19837222], \"line\": {\"color\": \"red\", \"width\": 1}, \"locationmode\": \"USA-states\", \"lon\": [-97.0372, -95.88824167], \"mode\": \"lines\", \"opacity\": 0.42669584245076586, \"type\": \"scattergeo\", \"uid\": \"9ee5f652-91a9-410d-bb79-2a01e044a73b\"}, {\"lat\": [32.89595056, 32.11608333], \"line\": {\"color\": \"red\", \"width\": 1}, \"locationmode\": \"USA-states\", \"lon\": [-97.0372, -110.94102779999999], \"mode\": \"lines\", \"opacity\": 0.45842450765864334, \"type\": \"scattergeo\", \"uid\": \"b374c675-1bab-4887-80c8-91d9611b0b65\"}, {\"hoverinfo\": \"text\", \"lat\": [41.979595, 33.64044444, 32.89595056, 33.43416667, 39.85840806, 29.98047222, 37.61900194, 33.94253611, 28.42888889, 35.21401111, 40.78838778, 27.97547222, 40.69249722, 36.08036111, 39.87195278, 44.88054694, 47.44898194, 40.77724306, 41.7859825, 38.94453194, 32.73355611, 38.74768694, 42.21205889, 40.63975111, 25.79325, 42.3643475, 38.69542167, 39.17540167, 33.67565861, 29.99338889, 37.36186194, 38.85208333, 45.58872222, 26.53616667, 26.68316194, 35.87763889, 29.64541861, 29.53369444, 26.07258333, 39.29760528, 37.72129083, 40.49146583, 35.04241667, 42.94722222, 41.41089417, 30.49405556, 32.11608333, 39.71732917, 39.49857611, 35.39308833, 41.72399917, 36.19837222, 39.04614278, 39.99798528, 38.17438889, 34.056, 34.72939611, 32.84711389, 41.30251861, 36.89461111, 39.90237583, 43.11886611, 36.28186944, 36.12447667, 35.04022222, 32.31116667, 31.80666667, 37.50516667, 41.93887417, 31.94252778, 30.53316083, 35.81248722, 38.80580556, 30.47330556, 43.11118694, 33.56294306, 42.93451639, 33.82921556, 27.39533333, 27.77036083, 34.6404475, 33.93884, 30.20527972, 34.42621194, 47.61985556, 30.69141667, 37.64995889, 42.94052472, 41.53493306, 40.19349528, 43.64616667, 32.30064417, 37.13189556, 41.06695778, 36.5869825, 42.88081972, 30.448674, 32.65658333, 39.22316, 30.39652778, 30.40728028, 44.04532139, 33.81772222, 34.27061111, 38.03697222, 43.13985778, 44.123259999999995, 32.12758333, 33.66363889, 41.88458833, 34.89566722, 36.09774694, 40.7952425, 41.44852639, 35.43619444, 40.91631194, 40.47798556, 26.22850611, 30.48325, 32.446627500000005, 46.91934889, 40.48118028, 42.37422778, 40.66424333, 27.54373861, 30.19453278, 32.41132, 37.24432611, 42.96550333, 36.47521417, 31.06489778, 32.89864639, 44.48507333, 44.25406722, 32.51633333, 41.70895361, 43.56444444, 33.67975, 48.25937778, 40.03925, 37.32546833, 39.64256778, 43.60732417, 45.77690139, 39.1224125, 34.20061917, 38.03799139, 38.53396333, 43.51455556, 36.77619444, 39.84395194, 26.17583333, 40.50898361, 47.949255, 43.58135111, 42.48180389, 34.89924833, 42.91130556, 31.32133917, 34.82916444, 38.50886722, 46.77411111, 42.90835556, 44.74144472, 32.51086556, 46.26468028, 39.14096722, 31.32737167, 43.41713889, 35.61677778, 42.15614361, 41.50409361, 38.13863889, 30.7825, 44.77761917, 35.65884306, 40.97811528, 31.25902778, 40.85097222, 40.97846583, 44.52019417, 37.06083333, 35.23705806, 41.33814944, 33.45033444, 44.34889806, 35.07297222, 33.369955, 35.33659028, 32.35413889, 46.60681806, 47.48200194, 32.33313333, 46.353639, 37.95375861, 35.03526833, 46.37449806, 37.70097028, 42.74811944, 44.47300361, 48.31140472, 28.10275, 29.17991667, 40.65236278, 46.84209028, 41.155722499999996, 41.5942175, 37.85830556, 38.37315083, 48.79275, 37.62404861, 44.25740806, 36.385913, 27.91076333, 33.98879611, 34.99147222, 44.86525722, 42.40295944, 43.90882639, 34.681499, 45.8076625], \"locationmode\": \"USA-states\", \"lon\": [-87.90446417, -84.42694444, -97.0372, -112.00805559999999, -104.6670019, -95.33972222, -122.3748433, -118.40807439999999, -81.31602778, -80.94312583, -111.9777731, -82.53325, -74.16866056, -115.15233329999998, -75.24114083, -93.2169225, -122.30931310000001, -73.87260917, -87.75242444, -77.45580972, -117.1896567, -90.35998972, -83.34883583, -73.77892556, -80.29055556, -71.00517917, -121.5907669, -76.66819833, -117.86822250000002, -90.25802778, -121.92900890000001, -77.03772222, -122.5975, -81.75516667, -80.09559417, -78.78747222, -95.27888889, -98.46977778, -80.15275, -94.71390556, -122.22071670000001, -80.23287083, -89.97666667, -87.89658333, -81.84939667, -81.68786111, -110.94102779999999, -86.29438417, -119.76806470000001, -97.60073389, -71.42822111, -95.88824167, -84.6621725, -82.89188278, -85.736, -117.60119440000001, -92.22424556, -96.85177222, -95.89417306, -76.20122222, -84.219375, -77.67238389, -94.30681111, -86.67818222, -106.6091944, -90.07588889, -106.37780559999999, -77.31966667, -72.68322833, -102.20191390000001, -91.14963444, -83.99285583, -104.70025, -87.18744444, -76.10631056, -86.75354972, -71.43705583, -116.5062531, -82.55411111, -97.50121528, -86.77310944, -81.11953944, -91.987655, -119.8403733, -117.5338425, -88.24283333, -97.43304583, -78.73216667, -93.66068222, -76.76340361, -70.30875, -86.39397611, -76.4929875, -73.70757444, -121.84294779999999, -85.52276778, -84.550781, -114.60597220000001, -106.868845, -84.35033333, -89.07009278, -103.0573708, -118.1516111, -77.90255556, -84.60538889, -89.33751361, -123.21868559999999, -81.20213889, -101.8227778, -91.71087222, -82.21885833, -79.9372975, -73.10021194, -90.50753917, -82.54180556, -81.44246556, -88.91595278, -97.65439389, -86.5254, -93.82559833, -96.81498889, -107.21765970000001, -122.8734978, -89.69330556, -99.46154361, -97.66987194, -99.68189722, -93.38685806, -83.74345639, -82.40742056, -97.82779778, -80.04050583, -88.12959000000001, -121.1499633, -84.93886111, -86.31847417, -116.22277779999999, -78.92833333, -101.2803339, -88.27805556, -79.97542833, -106.91769529999999, -110.7377389, -111.15300719999999, -108.5267347, -118.3584969, -87.53062667, -106.9331817, -112.07016670000002, -119.7181389, -89.67761861, -98.23861111, -122.2934019, -97.17611111, -96.74170028, -114.4877356, -120.4575825, -112.59586110000001, -85.44962889, -77.61213778, -107.89383329999998, -100.74672220000001, -106.46446609999998, -85.582235, -92.03768778, -119.11902920000001, -96.67083278, -92.54855611, -124.2460278, -106.08813889999999, -121.7332081, -74.10483833, -78.45286111, -83.27672222, -89.66677944, -117.8295122, -124.1086189, -81.46630556, -96.75925, -85.19514639, -109.02379609999998, -88.77375, -120.64239309999999, -75.72426750000001, -88.59136861, -105.5393614, -77.04294444, -81.96449611, -94.36744111, -95.40238611, -111.9827503, -111.37068529999999, -88.75120556, -87.395361, -107.90848000000001, -85.20378778, -117.01539440000002, -113.098575, -73.80297861, -73.1503125, -114.25506940000001, -80.64580556, -81.05805556, -75.44040167, -92.19364861, -104.81183809999999, -109.0651928, -80.39947222, -81.59318972, -122.53752779999999, -118.8377722, -88.51947556, -92.548828, -82.68743944, -98.49189333, -78.88, -91.48507194, -90.70916722, -92.49798722, -90.348816, -108.54286110000001], \"marker\": {\"color\": \"rgb(255, 0, 0)\", \"line\": {\"color\": \"rgba(68, 68, 68, 0)\", \"width\": 3}, \"size\": 2}, \"mode\": \"markers\", \"text\": [\"Chicago O'Hare International\", \"William B Hartsfield-Atlanta Intl\", \"Dallas-Fort Worth International\", \"Phoenix Sky Harbor International\", \"Denver Intl\", \"George Bush Intercontinental\", \"San Francisco International\", \"Los Angeles International\", \"Orlando International\", \"Charlotte/Douglas International\", \"Salt Lake City Intl\", \"Tampa International \", \"Newark Intl\", \"McCarran International\", \"Philadelphia Intl\", \"Minneapolis-St Paul Intl\", \"Seattle-Tacoma Intl\", \"LaGuardia\", \"Chicago Midway\", \"Washington Dulles International\", \"San Diego International-Lindbergh \", \"Lambert-St Louis International\", \"Detroit Metropolitan-Wayne County\", \"John F Kennedy Intl\", \"Miami International\", \"Gen Edw L Logan Intl\", \"Sacramento International\", \"Baltimore-Washington International\", \"John Wayne /Orange Co\", \"New Orleans International \", \"San Jose International\", \"Ronald Reagan Washington National\", \"Portland Intl\", \"Southwest Florida International\", \"Palm Beach International\", \"Raleigh-Durham International\", \"William P Hobby\", \"San Antonio International\", \"Fort Lauderdale-Hollywood Int'l\", \"Kansas City International\", \"Metropolitan Oakland International\", \"Pittsburgh International\", \"Memphis International\", \"General Mitchell International\", \"Cleveland-Hopkins Intl\", \"Jacksonville International\", \"Tucson International\", \"Indianapolis International\", \"Reno/Tahoe International\", \"Will Rogers World\", \"Theodore F Green State\", \"Tulsa International\", \"Cincinnati Northern Kentucky Intl\", \"Port Columbus Intl\", \"Louisville International-Standiford \", \"Ontario International\", \"Adams \", \"Dallas Love \", \"Eppley Airfield\", \"Norfolk International\", \"James M Cox Dayton Intl\", \"Greater Rochester Int'l\", \"Northwest Arkansas Regional\", \"Nashville International\", \"Albuquerque International\", \"Jackson International\", \"El Paso International\", \"Richmond International\", \"Bradley International\", \"Midland International\", \"Baton Rouge Metropolitan, Ryan \", \"McGhee-Tyson\", \"City of Colorado Springs Muni\", \"Pensacola Regional\", \"Syracuse-Hancock Intl\", \"Birmingham International\", \"Manchester\", \"Palm Springs International\", \"Sarasota Bradenton International\", \"Corpus Christi International\", \"Huntsville International \", \"Columbia Metropolitan\", \"Lafayette Regional\", \"Santa Barbara Municipal\", \"Spokane Intl\", \"Mobile Regional\", \"Wichita Mid-Continent\", \"Buffalo Niagara Intl\", \"Des Moines International\", \"Harrisburg Intl\", \"Portland International Jetport\", \"Montgomery Regional Apt\", \"Newport News/Williamsburg International\", \"Westchester Cty\", \"Monterey Peninsula\", \"Kent County International\", \"Florida Beach\", \"Yuma MCAS-Yuma International\", \"Aspen-Pitkin Co/Sardy \", \"Tallahassee Regional\", \"Gulfport-Biloxi Regional\", \"Rapid City Regional\", \"Long Beach (Daugherty )\", \"Wilmington International\", \"Blue Grass \", \"Dane County Regional\", \"Mahlon Sweet \", \"Savannah International\", \"Lubbock International\", \"Eastern Iowa \", \"Greenville-Spartanburg\", \"Piedmont Triad International\", \"Long Island - MacArthur\", \"Quad City\", \"Asheville Regional\", \"Akron-Canton Regional\", \"Central Illinois Regional\", \"Valley International\", \"Eglin Air Force Base\", \"Shreveport Regional\", \"Hector International\", \"Yampa Valley\", \"Rogue Valley International\", \"Greater Peoria Regional\", \"Laredo International\", \"Austin-Bergstrom International\", \"Abilene Regional\", \"Springfield-Branson Regional\", \"Bishop\", \"Tri-Cities Regional\", \"Robert Gray AAF\", \"Charleston AFB/International\", \"Austin Straubel International\", \"Roberts \", \"Columbus Metropolitan\", \"South Bend Regional\", \"Boise Air Terminal\", \"Myrtle Beach International\", \"Minot International\", \"University of Illinois-Willard\", \"Roanoke Regional/ Woodrum \", \"Eagle County Regional\", \"Jackson Hole\", \"Gallatin \", \"Walker \", \"Burbank-Glendale-Pasadena\", \"Evansville Regional\", \"Gunnison County\", \"Idaho Falls Regional\", \"Fresno Yosemite International\", \"Capital\", \"McAllen Miller International\", \"Redding Municipal\", \"Grand Forks International\", \"Joe Foss \", \"Joslin Field - Magic Valley\", \"Santa Maria Pub/Capt G Allan Hancock \", \"Pocatello Regional\", \"Dothan \", \"Albert J Ellis\", \"Montrose Regional\", \"Bismarck Municipal\", \"Natrona County Intl\", \"Cherry Capital\", \"Monroe Regional\", \"Tri-Cities\", \"Manhattan Regional\", \"Alexandria International\", \"North Bend Muni\", \"Santa Fe Municipal\", \"Klamath Falls International\", \"Stewart\", \"Charlottesville-Albermarle\", \"Valdosta Regional\", \"Central Wisconsin\", \"Inyokern\", \"Arcata\", \"Glynco Jetport\", \"Lincoln Municipal\", \"Fort Wayne International\", \"Yellowstone Regional\", \"Barkley Regional\", \"San Luis Obispo Co-McChesney \", \"Wilkes-Barre/Scranton Intl\", \"Golden Triangle Regional\", \"Gillette-Campbell County\", \"Craven County Regional\", \"Bush \", \"Fort Smith Regional\", \"Tyler Pounds \", \"Helena Regional\", \"Great Falls Intl\", \"Key \", \"Marquette County Airport\", \"Telluride Regional\", \"Lovell \", \"Lewiston-Nez Perce County\", \"Cedar City Muni\", \"Albany Cty\", \"Burlington International\", \"Glacier Park Intl\", \"Melbourne International \", \"Daytona Beach International\", \"Lehigh Valley International\", \"Duluth International\", \"Cheyenne\", \"Rock Springs-Sweetwater County\", \"Greenbrier Valley\", \"Yeager\", \"Bellingham Intl\", \"Mammoth Yosemite\", \"Outagamie County Regional\", \"Branson Airport\", \"St. Petersburg-Clearwater International\", \"Sheppard AFB/Wichita Falls Municipal\", \"Fayetteville Municipal\", \"Chippewa Valley Regional\", \"Dubuque Municipal\", \"Rochester International\", \"Tunica Municipal Airport\", \"Billings Logan Intl\"], \"type\": \"scattergeo\", \"uid\": \"da70b3ab-9676-4ab5-9d41-335986715c86\"}], {\"geo\": {\"countrycolor\": \"rgb(204, 204, 204)\", \"landcolor\": \"rgb(243, 243, 243)\", \"projection\": {\"type\": \"azimuthal equal area\"}, \"scope\": \"north america\", \"showland\": true}, \"showlegend\": false, \"title\": \"Feb. 2011 American Airline flight paths<br>(Hover for airport names)\"}, {\"showLink\": true, \"linkText\": \"Export to plot.ly\", \"plotlyServerURL\": \"https://plot.ly\"})});</script><script type=\"text/javascript\">window.addEventListener(\"resize\", function(){window._Plotly.Plots.resize(document.getElementById(\"a986bef7-8c4d-4ce0-9421-58732fca12be\"));});</script>"
      ]
     },
     "metadata": {},
     "output_type": "display_data"
    }
   ],
   "source": [
    "df_airports = pd.read_csv('https://raw.githubusercontent.com/plotly/datasets/master/2011_february_us_airport_traffic.csv')\n",
    "df_airports.head()\n",
    "\n",
    "df_flight_paths = pd.read_csv('https://raw.githubusercontent.com/plotly/datasets/master/2011_february_aa_flight_paths.csv')\n",
    "df_flight_paths.head()\n",
    "\n",
    "airports = [ dict(\n",
    "        type = 'scattergeo',\n",
    "        locationmode = 'USA-states',\n",
    "        lon = df_airports['long'],\n",
    "        lat = df_airports['lat'],\n",
    "        hoverinfo = 'text',\n",
    "        text = df_airports['airport'],\n",
    "        mode = 'markers',\n",
    "        marker = dict( \n",
    "            size=2, \n",
    "            color='rgb(255, 0, 0)',\n",
    "            line = dict(\n",
    "                width=3,\n",
    "                color='rgba(68, 68, 68, 0)'\n",
    "            )\n",
    "        ))]\n",
    "        \n",
    "flight_paths = []\n",
    "for i in range( len( df_flight_paths ) ):\n",
    "    flight_paths.append(\n",
    "        dict(\n",
    "            type = 'scattergeo',\n",
    "            locationmode = 'USA-states',\n",
    "            lon = [ df_flight_paths['start_lon'][i], df_flight_paths['end_lon'][i] ],\n",
    "            lat = [ df_flight_paths['start_lat'][i], df_flight_paths['end_lat'][i] ],\n",
    "            mode = 'lines',\n",
    "            line = dict(\n",
    "                width = 1,\n",
    "                color = 'red',\n",
    "            ),\n",
    "            opacity = float(df_flight_paths['cnt'][i])/float(df_flight_paths['cnt'].max()),\n",
    "        )\n",
    "    )\n",
    "    \n",
    "layout = dict(\n",
    "        title = 'Feb. 2011 American Airline flight paths<br>(Hover for airport names)',\n",
    "        showlegend = False, \n",
    "        geo = dict(\n",
    "            scope='north america',\n",
    "            projection=dict( type='azimuthal equal area' ),\n",
    "            showland = True,\n",
    "            landcolor = 'rgb(243, 243, 243)',\n",
    "            countrycolor = 'rgb(204, 204, 204)',\n",
    "        ),\n",
    "    )\n",
    "    \n",
    "fig = dict( data=flight_paths + airports, layout=layout )\n",
    "iplot( fig, filename='d3-flight-paths' )"
   ]
  },
  {
   "cell_type": "markdown",
   "metadata": {},
   "source": [
    "### Задание\n",
    "\n",
    "Визуализируйте маршруты из Австралии аналогично примеру. \n",
    "Обязательно использовать ранее собранную Вами базу (только из Австралийских международных аэрапортов).\n",
    "Прозрачность линии зависит от количества рейсов.\n",
    "Первые три правильные визуализации получат дополнительные быллы в новом семестре, \n",
    "и не забутьте про аэропорт DOH"
   ]
  }
 ],
 "metadata": {
  "kernelspec": {
   "display_name": "Python 3",
   "language": "python",
   "name": "python3"
  },
  "language_info": {
   "codemirror_mode": {
    "name": "ipython",
    "version": 3
   },
   "file_extension": ".py",
   "mimetype": "text/x-python",
   "name": "python",
   "nbconvert_exporter": "python",
   "pygments_lexer": "ipython3",
   "version": "3.6.5"
  }
 },
 "nbformat": 4,
 "nbformat_minor": 2
}
